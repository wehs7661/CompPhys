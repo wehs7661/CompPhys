{
 "cells": [
  {
   "cell_type": "markdown",
   "metadata": {
    "nbgrader": {
     "grade": false,
     "grade_id": "cell-100899e0deea9789",
     "locked": true,
     "schema_version": 1,
     "solution": false
    }
   },
   "source": [
    "# Homework 1\n",
    "\n",
    "## Physics 7810\n",
    "## Due January 27, 2020"
   ]
  },
  {
   "cell_type": "markdown",
   "metadata": {
    "nbgrader": {
     "grade": false,
     "grade_id": "cell-66620da88b06fd9e",
     "locked": true,
     "schema_version": 1,
     "solution": false
    }
   },
   "source": [
    "## H1.1 - Ordinary differential equation (ODE) solvers\n",
    "\n",
    "In the first tutorial, you solved the equations of motion for the 1D simple harmonic oscillator (SHO) using various simple integration algorithms (Euler, symplectic Euler, and velocity Verlet). This is an example of an *initial value problem*. A number of sophisticated, general-purpose ODE solvers exist to solve such problems, based on algorithms such as the Runge-Kutta and predictor-corrector methods, with enhancements such as variable step size and Richardson extrapolation to control and maintain accuracy.\n",
    "\n",
    "While symplectic integrators such as velocity Verlet are well-suited for Hamiltonian systems (where the energy is conserved), these more general ODE solvers are typically the methods of choice for solving systems of differential equations where there is no conserved energy or Hamiltonian.\n",
    "\n",
    "Revisit the 1D SHO, and solve the equations of motion using one of these general purpose methods (the widely used implicit Runge-Kutta method of order 5(4) (RK45) might be a good choice). A number of ODE solvers (including RK45) are available in the `scipy.integrate` library, which can be imported using `import scipy.integrate as integrate`.\n",
    "\n",
    "As a reminder, Hamilton's equations of motion for the 1D SHO are:\n",
    "\n",
    "$$\\dot{X} = \\frac{\\partial \\cal{H}}{\\partial P} = P$$\n",
    "\n",
    "$$\\dot{P} = - \\frac{\\partial \\cal{H}}{\\partial X} = - X,$$\n",
    "\n",
    "Write a python program to integrate these equations of motion using RK45 (`scipy.integrate.RK45`) and compare the results with those obtained using the velocity Verlet algorithm on both short timescales (a few periods of oscillation) and very long timescales (thousands of periods of oscillation), e.g., by making phase space plots and energy plots. Is the RK45 algorithm stable, or does the energy drift over long timescales? Compare the relative short-time accuracies of RK45 and velocity Verlet by measuring the amplitude (standard deviation) of energy fluctuations about the exact value ($E = 1$)."
   ]
  },
  {
   "cell_type": "markdown",
   "metadata": {},
   "source": []
  },
  {
   "cell_type": "markdown",
   "metadata": {
    "nbgrader": {
     "grade": false,
     "grade_id": "cell-66620da88b06fd9e",
     "locked": true,
     "schema_version": 1,
     "solution": false
    }
   },
   "source": [
    "## H1.2 - Motion in a central force potential\n",
    "\n",
    "Write a python program to simulate the motion of a particle in a central force potential in two dimensions. Take the form of the potential to be\n",
    "\n",
    "$$\n",
    "U({\\bf r}) = u r^n,\n",
    "$$\n",
    "\n",
    "where ${\\bf r} = (x,y)$ is the 2D position of the particle, $r = |{\\bf r}|$, and $n$ is a positive integer.\n",
    "\n",
    "First write down the Hamiltonian for this system, and derive Hamilton's equations of motion. Then use the velocity Verlet algorithm to numerically integrate the equations of motion for a few specific cases, say $n = 2$ (2D simple harmonic oscillator) and $n = 4$. Adjust the timestep to ensure good energy conservation, and plot the trajectory of the particle in the $x-y$ plane for various initial conditions. Verify that the particle has the expected elliptical orbit for $n = 2$, and explore how the nature of the orbit changes with varying $n$.\n",
    "\n",
    "A basic result from classical mechanics is the *virial theorem*, which relates the average kinetic energy $\\langle K \\rangle$ and the average potential energy $\\langle U \\rangle$ for a single particle in a central force potential,\n",
    "\n",
    "$$\n",
    "\\langle K \\rangle = \\frac{n}{2} \\langle U \\rangle,\n",
    "$$\n",
    "\n",
    "where the angle brackets denote an average over an integral number of periods of the motion, or over a sufficiently long timescale that the averages converge to well-defined values (many periods of motion).\n",
    "\n",
    "Verify the virial theorem for a few specific values of $n$, by calculating $\\langle K \\rangle$ and $\\langle U \\rangle$ from long simulation trajectories.\n",
    "\n",
    "Repeat these steps for a central force potential of the form\n",
    "\n",
    "$$\n",
    "U({\\bf r}) = - u r^{-n},\n",
    "$$\n",
    "\n",
    "where $n$ is a positive integer. Of particular interest is the case $n = 1$ (gravitational or Coulomb potential)."
   ]
  },
  {
   "cell_type": "code",
   "execution_count": null,
   "metadata": {},
   "outputs": [],
   "source": []
  }
 ],
 "metadata": {
  "celltoolbar": "Create Assignment",
  "kernelspec": {
   "display_name": "Python 3",
   "language": "python",
   "name": "python3"
  },
  "language_info": {
   "codemirror_mode": {
    "name": "ipython",
    "version": 3
   },
   "file_extension": ".py",
   "mimetype": "text/x-python",
   "name": "python",
   "nbconvert_exporter": "python",
   "pygments_lexer": "ipython3",
   "version": "3.7.3"
  }
 },
 "nbformat": 4,
 "nbformat_minor": 2
}
