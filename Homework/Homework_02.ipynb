{
 "cells": [
  {
   "cell_type": "markdown",
   "metadata": {
    "nbgrader": {
     "grade": false,
     "grade_id": "cell-100899e0deea9789",
     "locked": true,
     "schema_version": 1,
     "solution": false
    }
   },
   "source": [
    "# Homework 2\n",
    "\n",
    "## Physics 7810\n",
    "## Due February 10, 2020"
   ]
  },
  {
   "cell_type": "markdown",
   "metadata": {
    "nbgrader": {
     "grade": false,
     "grade_id": "cell-66620da88b06fd9e",
     "locked": true,
     "schema_version": 1,
     "solution": false
    }
   },
   "source": [
    "## H2.1 - Molecular dynamics of the Lennard-Jones system\n",
    "\n",
    "Write an MD program to simulate the three-dimensional (3D) Lennard-Jones (LJ) system in the $NVE$ ensemble in Python, with separate Python functions for initialization, the MD loop, integration of the equations of motion, the force calculation, etc. Implement periodic boundary conditions, assuming that the $N$ particles in the simulation are initially placed in a cubic box of sidelength $L$ (so the volume $V = L^3$).\n",
    "\n",
    "Refer to Chapter 1 in Allen and Tildesley for the definition of the LJ potential (Section 1.3.2) and for a discussion of how to implement periodic boundary conditions (Section 1.6.4). To calculate the LJ interactions, you'll need to use the *nearest image convention*, which can be implemented in a similar way to periodic boundary conditions, and is discussed in Sections 1.6.3 and 1.6.4 of Allen and Tildesley.\n",
    "\n",
    "This will be very similar in structure to the MD program you wrote for the second tutorial, but in 3D instead of 2D and with periodic boundary conditions, and with a different interaction potential (and no central force potential). \n",
    "\n",
    "To initialize the system, particles can be placed on a regular lattice, or placed at random points within cubic box, taking care to avoid close contacts between pairs of particles. Assign random velocities to the particles initially (sampled from either a uniform or Gaussian distribution). *Hint*: check out the `random` Python library for generating random deviates.\n",
    "\n",
    "Using your simulation code, try to reproduce something resembling Figure 4.3 in Frenkel and Smit, which is a plot of the kinetic, potential, and total energies of the system as a function of the number of timesteps in a simulation of $N = 108$ LJ particles. You may need to vary the integration timestep to obtain stable dynamics. Frenkel and Smit say that this simulation was run at a *dimensionless temperature* of $T^\\ast = 0.728$ and a *dimensionless density* of $\\rho^\\ast = 0.8442$. Try to figure out how these dimensionless thermodynamic variables are defined in terms of the parameters of the LJ potential.\n",
    "\n",
    "We haven't yet discussed how to measure temperature, but you can obtain the average temperature using the equipartition theorem, which gives\n",
    "\n",
    "$$\n",
    "k_B T = \\frac{\\langle 2 K \\rangle}{N_f}.\n",
    "$$\n",
    "\n",
    "Here, $K$ is the kinetic energy, $N_f = 3N - 3$ is the number of quadratic degrees of freedom that contribute to the kinetic energy, and the angle brackets denote a time average (see Chapter 2 in Allen and Tildesley or Chapter 4 in Frenkel and Smit).\n",
    "\n",
    "An *instantaneous* temperature $T(t)$ can also be defined through\n",
    "\n",
    "$$\n",
    "T^{*}(t) = \\frac{k_B T(t)}{\\epsilon} = \\frac{ 2 K(t) }{N_f \\epsilon},\n",
    "$$\n",
    "\n",
    "where $K(t)$ is the instantaneous kinetic energy. Use these expressions to measure the instantaneous and time-averaged temperatures for your simulation of the LJ system, and make a plot of $T^{*}(t)$ as a function of $t$."
   ]
  },
  {
   "cell_type": "markdown",
   "metadata": {},
   "source": [
    "### Solution"
   ]
  },
  {
   "cell_type": "markdown",
   "metadata": {},
   "source": [
    "In addition to the implmentation of periodic boundary condition, minimum image convention, and Newton's law in 3-dimensional space, in this problem we use Lennard-Jones potential rather than central force potential in Tutorial_02. Therefore, to start with, we can similarly derive the force acting on each particle.\n",
    "Specifically, the Hamiltonian of the system in this case is:\n",
    "$$H = \\sum_{i=1}^{N}\\frac{p_{i}^{2}}{2m} + \\sum_{j=1}^{N-1}\\sum_{j=i+1}^{N}4 \\epsilon \\left [ \\left ( \\frac{\\sigma}{r_{ij}} \\right )^{12} - \\left ( \\frac{\\sigma}{r_{ij}} \\right )^{6} \\right ] = \\sum_{i=1}^{N}\\frac{p_{i}^{2}}{2m} + \\sum_{j=1}^{N-1}\\sum_{j=i+1}^{N}4 \\epsilon \\left [ \\sigma^{12} (r_{ij})^{-12} - \\sigma^{6} (r_{ij})^{-6} \\right ]$$\n",
    "\n",
    "Note that \n",
    "$$\\frac{\\partial r_{ij}^{k}}{\\partial x_{i}} = \\frac{\\partial}{\\partial x_{i}}\\left ( \\left [ (x_{i} - x_{i})^{2} + (y_{i} - y_{i})^{2} \\right ]^{k/2} \\right ) = \\frac{k}{2} \\left ( \\left [ (x_{i} - x_{i})^{2} + (y_{i} - y_{i})^{2} \\right ]^{k/2-1} \\right ) \\cdot 2(x_{i}-x_{j}) = k(x_{i} - x_{j})r_{ij}^{k-2} , \\; \\frac{\\partial r_{ij}^{k}}{\\partial x_{i}} = k(y_{i} - y_{j})r_{ij}^{k-2}$$\n",
    "\n",
    "Therefore, we have:\n",
    "$$f_{x, i} = -\\frac{\\partial U(x_{i}, y_{i})}{\\partial x_{i}} = -\\sum_{j \\neq i}^{N} 4 \\epsilon \\left [ \\sigma^{12}(-12)(x_{i} - x_{i})r_{ij}^{-14} - \\sigma^{6}(-6)(x_{i} - x_{i})r_{ij}^{-8} \\right ] = \\sum_{j \\neq i}^{N} (x_{i} - x_{j}) \\left ( \\frac{48 \\epsilon}{r_{ij}^{2}} \\right ) \\left [ \\left ( \\frac{\\sigma}{r_{ij}} \\right )^{12} - \\frac{1}{2} \\left ( \\frac{\\sigma}{r_{ij}} \\right )^{6} \\right ]$$\n",
    "$$f_{y, i} = -\\frac{\\partial U(x_{i}, y_{i})}{\\partial y_{i}} = -\\sum_{j \\neq i}^{N} 4 \\epsilon \\left [ \\sigma^{12}(-12)(y_{i} - y_{i})r_{ij}^{-14} - \\sigma^{6}(-6)(y_{i} - y_{i})r_{ij}^{-8} \\right ] = \\sum_{j \\neq i}^{N} (y_{i} - y_{j}) \\left ( \\frac{48 \\epsilon}{r_{ij}^{2}} \\right ) \\left [ \\left ( \\frac{\\sigma}{r_{ij}} \\right )^{12} - \\frac{1}{2} \\left ( \\frac{\\sigma}{r_{ij}} \\right )^{6} \\right ]$$\n",
    "\n",
    "Also note that $f_{ij} = - f_{ji}$ and there is only one value of $p_{ij}$ between a pair of particles.\n",
    "\n",
    "Refactoring the Python library `MD_NVE.py` used in Tutorial_02 by adding functions accounting for LJ potential, minimum image convention and 3-dimensional Newton's law, we are able to get the simulation results as follows."
   ]
  },
  {
   "cell_type": "markdown",
   "metadata": {},
   "source": [
    "First, let's test if our functions dealing with PBC are working well:"
   ]
  },
  {
   "cell_type": "code",
   "execution_count": 1,
   "metadata": {},
   "outputs": [],
   "source": [
    "import numpy as np\n",
    "import matplotlib.pyplot as plt\n",
    "from numpy.linalg import norm\n",
    "from matplotlib import rc"
   ]
  },
  {
   "cell_type": "code",
   "execution_count": 2,
   "metadata": {},
   "outputs": [
    {
     "name": "stdout",
     "output_type": "stream",
     "text": [
      "x-coords:  [ 0.   0.   0.   0.6  0.  -0.6  0.6  0.   0.3]\n",
      "y-coords:  [ 0.3  0.3 -0.3 -0.6  0.  -0.3  0.3 -0.3 -0.3]\n",
      "distance without PBC:  0.6\n",
      "distance with PBC:  0.6\n",
      "\n",
      "\n",
      "x-coords:  [ 0.   0.   0.   5.6  0.  -0.6  0.6  0.   0.3]\n",
      "y-coords:  [ 0.3  0.3 -0.3 -0.6  0.  -0.3  0.3 -0.3 -0.3]\n",
      "distance without PBC:  5.6\n",
      "distance with PBC:  0.40000000000000036\n",
      "\n",
      "\n",
      "x-coords:  [ 0.   0.   0.  -0.4  0.  -0.6  0.6  0.   0.3]\n",
      "y-coords:  [ 0.3  0.3 -0.3 -0.6  0.  -0.3  0.3 -0.3 -0.3]\n",
      "distance without PBC:  0.40000000000000036\n",
      "distance with PBC:  0.40000000000000036\n",
      "\n",
      "\n"
     ]
    },
    {
     "data": {
      "image/png": "[encoded data removed]",
      "text/plain": [
       "<Figure size 432x288 with 1 Axes>"
      ]
     },
     "metadata": {},
     "output_type": "display_data"
    },
    {
     "data": {
      "image/png": "[encoded data removed]",
      "text/plain": [
       "<Figure size 432x288 with 1 Axes>"
      ]
     },
     "metadata": {},
     "output_type": "display_data"
    },
    {
     "data": {
      "image/png": "[encoded data removed]",
      "text/plain": [
       "<Figure size 432x288 with 1 Axes>"
      ]
     },
     "metadata": {},
     "output_type": "display_data"
    }
   ],
   "source": [
    "def plot_PBC(coords, box_length=2):\n",
    "    l = len(coords)\n",
    "    print('x-coords: ', coords.reshape(2,  len(coords))[0])\n",
    "    print('y-coords: ', coords.reshape(2,  len(coords))[1])\n",
    "    #print('\\n')\n",
    "    plt.figure()\n",
    "    plt.scatter(coords[:, 0], coords[:, 1])\n",
    "    plt.xlim([-0.5 * box_length, 0.5 * box_length])\n",
    "    plt.ylim([-0.5 * box_length, 0.5 * box_length])\n",
    "    \n",
    "def PBC_dist(coord_i, coord_j, box_length):\n",
    "    r_ij = coord_i - coord_j\n",
    "    dist1 = norm(r_ij)\n",
    "    print('distance without PBC: ', dist1)\n",
    "    \n",
    "    r_ij = r_ij - box_length * np.round(r_ij / box_length)\n",
    "    dist2 = norm(r_ij)\n",
    "    print('distance with PBC: ', dist2)\n",
    "    print('\\n')\n",
    "    \n",
    "box_length = 2\n",
    "    \n",
    "coords = np.array([[0, 0], [0, 0.6], [0, -0.6], [0.6, 0], [0.3, 0.3], [0.3, -0.3], [-0.6, 0], [-0.3, 0.3], [-0.3, -0.3]])\n",
    "plot_PBC(coords)\n",
    "PBC_dist(coords[0], coords[1], box_length)\n",
    "\n",
    "coords[1][1] += 5\n",
    "plot_PBC(coords)\n",
    "PBC_dist(coords[0], coords[1], box_length)\n",
    "\n",
    "coords -= box_length * np.round(coords / box_length)\n",
    "plot_PBC(coords)\n",
    "PBC_dist(coords[0], coords[1], 2)"
   ]
  },
  {
   "cell_type": "markdown",
   "metadata": {},
   "source": [
    "From the figure above, we can clearly see that the functions dealing with the periodic boundary conditions worked well, in terms of the visualization and the calculation of the interparticle distances. Validating this, we now move on to run an MD simulation with the following parameters read from the file `Homework_02.yml`."
   ]
  },
  {
   "cell_type": "code",
   "execution_count": 3,
   "metadata": {},
   "outputs": [],
   "source": [
    "import sys\n",
    "sys.path.insert(1, '../')  # so the system can locate the library folder\n",
    "from CompPhysLib.MD_NVE import *"
   ]
  },
  {
   "cell_type": "code",
   "execution_count": 4,
   "metadata": {},
   "outputs": [],
   "source": [
    "mdp = MDParameters('Homework_02.yml')\n",
    "MD = MolecularDynamics('Homework_02.yml')\n",
    "#MD.PBC = 'yes'\n",
    "#MD.verlet_integration(MD.velocities, MD.coords)"
   ]
  },
  {
   "cell_type": "code",
   "execution_count": 5,
   "metadata": {},
   "outputs": [
    {
     "ename": "TypeError",
     "evalue": "unsupported operand type(s) for /: 'list' and 'float'",
     "output_type": "error",
     "traceback": [
      "\u001b[1;31m---------------------------------------------------------------------------\u001b[0m",
      "\u001b[1;31mTypeError\u001b[0m                                 Traceback (most recent call last)",
      "\u001b[1;32m<ipython-input-5-12ce81a55ea1>\u001b[0m in \u001b[0;36m<module>\u001b[1;34m()\u001b[0m\n\u001b[0;32m      2\u001b[0m \u001b[0mMD\u001b[0m\u001b[1;33m.\u001b[0m\u001b[0mverlet_integration\u001b[0m\u001b[1;33m(\u001b[0m\u001b[0mMD\u001b[0m\u001b[1;33m.\u001b[0m\u001b[0mvelocities\u001b[0m\u001b[1;33m,\u001b[0m \u001b[0mMD\u001b[0m\u001b[1;33m.\u001b[0m\u001b[0mcoords\u001b[0m\u001b[1;33m)\u001b[0m\u001b[1;33m\u001b[0m\u001b[0m\n\u001b[0;32m      3\u001b[0m \u001b[0mMDA\u001b[0m \u001b[1;33m=\u001b[0m \u001b[0mMDAnalysis\u001b[0m\u001b[1;33m(\u001b[0m\u001b[1;34m'Homework_02.yml'\u001b[0m\u001b[1;33m,\u001b[0m \u001b[1;34m'MD_traj.yml'\u001b[0m\u001b[1;33m)\u001b[0m\u001b[1;33m\u001b[0m\u001b[0m\n\u001b[1;32m----> 4\u001b[1;33m \u001b[0mMDA\u001b[0m\u001b[1;33m.\u001b[0m\u001b[0mplot_energy\u001b[0m\u001b[1;33m(\u001b[0m\u001b[1;33m)\u001b[0m\u001b[1;33m\u001b[0m\u001b[0m\n\u001b[0m",
      "\u001b[1;32m~\\Downloads\\Computational_Physics\\CompPhys\\CompPhysLib\\MD_NVE.py\u001b[0m in \u001b[0;36mplot_energy\u001b[1;34m(self)\u001b[0m\n\u001b[0;32m    438\u001b[0m     \u001b[1;32mdef\u001b[0m \u001b[0mplot_energy\u001b[0m\u001b[1;33m(\u001b[0m\u001b[0mself\u001b[0m\u001b[1;33m)\u001b[0m\u001b[1;33m:\u001b[0m\u001b[1;33m\u001b[0m\u001b[0m\n\u001b[0;32m    439\u001b[0m         \u001b[0mplt\u001b[0m\u001b[1;33m.\u001b[0m\u001b[0mfigure\u001b[0m\u001b[1;33m(\u001b[0m\u001b[1;33m)\u001b[0m\u001b[1;33m\u001b[0m\u001b[0m\n\u001b[1;32m--> 440\u001b[1;33m         \u001b[0mx\u001b[0m \u001b[1;33m=\u001b[0m \u001b[0mself\u001b[0m\u001b[1;33m.\u001b[0m\u001b[0mtime\u001b[0m \u001b[1;33m/\u001b[0m \u001b[0mself\u001b[0m\u001b[1;33m.\u001b[0m\u001b[0mdt\u001b[0m\u001b[1;33m\u001b[0m\u001b[0m\n\u001b[0m\u001b[0;32m    441\u001b[0m         \u001b[0mplt\u001b[0m\u001b[1;33m.\u001b[0m\u001b[0mplot\u001b[0m\u001b[1;33m(\u001b[0m\u001b[0mx\u001b[0m\u001b[1;33m,\u001b[0m \u001b[0mnp\u001b[0m\u001b[1;33m.\u001b[0m\u001b[0marray\u001b[0m\u001b[1;33m(\u001b[0m\u001b[0mself\u001b[0m\u001b[1;33m.\u001b[0m\u001b[0mE_k\u001b[0m\u001b[1;33m)\u001b[0m \u001b[1;33m/\u001b[0m \u001b[0mself\u001b[0m\u001b[1;33m.\u001b[0m\u001b[0mN_particles\u001b[0m\u001b[1;33m,\u001b[0m \u001b[0mlabel\u001b[0m\u001b[1;33m=\u001b[0m\u001b[1;34m'Kinetic energy'\u001b[0m\u001b[1;33m)\u001b[0m\u001b[1;33m\u001b[0m\u001b[0m\n\u001b[0;32m    442\u001b[0m         \u001b[0mplt\u001b[0m\u001b[1;33m.\u001b[0m\u001b[0mplot\u001b[0m\u001b[1;33m(\u001b[0m\u001b[0mx\u001b[0m\u001b[1;33m,\u001b[0m \u001b[0mnp\u001b[0m\u001b[1;33m.\u001b[0m\u001b[0marray\u001b[0m\u001b[1;33m(\u001b[0m\u001b[0mself\u001b[0m\u001b[1;33m.\u001b[0m\u001b[0mE_p\u001b[0m\u001b[1;33m)\u001b[0m \u001b[1;33m/\u001b[0m \u001b[0mself\u001b[0m\u001b[1;33m.\u001b[0m\u001b[0mN_particles\u001b[0m\u001b[1;33m,\u001b[0m \u001b[0mlabel\u001b[0m\u001b[1;33m=\u001b[0m\u001b[1;34m'Potential energy'\u001b[0m\u001b[1;33m)\u001b[0m\u001b[1;33m\u001b[0m\u001b[0m\n",
      "\u001b[1;31mTypeError\u001b[0m: unsupported operand type(s) for /: 'list' and 'float'"
     ]
    },
    {
     "data": {
      "text/plain": [
       "<Figure size 432x288 with 0 Axes>"
      ]
     },
     "metadata": {},
     "output_type": "display_data"
    }
   ],
   "source": [
    "MD.PBC = 'yes'\n",
    "MD.verlet_integration(MD.velocities, MD.coords)\n",
    "MDA = MDAnalysis('Homework_02.yml', 'MD_traj.yml')\n",
    "MDA.plot_energy()"
   ]
  },
  {
   "cell_type": "code",
   "execution_count": null,
   "metadata": {},
   "outputs": [],
   "source": []
  }
 ],
 "metadata": {
  "celltoolbar": "Create Assignment",
  "kernelspec": {
   "display_name": "Python 3",
   "language": "python",
   "name": "python3"
  },
  "language_info": {
   "codemirror_mode": {
    "name": "ipython",
    "version": 3
   },
   "file_extension": ".py",
   "mimetype": "text/x-python",
   "name": "python",
   "nbconvert_exporter": "python",
   "pygments_lexer": "ipython3",
   "version": "3.6.5"
  }
 },
 "nbformat": 4,
 "nbformat_minor": 2
}
