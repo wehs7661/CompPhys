{
 "cells": [
  {
   "cell_type": "markdown",
   "metadata": {
    "nbgrader": {
     "grade": false,
     "grade_id": "cell-100899e0deea9789",
     "locked": true,
     "schema_version": 1,
     "solution": false
    }
   },
   "source": [
    "# Homework 3\n",
    "\n",
    "## Physics 7810\n",
    "## Due February 17, 2020"
   ]
  },
  {
   "cell_type": "markdown",
   "metadata": {
    "nbgrader": {
     "grade": false,
     "grade_id": "cell-66620da88b06fd9e",
     "locked": true,
     "schema_version": 1,
     "solution": false
    }
   },
   "source": [
    "## H3.1 - Final project proposal\n",
    "\n",
    "Write a short (one or two paragraph) proposal for your final project. \n",
    "\n",
    "If you already have a project in mind, that's great. Otherwise, I can make some suggestions. I'll try to put together a list of possible final projects by this Thursday (February 13).\n",
    "\n",
    "It's okay to pick a project related to your thesis research. You could also reproduce published results from the literature, implement, test, and apply advanced simulation methods, and/or take on an original (possibly publishable) research project. I'll get an allocation of supercomputer time for the class, so your project can be moderately computationally intensive.\n",
    "\n",
    "The only rules here are:\n",
    "1. Your final project has to involve computational statistical physics in a substantial way.\n",
    "2. The rest of the class (and I) should learn something new from your project.\n"
   ]
  },
  {
   "cell_type": "markdown",
   "metadata": {},
   "source": [
    "#### Final project proposal: Application of deep learning in molecular simulations - enhanced sampling by Boltzmann generators"
   ]
  },
  {
   "cell_type": "markdown",
   "metadata": {},
   "source": [
    "In the past decades, molecular simulations, including Monte Carlo (MC) simulations and molecular dynamics (MD) simulations, have been playing a crucial role in various disciplines of science, including biophysics, pharmaceutical chemistry or material science. However, the usefulness of classical molecular simulations is severely restricted by kinetic bottlenecks as a result of systems characterized by a rough free energy surface. For most systems, metastable states separated by numerous energy barriers typically occupy vanishingly small volume in phase space, leading to prohibitive computational cost for generating statistically independent samples from a Boltzmann distribution. To address this challenge of phase space sampling, over the years, an enormous amount of research has been devoted to the development of advanced sampling methods. While these methods generally can mitigate the problem, they also have their drawbacks. For example, for sampling techniques such as [metadynamics](https://doi.org/10.1073/pnas.202427399), [umbrella sampling](https://onlinelibrary.wiley.com/doi/abs/10.1002/jcc.540130812) or [adaptive biasing force](https://pubs.acs.org/doi/10.1021/jp506633n), it is required to define reasonable collective variables that can capture all the slow degrees of freedom of the system, which could be particularly challenging for complicated condensed matter systems. \n",
    "\n",
    "Combining the strengths of deep learning and statistical mechanics, [Boltzmann generators](http://science.sciencemag.org/content/365/6457/eaaw1147) developed by Noe et al is an invertible neural network that can circumvent the sampling problem without any knowledge of collective variables of the system. This neural network is trained on a given energy function $u(\\bf{x})$ and produces unbiased samples from the target Boltzmann distribution. Specifically, Boltzmann generators are trained to learn a coordinate transformation from $\\bf{x}$ to a so-called \"latent\" representation $\\bf{z}$, in which different equilibrium states are close to each other and can be easily sampled by, for example, a Gaussian distribution. As indicated in the work published by Noe et al., characteristic of the ability of efficiently sampling equilibrium states, Boltzmann generators are able to accurately estimate free-energy differences and provide new physical insights of a molecular system, such as discovering new stable configurations. \n",
    "\n",
    "In this project, Lenny Fobe and I as a group, aims to reproduce and extend the method of Boltzmann generators. We will start with constructing a Boltzmann generator model in Python and train the model sufficiently such that it is able to quantitatively reproduce the analytical solution for the free energy of a double-well potential. Moving on, we will attempt to tackle a simple harmonic oscillator (SHO) confined in a box, seeking agreement between generated samples and the analytical results. If time permits, we will try to sample a simple biomolecular system, an alanine dipeptide, which frequently serves as a toy model for the justification of new sampling methods. The primary goal of this project is to enable an understanding of machine learning, statistical mechanics and their combination sufficiently thorough for us to apply in our own Ph.D. research. Besides, the work of this project will be hosted on a GitHub repository and could ideally be a demonstration/tutorial relatively approachable to beginners. "
   ]
  }
 ],
 "metadata": {
  "celltoolbar": "Create Assignment",
  "kernelspec": {
   "display_name": "Python 3",
   "language": "python",
   "name": "python3"
  },
  "language_info": {
   "codemirror_mode": {
    "name": "ipython",
    "version": 3
   },
   "file_extension": ".py",
   "mimetype": "text/x-python",
   "name": "python",
   "nbconvert_exporter": "python",
   "pygments_lexer": "ipython3",
   "version": "3.6.5"
  }
 },
 "nbformat": 4,
 "nbformat_minor": 2
}
