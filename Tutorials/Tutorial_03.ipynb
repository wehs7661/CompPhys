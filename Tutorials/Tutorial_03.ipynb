{
 "cells": [
  {
   "cell_type": "markdown",
   "metadata": {
    "nbgrader": {
     "grade": false,
     "grade_id": "cell-100899e0deea9789",
     "locked": true,
     "schema_version": 1,
     "solution": false
    }
   },
   "source": [
    "# Tutorial 3: Interaction cutoffs and energy nonconservation\n",
    "\n",
    "## Physics 7810, Spring 2020"
   ]
  },
  {
   "cell_type": "markdown",
   "metadata": {
    "nbgrader": {
     "grade": false,
     "grade_id": "cell-66620da88b06fd9e",
     "locked": true,
     "schema_version": 1,
     "solution": false
    }
   },
   "source": [
    "## T3.1 - Truncation effects for interacting particles in a central force potential\n",
    "\n",
    "In Tutorial 2, you wrote an MD simulation program for $N$ interacting particles in a central force potential. This simulation code had no interaction cutoff, so the cost of computing pair interactions was $O(N^2)$.\n",
    "\n",
    "In this tutorial, we'll introduce interaction cutoffs, a step toward achieving $O(N)$ computational complexity, and we'll quantify the effects of pair potential truncation on energy conservation.\n",
    "\n",
    "Modify your simulation code to introduce an interaction cutoff distance $r_c$, so that the pair interaction potential now has the form:\n",
    "\n",
    "$$\n",
    "u_{\\rm int}(r_{ij}) = \\left\\{\n",
    "\\begin{array}{ll}\n",
    "a r_{ij}^{-k}, & r_{ij} < r_c \\\\\n",
    "0, & r_{ij} \\geq r_c\n",
    "\\end{array}\n",
    "\\right..\n",
    "$$\n",
    "\n",
    "For this exercise, take $k = 6$ and assume that $a$ is positive (repulsive $r^{-6}$ pair interaction). Take the central force potential to be harmonic $n = 2$.\n",
    "\n",
    "First, with no trunction of the pair potential, adjust the integration timestep and total kinetic energy so that very good energy conservation is achieved over long simulation times (this may require a judicious choice of initial conditions). Plot the total energy $E$ as a function of $t$ and measure the relative root-mean-squared (rms) fluctuation in total energy over the course of a long simulation, where the relative rms fluctuation in energy is defined as\n",
    "\n",
    "$$\n",
    "\\frac{\\langle \\delta E^2 \\rangle^{1/2}}{\\langle E \\rangle} = \\frac{\\langle (E - \\langle E \\rangle)^2 \\rangle^{1/2}}{\\langle E \\rangle},\n",
    "$$\n",
    "\n",
    "and where the angle brackets denote a time average.\n",
    "\n",
    "Recall that\n",
    "\n",
    "$$\n",
    "\\langle \\delta E^2 \\rangle = \\langle (E - \\langle E \\rangle)^2 \\rangle = \\langle E^2 - 2 E \\langle E \\rangle + \\langle E \\rangle^2 \\rangle\n",
    "= \\langle E^2 \\rangle - \\langle E \\rangle^2\n",
    "$$\n",
    "\n",
    "Now repeat this simulation for various values of $r_c$. Plot $E$ as a function of $t$ and measure $\\langle \\delta E^2 \\rangle^{1/2} / \\langle E \\rangle$ for each value of $r_c$. What impact does potential truncation have on energy conservation? Does imposing an interaction cutoff lead to long-term energy drift?"
   ]
  },
  {
   "cell_type": "markdown",
   "metadata": {},
   "source": [
    "### Solution"
   ]
  },
  {
   "cell_type": "markdown",
   "metadata": {},
   "source": [
    "To quantify the influence of imposing potential truncation, we develop a method `quantify_cutoff` below to calculate the RMSF of the trajectory of a MD simulation given the parameters specified in `Tutorial_03.yml`, as show below. \n",
    "```yml\n",
    "# Molecular dynamics simulation parameters\n",
    "N_particles: 4\n",
    "N_steps: 1000\n",
    "dt: 0.001\n",
    "m: 1 # the mass of the particle (all the same)\n",
    "n: 2 # the order of the total external energy\n",
    "u: 1 # the coefficient of the total external energy\n",
    "k: 6 # the order of the pairwise potential \n",
    "a: 1 # the coefficient of pariwise potential\n",
    "r_c: 0 # the distance cutoff for the interaction potential (r_c = 0 : no truncation)\n",
    "box_length: 3\n",
    "epsilon: 1  # epsilon in LJ potential\n",
    "sigma: 1    # signma in LJ potential\n",
    "\n",
    "print_freq: 1\n",
    "dimension: 2\n",
    "potential: 'central'\n",
    "PBC: 'no'\n",
    "coords_method: 'lattice'  \n",
    "velo_method: 'random'\n",
    "```"
   ]
  },
  {
   "cell_type": "code",
   "execution_count": 1,
   "metadata": {},
   "outputs": [],
   "source": [
    "import sys\n",
    "sys.path.insert(1, '../')  # so the system can locate the library folder\n",
    "from CompPhysLib.MD_NVE import *\n",
    "\n",
    "def quantify_cutoff(r_c, plot=False):\n",
    "    mdp = MDParameters('Tutorial_03.yml')\n",
    "    MD = MolecularDynamics('Tutorial_03.yml')\n",
    "    MD.r_c = r_c\n",
    "    MD.verlet_integration(MD.velocities, MD.coords)\n",
    "    MDA = MDAnalysis('Tutorial_03.yml', 'Tutorial_03_traj.yml')\n",
    "    RMSF = MDA.calculate_RMSF(MDA.E_total)\n",
    "    \n",
    "    if plot is True:\n",
    "        MDA.plot_2d(MDA.E_total, 'Total Energy', 'J')\n",
    "        MDA.plot_xy_traj()\n",
    "        print('RMSF: %s' % RMSF)\n",
    "    \n",
    "    return RMSF"
   ]
  },
  {
   "cell_type": "markdown",
   "metadata": {},
   "source": [
    "To observe the influence that energy trunaction has on the energy conservation, we plot the RMSF value as a function of cutoff distance. As shown below, when the cut of distnace is around 2.15, the RMSF is nearly zero, indicating that the energy is still well-conserved given this cutoff distance and number of steps. "
   ]
  },
  {
   "cell_type": "code",
   "execution_count": 2,
   "metadata": {},
   "outputs": [
    {
     "name": "stdout",
     "output_type": "stream",
     "text": [
      "Optimal cutoff distance:  0.05\n",
      "RMSF corresponding to the optimal cutoff:  1.5352576126367122e-07\n"
     ]
    },
    {
     "data": {
      "text/plain": [
       "Text(0.5,1,'RMSF as a function of cutoff distance')"
      ]
     },
     "execution_count": 2,
     "metadata": {},
     "output_type": "execute_result"
    },
    {
     "data": {
      "image/png": "[encoded data removed]",
      "text/plain": [
       "<Figure size 432x288 with 1 Axes>"
      ]
     },
     "metadata": {},
     "output_type": "display_data"
    }
   ],
   "source": [
    "%matplotlib inline\n",
    "r_c = np.arange(0, 2.55, 0.05)\n",
    "RMSF = []\n",
    "optimal_found = False\n",
    "\n",
    "for i in r_c:\n",
    "    rmsf = quantify_cutoff(i)\n",
    "    RMSF.append(rmsf)\n",
    "    if rmsf < 0.00001 and optimal_found is False and i != 0:\n",
    "        optimal_found = True\n",
    "        print('Optimal cutoff distance: ', i)\n",
    "        print('RMSF corresponding to the optimal cutoff: ', rmsf)\n",
    "    \n",
    "plt.figure()\n",
    "plt.scatter(r_c[1:], RMSF[1:])\n",
    "plt.xlabel('Cutoff distance')\n",
    "plt.ylabel('RMSF')\n",
    "plt.title('RMSF as a function of cutoff distance')"
   ]
  },
  {
   "cell_type": "markdown",
   "metadata": {},
   "source": [
    "To see if the energy drifts away in a long simulation with cutoff distance of 2.15, we increase the number of steps from 1000 to 20000. As shown below,  "
   ]
  },
  {
   "cell_type": "code",
   "execution_count": 2,
   "metadata": {},
   "outputs": [
    {
     "name": "stdout",
     "output_type": "stream",
     "text": [
      "RMSF: 1.1823440035565211\n"
     ]
    },
    {
     "data": {
      "text/plain": [
       "1.1823440035565211"
      ]
     },
     "execution_count": 2,
     "metadata": {},
     "output_type": "execute_result"
    },
    {
     "data": {
      "image/png": "[encoded data removed]",
      "text/plain": [
       "<Figure size 432x288 with 1 Axes>"
      ]
     },
     "metadata": {},
     "output_type": "display_data"
    },
    {
     "data": {
      "image/png": "[encoded data removed]",
      "text/plain": [
       "<Figure size 432x288 with 1 Axes>"
      ]
     },
     "metadata": {},
     "output_type": "display_data"
    }
   ],
   "source": [
    "quantify_cutoff(0.5, plot=True)"
   ]
  },
  {
   "cell_type": "code",
   "execution_count": null,
   "metadata": {},
   "outputs": [],
   "source": []
  }
 ],
 "metadata": {
  "celltoolbar": "Create Assignment",
  "kernelspec": {
   "display_name": "Python 3",
   "language": "python",
   "name": "python3"
  },
  "language_info": {
   "codemirror_mode": {
    "name": "ipython",
    "version": 3
   },
   "file_extension": ".py",
   "mimetype": "text/x-python",
   "name": "python",
   "nbconvert_exporter": "python",
   "pygments_lexer": "ipython3",
   "version": "3.6.5"
  }
 },
 "nbformat": 4,
 "nbformat_minor": 2
}
