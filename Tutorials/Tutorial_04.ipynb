{
 "cells": [
  {
   "cell_type": "markdown",
   "metadata": {
    "nbgrader": {
     "grade": false,
     "grade_id": "cell-100899e0deea9789",
     "locked": true,
     "schema_version": 1,
     "solution": false
    }
   },
   "source": [
    "# Tutorial 4: The truncated and shifted Lennard-Jones potential\n",
    "\n",
    "## Physics 7810, Spring 2020"
   ]
  },
  {
   "cell_type": "markdown",
   "metadata": {
    "nbgrader": {
     "grade": false,
     "grade_id": "cell-66620da88b06fd9e",
     "locked": true,
     "schema_version": 1,
     "solution": false
    }
   },
   "source": [
    "## T4.1 - Truncated and shifted Lennard-Jones potential, WCA potential\n",
    "\n",
    "In the second homework assignment, you wrote a simple molecular dynamics (MD) simulation program for the 3D Lennard-Jones (LJ) system, using the minimum-image convention. In this tutorial, you'll modify your MD simulation code to implement a truncated and shifted LJ potential. Imposing a spherical cutoff can lead to significant speedups in the execution of MD (or MC) code, when used in conjunction with fast neighbor-search methods such as cell lists and/or Verlet neighbor lists.\n",
    "\n",
    "In the previous tutorial, we investigated the effects of truncation on energy conservation in an MD simulation of a system of interaction particles in a central force potential. To achieve improved energy conservation in MD simulations, it's common to shift the pair potential $u(r_{ij})$ so that it's continuous at the cutoff distance $r_c$:\n",
    "\n",
    "$$\n",
    "u^\\prime(r_{ij}) = \\left\\{\n",
    "\\begin{array}{ll}\n",
    "u(r_{ij}) - u(r_c), & r_{ij} < r_c \\\\\n",
    "0, & r_{ij} \\geq r_c\n",
    "\\end{array}\n",
    "\\right..\n",
    "$$\n",
    "\n",
    "Note that shifting the potential doesn't change the pair forces.\n",
    "\n",
    "Modify your LJ MD simulation code to implement a truncated and shifted pair potential. Investigate whether shifting the pair potential to be continuous at the cutoff improves energy conservation, by comparing the rms fluctuation in total energy $\\langle \\delta E^2 \\rangle^{1/2} / \\langle E \\rangle$ in a simulation using the *truncated and shifted* potential $u_{\\rm LJ}^\\prime(r_{ij})$ with a simulation using the *truncated but unshifted* potential $u_{\\rm LJ}(r_{ij})$ for a specific cutoff distance, say $r_c = 2.5 \\sigma$. Note that the linear dimension of your simulation box must be at least twice the cutoff distance, $L \\geq 2 r_c$.\n",
    "\n",
    "Recall that\n",
    "\n",
    "$$\n",
    "\\frac{\\langle \\delta E^2 \\rangle^{1/2}}{\\langle E \\rangle} = \\frac{\\langle (E - \\langle E \\rangle)^2 \\rangle^{1/2}}{\\langle E \\rangle},\n",
    "$$\n",
    "\n",
    "where\n",
    "\n",
    "$$\n",
    "\\langle \\delta E^2 \\rangle = \\langle (E - \\langle E \\rangle)^2 \\rangle = \\langle E^2 - 2 E \\langle E \\rangle + \\langle E \\rangle^2 \\rangle\n",
    "= \\langle E^2 \\rangle - \\langle E \\rangle^2.\n",
    "$$\n",
    "\n",
    "A particularly useful pair potential is obtained by truncating and shifting the LJ pair potential at a cutoff distance corresponding to its minimum, to obtain the so-called *Weeks-Chandler-Andersen* (WCA) potential. This potential is short-ranged and purely repulsive, and both the potential and the force are continuous at the cutoff.\n",
    "\n",
    "Determine the pair separation $r_{\\rm min}$ corresponding to the minimum in the LJ potential, and plot the WCA potential $u_{\\rm WCA}(r)$ as a function of $r$. Implement the WCA potential in your MD code, and run a simulation using the WCA potential to test for energy conservation."
   ]
  },
  {
   "cell_type": "markdown",
   "metadata": {},
   "source": [
    "### Solution"
   ]
  },
  {
   "cell_type": "markdown",
   "metadata": {},
   "source": [
    "First, we load the Python library for MD simulations, `MD_NVE.py` and the parameters for the MD simulation."
   ]
  },
  {
   "cell_type": "code",
   "execution_count": 13,
   "metadata": {},
   "outputs": [],
   "source": [
    "import sys\n",
    "sys.path.insert(1, '../')  # so the system can locate the library folder\n",
    "from CompPhysLib.MD_NVE import *\n",
    "\n",
    "mdp = MDParameters('Tutorial_04.yml')\n",
    "MD = MolecularDynamics('Tutorial_04.yml')"
   ]
  },
  {
   "cell_type": "markdown",
   "metadata": {},
   "source": [
    "**Case 1**: Truncated but unshifted energy $u_{LJ}(r_{ij})$"
   ]
  },
  {
   "cell_type": "code",
   "execution_count": 14,
   "metadata": {},
   "outputs": [
    {
     "ename": "AttributeError",
     "evalue": "'MolecularDynamics' object has no attribute 'a'",
     "output_type": "error",
     "traceback": [
      "\u001b[1;31m---------------------------------------------------------------------------\u001b[0m",
      "\u001b[1;31mAttributeError\u001b[0m                            Traceback (most recent call last)",
      "\u001b[1;32m<ipython-input-14-5e1a2cb6cc2e>\u001b[0m in \u001b[0;36m<module>\u001b[1;34m()\u001b[0m\n\u001b[0;32m      1\u001b[0m \u001b[0mMD\u001b[0m\u001b[1;33m.\u001b[0m\u001b[0mshift_energy\u001b[0m \u001b[1;33m=\u001b[0m \u001b[1;34m'no'\u001b[0m\u001b[1;33m\u001b[0m\u001b[0m\n\u001b[1;32m----> 2\u001b[1;33m \u001b[0mMD\u001b[0m\u001b[1;33m.\u001b[0m\u001b[0mverlet_integration\u001b[0m\u001b[1;33m(\u001b[0m\u001b[0mMD\u001b[0m\u001b[1;33m.\u001b[0m\u001b[0mvelocities\u001b[0m\u001b[1;33m,\u001b[0m \u001b[0mMD\u001b[0m\u001b[1;33m.\u001b[0m\u001b[0mcoords\u001b[0m\u001b[1;33m)\u001b[0m\u001b[1;33m\u001b[0m\u001b[0m\n\u001b[0m\u001b[0;32m      3\u001b[0m \u001b[0mMDA\u001b[0m \u001b[1;33m=\u001b[0m \u001b[0mMDAnalysis\u001b[0m\u001b[1;33m(\u001b[0m\u001b[1;34m'Tutorial_04.yml'\u001b[0m\u001b[1;33m,\u001b[0m \u001b[1;34m'Tutorial_04_traj.yml'\u001b[0m\u001b[1;33m)\u001b[0m\u001b[1;33m\u001b[0m\u001b[0m\n\u001b[0;32m      4\u001b[0m \u001b[0mMDA\u001b[0m\u001b[1;33m.\u001b[0m\u001b[0mplot_2d\u001b[0m\u001b[1;33m(\u001b[0m\u001b[0mMDA\u001b[0m\u001b[1;33m.\u001b[0m\u001b[0mE_total\u001b[0m\u001b[1;33m,\u001b[0m \u001b[1;34m'Total Energy'\u001b[0m\u001b[1;33m)\u001b[0m\u001b[1;33m\u001b[0m\u001b[0m\n\u001b[0;32m      5\u001b[0m \u001b[0mRMSF\u001b[0m \u001b[1;33m=\u001b[0m \u001b[0mMDA\u001b[0m\u001b[1;33m.\u001b[0m\u001b[0mcalculate_RMSF\u001b[0m\u001b[1;33m(\u001b[0m\u001b[0mMDA\u001b[0m\u001b[1;33m.\u001b[0m\u001b[0mE_total\u001b[0m\u001b[1;33m)\u001b[0m\u001b[1;33m\u001b[0m\u001b[0m\n",
      "\u001b[1;32m~\\Downloads\\Computational_Physics\\CompPhys\\CompPhysLib\\MD_NVE.py\u001b[0m in \u001b[0;36mverlet_integration\u001b[1;34m(self, velocities, coords)\u001b[0m\n\u001b[0;32m    324\u001b[0m \u001b[1;33m\u001b[0m\u001b[0m\n\u001b[0;32m    325\u001b[0m         \u001b[1;31m# quantities at t = 0\u001b[0m\u001b[1;33m\u001b[0m\u001b[1;33m\u001b[0m\u001b[0m\n\u001b[1;32m--> 326\u001b[1;33m         \u001b[0moutput0\u001b[0m \u001b[1;33m=\u001b[0m \u001b[0mself\u001b[0m\u001b[1;33m.\u001b[0m\u001b[0moutput_data\u001b[0m\u001b[1;33m(\u001b[0m\u001b[1;36m0\u001b[0m\u001b[1;33m,\u001b[0m \u001b[0mvelocities\u001b[0m\u001b[1;33m,\u001b[0m \u001b[0mcoords\u001b[0m\u001b[1;33m)\u001b[0m\u001b[1;33m\u001b[0m\u001b[0m\n\u001b[0m\u001b[0;32m    327\u001b[0m \u001b[1;33m\u001b[0m\u001b[0m\n\u001b[0;32m    328\u001b[0m         \u001b[1;32mwith\u001b[0m \u001b[0mopen\u001b[0m\u001b[1;33m(\u001b[0m\u001b[0mself\u001b[0m\u001b[1;33m.\u001b[0m\u001b[0mtraj_name\u001b[0m\u001b[1;33m,\u001b[0m \u001b[1;34m'a+'\u001b[0m\u001b[1;33m,\u001b[0m \u001b[0mnewline\u001b[0m\u001b[1;33m=\u001b[0m\u001b[1;34m''\u001b[0m\u001b[1;33m)\u001b[0m \u001b[1;32mas\u001b[0m \u001b[0moutfile\u001b[0m\u001b[1;33m:\u001b[0m\u001b[1;33m\u001b[0m\u001b[0m\n",
      "\u001b[1;32m~\\Downloads\\Computational_Physics\\CompPhys\\CompPhysLib\\MD_NVE.py\u001b[0m in \u001b[0;36moutput_data\u001b[1;34m(self, i, velocities, coords)\u001b[0m\n\u001b[0;32m    386\u001b[0m         \u001b[1;31m# norm(v) = sqrt{vx1^2 + vy1^2 + vx2^2 + vy2^2 + ...}\u001b[0m\u001b[1;33m\u001b[0m\u001b[1;33m\u001b[0m\u001b[0m\n\u001b[0;32m    387\u001b[0m         \u001b[0moutput\u001b[0m\u001b[1;33m[\u001b[0m\u001b[1;34m'E_k'\u001b[0m\u001b[1;33m]\u001b[0m \u001b[1;33m=\u001b[0m \u001b[0mfloat\u001b[0m\u001b[1;33m(\u001b[0m\u001b[1;36m0.5\u001b[0m \u001b[1;33m*\u001b[0m \u001b[0mself\u001b[0m\u001b[1;33m.\u001b[0m\u001b[0mm\u001b[0m \u001b[1;33m*\u001b[0m \u001b[0mnorm\u001b[0m\u001b[1;33m(\u001b[0m\u001b[0mvelocities\u001b[0m\u001b[1;33m)\u001b[0m \u001b[1;33m**\u001b[0m \u001b[1;36m2\u001b[0m\u001b[1;33m)\u001b[0m\u001b[1;33m\u001b[0m\u001b[0m\n\u001b[1;32m--> 388\u001b[1;33m         \u001b[0moutput\u001b[0m\u001b[1;33m[\u001b[0m\u001b[1;34m'E_p'\u001b[0m\u001b[1;33m]\u001b[0m \u001b[1;33m=\u001b[0m \u001b[0mfloat\u001b[0m\u001b[1;33m(\u001b[0m\u001b[0mself\u001b[0m\u001b[1;33m.\u001b[0m\u001b[0mtotal_potential\u001b[0m\u001b[1;33m(\u001b[0m\u001b[0mcoords\u001b[0m\u001b[1;33m)\u001b[0m\u001b[1;33m)\u001b[0m\u001b[1;33m\u001b[0m\u001b[0m\n\u001b[0m\u001b[0;32m    389\u001b[0m         \u001b[0moutput\u001b[0m\u001b[1;33m[\u001b[0m\u001b[1;34m'E_total'\u001b[0m\u001b[1;33m]\u001b[0m \u001b[1;33m=\u001b[0m \u001b[0mfloat\u001b[0m\u001b[1;33m(\u001b[0m\u001b[0moutput\u001b[0m\u001b[1;33m[\u001b[0m\u001b[1;34m'E_k'\u001b[0m\u001b[1;33m]\u001b[0m \u001b[1;33m+\u001b[0m \u001b[0moutput\u001b[0m\u001b[1;33m[\u001b[0m\u001b[1;34m'E_p'\u001b[0m\u001b[1;33m]\u001b[0m\u001b[1;33m)\u001b[0m\u001b[1;33m\u001b[0m\u001b[0m\n\u001b[0;32m    390\u001b[0m         \u001b[1;31m# Equilipartition theorem: <2Ek> = (3N-3)kT\u001b[0m\u001b[1;33m\u001b[0m\u001b[1;33m\u001b[0m\u001b[0m\n",
      "\u001b[1;32m~\\Downloads\\Computational_Physics\\CompPhys\\CompPhysLib\\MD_NVE.py\u001b[0m in \u001b[0;36mtotal_potential\u001b[1;34m(self, coords)\u001b[0m\n\u001b[0;32m    244\u001b[0m                 \u001b[1;32mfor\u001b[0m \u001b[0mp\u001b[0m \u001b[1;32min\u001b[0m \u001b[0mij_pair\u001b[0m\u001b[1;33m:\u001b[0m\u001b[1;33m\u001b[0m\u001b[0m\n\u001b[0;32m    245\u001b[0m                     p_int_total += self.interaction_potential(\n\u001b[1;32m--> 246\u001b[1;33m                         coords[p[0] - 1], coords[p[1] - 1])\n\u001b[0m\u001b[0;32m    247\u001b[0m \u001b[1;33m\u001b[0m\u001b[0m\n\u001b[0;32m    248\u001b[0m                 \u001b[1;31m# Step 2: calculate \\sum_{i=1}^{N}u*r_{i}^{N}\u001b[0m\u001b[1;33m\u001b[0m\u001b[1;33m\u001b[0m\u001b[0m\n",
      "\u001b[1;32m~\\Downloads\\Computational_Physics\\CompPhys\\CompPhysLib\\MD_NVE.py\u001b[0m in \u001b[0;36minteraction_potential\u001b[1;34m(self, coord_i, coord_j)\u001b[0m\n\u001b[0;32m    203\u001b[0m         \u001b[1;31m# Here we define that r_0 means no energy trunaction is used\u001b[0m\u001b[1;33m\u001b[0m\u001b[1;33m\u001b[0m\u001b[0m\n\u001b[0;32m    204\u001b[0m         \u001b[1;32mif\u001b[0m \u001b[0mr_ij\u001b[0m \u001b[1;33m<\u001b[0m \u001b[0mself\u001b[0m\u001b[1;33m.\u001b[0m\u001b[0mr_c\u001b[0m\u001b[1;33m:\u001b[0m\u001b[1;33m\u001b[0m\u001b[0m\n\u001b[1;32m--> 205\u001b[1;33m             \u001b[0mp_int\u001b[0m \u001b[1;33m=\u001b[0m \u001b[0mself\u001b[0m\u001b[1;33m.\u001b[0m\u001b[0ma\u001b[0m \u001b[1;33m*\u001b[0m \u001b[0mr_ij\u001b[0m \u001b[1;33m**\u001b[0m \u001b[1;33m(\u001b[0m\u001b[1;33m-\u001b[0m\u001b[0mself\u001b[0m\u001b[1;33m.\u001b[0m\u001b[0mk\u001b[0m\u001b[1;33m)\u001b[0m\u001b[1;33m\u001b[0m\u001b[0m\n\u001b[0m\u001b[0;32m    206\u001b[0m             \u001b[1;32mif\u001b[0m \u001b[0mself\u001b[0m\u001b[1;33m.\u001b[0m\u001b[0mshift_energy\u001b[0m \u001b[1;33m==\u001b[0m \u001b[1;34m'yes'\u001b[0m\u001b[1;33m:\u001b[0m\u001b[1;33m\u001b[0m\u001b[0m\n\u001b[0;32m    207\u001b[0m                 \u001b[0mpc_int\u001b[0m \u001b[1;33m=\u001b[0m \u001b[0mself\u001b[0m\u001b[1;33m.\u001b[0m\u001b[0ma\u001b[0m \u001b[1;33m*\u001b[0m \u001b[0mself\u001b[0m\u001b[1;33m.\u001b[0m\u001b[0mr_c\u001b[0m \u001b[1;33m**\u001b[0m \u001b[1;33m(\u001b[0m\u001b[1;33m-\u001b[0m\u001b[0mself\u001b[0m\u001b[1;33m.\u001b[0m\u001b[0mk\u001b[0m\u001b[1;33m)\u001b[0m\u001b[1;33m\u001b[0m\u001b[0m\n",
      "\u001b[1;31mAttributeError\u001b[0m: 'MolecularDynamics' object has no attribute 'a'"
     ]
    }
   ],
   "source": [
    "MD.shift_energy = 'no'\n",
    "MD.verlet_integration(MD.velocities, MD.coords)\n",
    "MDA = MDAnalysis('Tutorial_04.yml', 'Tutorial_04_traj.yml')\n",
    "MDA.plot_2d(MDA.E_total, 'Total Energy')\n",
    "RMSF = MDA.calculate_RMSF(MDA.E_total)\n",
    "print('RMSF: ', RMSF)"
   ]
  },
  {
   "cell_type": "markdown",
   "metadata": {},
   "source": [
    "**Case 2**: Truncated and shifted energy $u_{\\rm LJ}^\\prime(r_{ij})$"
   ]
  },
  {
   "cell_type": "code",
   "execution_count": 5,
   "metadata": {},
   "outputs": [
    {
     "name": "stdout",
     "output_type": "stream",
     "text": [
      "RMSF:  -0.004190914871180614\n"
     ]
    },
    {
     "data": {
      "image/png": "[encoded data removed]",
      "text/plain": [
       "<Figure size 432x288 with 1 Axes>"
      ]
     },
     "metadata": {},
     "output_type": "display_data"
    }
   ],
   "source": [
    "MD.shift_energy = 'yes'\n",
    "MD.verlet_integration(MD.velocities, MD.coords)\n",
    "MDA = MDAnalysis('Tutorial_04.yml', 'Tutorial_04_traj.yml')\n",
    "MDA.plot_2d(MDA.E_total, 'Total Energy')\n",
    "RMSF = MDA.calculate_RMSF(MDA.E_total)\n",
    "print('RMSF: ', RMSF)"
   ]
  },
  {
   "cell_type": "markdown",
   "metadata": {},
   "source": [
    "As shown above, "
   ]
  },
  {
   "cell_type": "code",
   "execution_count": null,
   "metadata": {},
   "outputs": [],
   "source": []
  }
 ],
 "metadata": {
  "celltoolbar": "Create Assignment",
  "kernelspec": {
   "display_name": "Python 3",
   "language": "python",
   "name": "python3"
  },
  "language_info": {
   "codemirror_mode": {
    "name": "ipython",
    "version": 3
   },
   "file_extension": ".py",
   "mimetype": "text/x-python",
   "name": "python",
   "nbconvert_exporter": "python",
   "pygments_lexer": "ipython3",
   "version": "3.6.5"
  }
 },
 "nbformat": 4,
 "nbformat_minor": 2
}
