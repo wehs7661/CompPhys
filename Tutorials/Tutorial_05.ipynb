{
 "cells": [
  {
   "cell_type": "markdown",
   "metadata": {
    "nbgrader": {
     "grade": false,
     "grade_id": "cell-100899e0deea9789",
     "locked": true,
     "schema_version": 1,
     "solution": false
    }
   },
   "source": [
    "# Tutorial 5: Monte Carlo simulation of the 2D Ising model\n",
    "\n",
    "## Physics 7810, Spring 2020"
   ]
  },
  {
   "cell_type": "markdown",
   "metadata": {
    "nbgrader": {
     "grade": false,
     "grade_id": "cell-66620da88b06fd9e",
     "locked": true,
     "schema_version": 1,
     "solution": false
    }
   },
   "source": [
    "## T5.1 - Monte Carlo simulation of the 2D Ising model\n",
    "\n",
    "The simplest and most extensively studied lattice model in statistical physics is the *Ising model*, which provides a minimal theoretical description of ferromagnetic and antiferromagnetic phases, binary alloys, and lattice gas models of liquid-vapor coexistence.\n",
    "\n",
    "The Ising model consists of a lattice of $N$ sites $i$ with a single, two-state degree of freedom $s_i$ on each site that can take values $\\pm 1$\n",
    "\n",
    "The Hamiltonian (energy) of the Ising model is\n",
    "\n",
    "$$\n",
    "H = - J \\sum_{\\langle i j \\rangle} s_i s_j - B \\sum_i s_i,\n",
    "$$\n",
    "\n",
    "where the first sum is over all pairs $\\langle ij \\rangle$ of nearest-neighbor sites, $J$ is the *coupling* between these sites, and $B$ is the *applied field*.\n",
    "\n",
    "The properties of the Ising model depend critically on the *spatial dimensionality* $d$, and less critically on the *lattice symmetry* (e.g., square vs. triangular), which determines the number of nearest neighbors (coordination number) $z$. There are exact solutions for the 1D and 2D Ising model, but only numerical solutions for the 3D Ising model. Positive coupling $J$ leads to *ferromagnetic* ordering at low temperatures, while negative $J$ favors an *antiferromagnetic* ground state.\n",
    "\n",
    "Write a Monte Carlo program to simulate the 2D Ising model on a square lattice with periodic boundary conditions. Implement the single spin flip Metropolis algorithm for sampling, and assume that the external field $B$ is zero for now.\n",
    "\n",
    "Measure and plot the average energy $\\langle E \\rangle$ and magnetization per spin $\\langle M / N \\rangle$, at several temperatures $T$. The total Ising model magnetization is $M = \\sum_i s_i$.\n",
    "\n",
    "Determine the critical temperature $T_c$ (the temperature where the magnetization goes to zero with increasing $T$. Hint: you should obtain $T_c \\approx 2.27$\n",
    "\n",
    "Pro tips:\n",
    "* Save computation time by avoiding unnecessary reevaluation of the exponential function. To achieve this, use an array to store the possible probabilities for spin-flip acceptance.\n",
    "* Organize your simulation in terms of Monte Carlo *sweeps*, where a sweep is defined as one attempted spin flip per site. You should pick spins for attempted flips at random, to ensure detailed balance."
   ]
  },
  {
   "cell_type": "code",
   "execution_count": null,
   "metadata": {},
   "outputs": [],
   "source": []
  }
 ],
 "metadata": {
  "celltoolbar": "Create Assignment",
  "kernelspec": {
   "display_name": "Python 3",
   "language": "python",
   "name": "python3"
  },
  "language_info": {
   "codemirror_mode": {
    "name": "ipython",
    "version": 3
   },
   "file_extension": ".py",
   "mimetype": "text/x-python",
   "name": "python",
   "nbconvert_exporter": "python",
   "pygments_lexer": "ipython3",
   "version": "3.6.5"
  }
 },
 "nbformat": 4,
 "nbformat_minor": 2
}
