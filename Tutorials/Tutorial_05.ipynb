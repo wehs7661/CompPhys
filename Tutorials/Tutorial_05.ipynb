{
 "cells": [
  {
   "cell_type": "markdown",
   "metadata": {
    "nbgrader": {
     "grade": false,
     "grade_id": "cell-100899e0deea9789",
     "locked": true,
     "schema_version": 1,
     "solution": false
    }
   },
   "source": [
    "# Tutorial 5: Monte Carlo simulation of the 2D Ising model\n",
    "\n",
    "## Physics 7810, Spring 2020"
   ]
  },
  {
   "cell_type": "markdown",
   "metadata": {
    "nbgrader": {
     "grade": false,
     "grade_id": "cell-66620da88b06fd9e",
     "locked": true,
     "schema_version": 1,
     "solution": false
    }
   },
   "source": [
    "## T5.1 - Monte Carlo simulation of the 2D Ising model\n",
    "\n",
    "The simplest and most extensively studied lattice model in statistical physics is the *Ising model*, which provides a minimal theoretical description of ferromagnetic and antiferromagnetic phases, binary alloys, and lattice gas models of liquid-vapor coexistence.\n",
    "\n",
    "The Ising model consists of a lattice of $N$ sites $i$ with a single, two-state degree of freedom $s_i$ on each site that can take values $\\pm 1$\n",
    "\n",
    "The Hamiltonian (energy) of the Ising model is\n",
    "\n",
    "$$\n",
    "H = - J \\sum_{\\langle i j \\rangle} s_i s_j - B \\sum_i s_i,\n",
    "$$\n",
    "\n",
    "where the first sum is over all pairs $\\langle ij \\rangle$ of nearest-neighbor sites, $J$ is the *coupling* between these sites, and $B$ is the *applied field*.\n",
    "\n",
    "The properties of the Ising model depend critically on the *spatial dimensionality* $d$, and less critically on the *lattice symmetry* (e.g., square vs. triangular), which determines the number of nearest neighbors (coordination number) $z$. There are exact solutions for the 1D and 2D Ising model, but only numerical solutions for the 3D Ising model. Positive coupling $J$ leads to *ferromagnetic* ordering at low temperatures, while negative $J$ favors an *antiferromagnetic* ground state.\n",
    "\n",
    "Write a Monte Carlo program to simulate the 2D Ising model on a square lattice with periodic boundary conditions. Implement the single spin flip Metropolis algorithm for sampling, and assume that the external field $B$ is zero for now.\n",
    "\n",
    "Measure and plot the average energy $\\langle E/N \\rangle$ and magnetization per spin $\\langle M / N \\rangle$, at several temperatures $T$. The total Ising model magnetization is $M = \\sum_i s_i$.\n",
    "\n",
    "Determine the critical temperature $T_c$ (the temperature where the magnetization goes to zero with increasing $T$. Hint: you should obtain $T_c \\approx 2.27$\n",
    "\n",
    "Pro tips:\n",
    "* Save computation time by avoiding unnecessary reevaluation of the exponential function. To achieve this, use an array to store the possible probabilities for spin-flip acceptance.\n",
    "* Organize your simulation in terms of Monte Carlo *sweeps*, where a sweep is defined as one attempted spin flip per site. You should pick spins for attempted flips at random, to ensure detailed balance."
   ]
  },
  {
   "cell_type": "markdown",
   "metadata": {},
   "source": [
    "### Solution"
   ]
  },
  {
   "cell_type": "markdown",
   "metadata": {},
   "source": [
    "In this tutorial, we rely on the following methods to solve the problem."
   ]
  },
  {
   "cell_type": "code",
   "execution_count": 4,
   "metadata": {},
   "outputs": [],
   "source": [
    "import copy\n",
    "import numpy as np\n",
    "import matplotlib.pyplot as plt\n",
    "from matplotlib import rc"
   ]
  },
  {
   "cell_type": "code",
   "execution_count": 18,
   "metadata": {},
   "outputs": [],
   "source": [
    "class Ising_2D():\n",
    "    def __init__(self):\n",
    "        self.J = -1\n",
    "        self.B = 0\n",
    "        self.n = 5\n",
    "        self.N_steps = 2000\n",
    "    \n",
    "    @property\n",
    "    def config(self):  # Using @property: self.config will change whenever self.n changes\n",
    "        return 2 * np.random.randint(2, size=(self.n, self.n)) - 1\n",
    "        \n",
    "    def compute_energy(self, config):\n",
    "        H, N = 0, self.n\n",
    "        for i in range(self.n):\n",
    "            for j in range(self.n):\n",
    "                sum_sj = config[(i + 1) % N, j] + config[i, (j + 1) % N] + config[(i - 1) % N, j] + config[i, (j - 1) % N]\n",
    "                H += config[i, j] * sum_sj\n",
    "                \n",
    "        return H / 4\n",
    "    \n",
    "    def MC_metropolis(self, config, T):\n",
    "        beta = 1 / T  # assume that kB = 1\n",
    "        N = self.n\n",
    "        h, m = [], [] # h = H/N and m = M/N  \n",
    "        for i in range(self.N_steps):\n",
    "            x, y = np.random.randint(0, N), np.random.randint(0, N)\n",
    "\n",
    "            # note that H_new = -J (\\sum (-si) * sj), H_old = -J (\\sum si * sj)\n",
    "            # so delta_H = 2J(\\sum si * sj) and we don't have to calculate H_new and H_old\n",
    "            si = config[x, y]\n",
    "            sum_sj = config[(x + 1) % N, y] + config[x, (y + 1) % N] + config[(x - 1) % N, y] + config[x, (y - 1) % N]\n",
    "            \n",
    "            delta_H = 2 * self.J * si * sum_sj\n",
    "            p_acc = np.exp(-beta * delta_H)\n",
    "        \n",
    "            if delta_H < 0:\n",
    "                config[x, y] *= (-1)\n",
    "            else:\n",
    "                if np.random.rand() < p_acc:\n",
    "                    config[x, y] *= (-1)\n",
    "            h.append(self.compute_energy(config) / model.n ** 2)\n",
    "            m.append(np.sum(config) / model.n ** 2)\n",
    "        \n",
    "        self.h_avg = np.mean(np.array(h)[int(0.5 * len(h)):])\n",
    "        self.m_avg = np.mean(np.array(m)[int(0.5 * len(m)):])\n",
    "\n",
    "        return config\n",
    "    \n",
    "    \n",
    "    def plot_config(self, config, fig_num, step, fig=None):\n",
    "        rc('font', **{\n",
    "        'family': 'sans-serif',\n",
    "        'sans-serif': ['DejaVu Sans'],\n",
    "        'size': 10\n",
    "        })\n",
    "        # Set the font used for MathJax - more on this later\n",
    "        rc('mathtext', **{'default': 'regular'})\n",
    "        plt.rc('font', family='serif')\n",
    "        \n",
    "        if fig is None:\n",
    "            fig = plt.figure(figsize=(12, 12))\n",
    "        fig.add_subplot(3, 3, fig_num)   \n",
    "        X, Y = np.meshgrid(range(self.n + 1), range(self.n + 1))\n",
    "        plt.xticks(np.arange(self.n), [])\n",
    "        plt.yticks(np.arange(self.n), [])\n",
    "        if step == 0:\n",
    "            title = 'Initial configuration'\n",
    "        else:\n",
    "            title = 'Configuation after %s MC steps' %step\n",
    "        plt.title(title, fontsize='10')\n",
    "        plt.tick_params(axis='both', which='both', bottom=False, left=False)\n",
    "        plt.pcolormesh(X, Y, config, cmap=plt.cm.GnBu) \n",
    "        plt.gca().set_aspect('equal', adjustable='box')\n",
    "        plt.grid()\n",
    "        \n",
    "        return fig\n",
    "        "
   ]
  },
  {
   "cell_type": "markdown",
   "metadata": {},
   "source": [
    "#### 1. The sign of the interaction $J$"
   ]
  },
  {
   "cell_type": "markdown",
   "metadata": {},
   "source": [
    "As shown below, "
   ]
  },
  {
   "cell_type": "code",
   "execution_count": 12,
   "metadata": {},
   "outputs": [
    {
     "data": {
      "image/png": "[encoded data removed]",
      "text/plain": [
       "<Figure size 1200x1200 with 2 Axes>"
      ]
     },
     "execution_count": 12,
     "metadata": {},
     "output_type": "execute_result"
    }
   ],
   "source": [
    "%matplotlib agg   \n",
    "model = Ising_2D()\n",
    "model.J = 1\n",
    "model.n = 15\n",
    "config_init = model.config\n",
    "config_final = model.MC_metropolis(copy.deepcopy(config_init), 1)\n",
    "fig = model.plot_config(config_init, 1, 0)\n",
    "fig = model.plot_config(config_final, 2, model.N_steps, fig)\n",
    "fig"
   ]
  },
  {
   "cell_type": "code",
   "execution_count": 13,
   "metadata": {},
   "outputs": [
    {
     "data": {
      "image/png": "[encoded data removed]",
      "text/plain": [
       "<Figure size 1200x1200 with 2 Axes>"
      ]
     },
     "execution_count": 13,
     "metadata": {},
     "output_type": "execute_result"
    }
   ],
   "source": [
    "%matplotlib agg   \n",
    "model = Ising_2D()\n",
    "model.J = -1\n",
    "model.n = 15\n",
    "config_init = model.config\n",
    "config_final = model.MC_metropolis(copy.deepcopy(config_init), 1)\n",
    "\n",
    "fig = model.plot_config(config_init, 1, 0)\n",
    "\n",
    "fig = model.plot_config(config_final, 2, model.N_steps, fig)\n",
    "fig"
   ]
  },
  {
   "cell_type": "markdown",
   "metadata": {},
   "source": [
    "#### 2. Average energy as a function of magnetization per spin"
   ]
  },
  {
   "cell_type": "code",
   "execution_count": 17,
   "metadata": {},
   "outputs": [
    {
     "data": {
      "text/plain": [
       "array([0.1, 0.2, 0.3, 0.4, 0.5, 0.6, 0.7, 0.8, 0.9, 1. , 1.1, 1.2, 1.3,\n",
       "       1.4, 1.5, 1.6, 1.7, 1.8, 1.9, 2. , 2.1, 2.2, 2.3, 2.4, 2.5])"
      ]
     },
     "execution_count": 17,
     "metadata": {},
     "output_type": "execute_result"
    }
   ],
   "source": [
    "np.arange(0.1, 2.6, 0.1)"
   ]
  },
  {
   "cell_type": "code",
   "execution_count": 25,
   "metadata": {},
   "outputs": [
    {
     "data": {
      "image/png": "[encoded data removed]",
      "text/plain": [
       "<Figure size 432x288 with 1 Axes>"
      ]
     },
     "metadata": {},
     "output_type": "display_data"
    }
   ],
   "source": [
    "%matplotlib inline\n",
    "h_avg, m_avg = [], []  # h = H/N, m = M/N\n",
    "T = np.arange(0.1, 2.6, 0.1)\n",
    "\n",
    "for t in T:\n",
    "    model = Ising_2D()\n",
    "    config_init = model.config\n",
    "    config_final = model.MC_metropolis(copy.deepcopy(model.config), t)\n",
    "    h_avg.append(model.h_avg)\n",
    "    m_avg.append(model.m_avg)\n",
    "\n",
    "plt.figure()\n",
    "plt.scatter(T, m_avg)\n",
    "plt.xlabel('Magnetization per site')\n",
    "plt.ylabel('Energy per site')\n",
    "plt.title('Energy as a function of magnetization')\n",
    "plt.grid()"
   ]
  },
  {
   "cell_type": "code",
   "execution_count": 23,
   "metadata": {},
   "outputs": [],
   "source": [
    "%matplotlib agg   \n",
    "model = Ising_2D()\n",
    "config_init = model.config\n",
    "\n",
    "T = np.linspace(0.01, 3)\n",
    "m = []\n",
    "\n",
    "for i in range(len(T)):\n",
    "    config = model.MC_metropolis(copy.deepcopy(config_init), T[i])\n",
    "    m.append(np.mean(config))   # M/N"
   ]
  },
  {
   "cell_type": "markdown",
   "metadata": {},
   "source": [
    "#### 3. Estimation of the critical temperature"
   ]
  },
  {
   "cell_type": "code",
   "execution_count": 73,
   "metadata": {},
   "outputs": [
    {
     "name": "stdout",
     "output_type": "stream",
     "text": [
      "[[-1 -1 -1 -1 -1]\n",
      " [-1  1 -1 -1  1]\n",
      " [-1  1  1  1 -1]\n",
      " [-1 -1 -1 -1 -1]\n",
      " [ 1 -1  1 -1  1]]\n"
     ]
    },
    {
     "data": {
      "image/png": "[encoded data removed]",
      "text/plain": [
       "<Figure size 432x288 with 1 Axes>"
      ]
     },
     "metadata": {},
     "output_type": "display_data"
    }
   ],
   "source": [
    "%matplotlib inline\n",
    "model = Ising_2D()\n",
    "config_init = model.config\n",
    "\n",
    "T = np.linspace(0.01, 3)\n",
    "m = []\n",
    "\n",
    "for i in range(len(T)):\n",
    "    config = model.MC_metropolis(copy.deepcopy(config_init), T[i])\n",
    "    m.append(np.sum(config) / (model.n) ** 2)   # M/N\n",
    "    \n",
    "plt.figure()\n",
    "plt.scatter(T, M)\n",
    "plt.xlabel('Temperature')\n",
    "plt.ylabel('Magnetization')\n",
    "plt.title('Magnetization as a function of temperature')\n",
    "plt.grid()"
   ]
  },
  {
   "cell_type": "code",
   "execution_count": 164,
   "metadata": {},
   "outputs": [
    {
     "ename": "IndentationError",
     "evalue": "expected an indented block (<ipython-input-164-567715ad0dad>, line 24)",
     "output_type": "error",
     "traceback": [
      "\u001b[1;36m  File \u001b[1;32m\"<ipython-input-164-567715ad0dad>\"\u001b[1;36m, line \u001b[1;32m24\u001b[0m\n\u001b[1;33m    mcmove(config, iT)           # Monte Carlo moves\u001b[0m\n\u001b[1;37m                                                    ^\u001b[0m\n\u001b[1;31mIndentationError\u001b[0m\u001b[1;31m:\u001b[0m expected an indented block\n"
     ]
    }
   ],
   "source": [
    "        \n",
    "    \n",
    "## change these parameters for a smaller (faster) simulation \n",
    "nt      = 88         #  number of temperature points\n",
    "N       = 16         #  size of the lattice, N x N\n",
    "eqSteps = 1024       #  number of MC sweeps for equilibration\n",
    "mcSteps = 1024       #  number of MC sweeps for calculation\n",
    "\n",
    "T       = np.linspace(1.53, 3.28, nt); \n",
    "E,M,C,X = np.zeros(nt), np.zeros(nt), np.zeros(nt), np.zeros(nt)\n",
    "n1, n2  = 1.0/(mcSteps*N*N), 1.0/(mcSteps*mcSteps*N*N) \n",
    "# divide by number of samples, and by system size to get intensive values\n",
    "    \n",
    "    \n",
    "#----------------------------------------------------------------------\n",
    "#  MAIN PART OF THE CODE\n",
    "#----------------------------------------------------------------------\n",
    "for tt in range(nt):\n",
    "    E1 = M1 = E2 = M2 = 0\n",
    "    config = initialstate(N)\n",
    "    iT=1.0/T[tt]; iT2=iT*iT;\n",
    "    \n",
    "    for i in range(eqSteps):         # equilibrate\n",
    "        mcmove(config, iT)           # Monte Carlo moves\n",
    "\n",
    "    for i in range(mcSteps):\n",
    "        mcmove(config, iT)           \n",
    "        Ene = calcEnergy(config)     # calculate the energy\n",
    "        Mag = calcMag(config)        # calculate the magnetisation\n",
    "\n",
    "        E1 = E1 + Ene\n",
    "        M1 = M1 + Mag\n",
    "        M2 = M2 + Mag*Mag \n",
    "        E2 = E2 + Ene*Ene\n",
    "\n",
    "    E[tt] = n1*E1\n",
    "    M[tt] = n1*M1\n",
    "    C[tt] = (n1*E2 - n2*E1*E1)*iT2\n",
    "    X[tt] = (n1*M2 - n2*M1*M1)*iT    "
   ]
  },
  {
   "cell_type": "code",
   "execution_count": null,
   "metadata": {},
   "outputs": [],
   "source": []
  }
 ],
 "metadata": {
  "celltoolbar": "Create Assignment",
  "kernelspec": {
   "display_name": "Python 3",
   "language": "python",
   "name": "python3"
  },
  "language_info": {
   "codemirror_mode": {
    "name": "ipython",
    "version": 3
   },
   "file_extension": ".py",
   "mimetype": "text/x-python",
   "name": "python",
   "nbconvert_exporter": "python",
   "pygments_lexer": "ipython3",
   "version": "3.7.3"
  }
 },
 "nbformat": 4,
 "nbformat_minor": 2
}
