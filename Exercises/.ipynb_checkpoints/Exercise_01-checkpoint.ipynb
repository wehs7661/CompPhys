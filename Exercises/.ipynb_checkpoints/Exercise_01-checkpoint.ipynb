{
 "cells": [
  {
   "cell_type": "markdown",
   "metadata": {
    "nbgrader": {
     "grade": false,
     "grade_id": "cell-100899e0deea9789",
     "locked": true,
     "schema_version": 1,
     "solution": false
    }
   },
   "source": [
    "# Exercise 1\n",
    "\n",
    "## Physics 7810\n",
    "## Due March 2, 2020"
   ]
  },
  {
   "cell_type": "markdown",
   "metadata": {
    "nbgrader": {
     "grade": false,
     "grade_id": "cell-66620da88b06fd9e",
     "locked": true,
     "schema_version": 1,
     "solution": false
    }
   },
   "source": [
    "## E1.1 - Metropolis Monte Carlo simulation of the Lennard-Jones system\n",
    "\n",
    "Write a Python program to simulate the three-dimensional (3D) Lennard-Jones (LJ) system in the $NVT$ ensemble using the Metropolis Monte Carlo (MC) algorithm. As in Homework 2, use periodic boundary conditions, and assume that the $N$ particles in the simulation are initially placed in a cubic box of sidelength $L$ (so the volume $V = L^3$).\n",
    "\n",
    "You can re-use much of the molecular dynamics (MD) simulation code you wrote to simulate the 3D LJ system. The main difference is that the MD integration step for updating particle positions and velocities is replaced by an MC 'sweep' that updates particle positions through a sequence of $N$ small random displacements of randomly selected particles. There's no need to define the particle velocities in an MC simulation, as only particle configurations are sampled.\n",
    "\n",
    "Note also that only changes in energy (not forces) are needed for calculating the Metropolis acceptance probability,\n",
    "\n",
    "$$\n",
    "P_\\mathrm{acc}(o \\to n) = \\min \\left[1, e^{- \\beta \\Delta U} \\right].\n",
    "$$\n",
    "\n",
    "Thus, you could in principle save time by only computing the pair potential, not the pair forces. However, the pair forces are needed for calculating the pressure (via the virial), so keep the pair force calculation in your pair interaction routine.\n",
    "\n",
    "Generate random trial moves for particles according to the procedure described in Section 3.3 in Frenkel and Smit and Section 4.4 in Allen and Tildesley. This involves generating a trial displacement of a selected particle uniformly within a cube of sidelength $\\Delta$ centered on the particle. The parameter $\\Delta$ is a free parameter that can be adjusted to maximize the sampling efficiency of the MC procedure. We'll discuss how to do this systematically later (see Section 3.3 in Frenkel and Smit, for example), but for now just adjust $\\Delta$ so that the average acceptance probability is between $0.2$ and $0.5$ (note that the value of $\\Delta$ needed to achieve this will depend on density and temperature).\n",
    "\n",
    "Is it obvious that this procedure for generating trial displacements satisfies detailed balance?\n",
    "\n",
    "Use your simulation code to reproduce the equation of state $\\langle P(\\rho) \\rangle$ shown on the right side of Figure 3.5 in Frenkel and Smit, using the procedure described in Section 3.4 of Frenkel and Smit (cutoff $r_c$ equal to half the box length, tail corrections for the potential energy and pressure, etc.). Use Equation 3.4.1 to calculate the pressure from the virial (Equation 3.4.2). This will require accumulating the virial within your pair interaction routine.\n",
    "\n",
    "Because you're using Python and an inefficient neighbor search method, you may need to simulate systems that are significantly smaller than the system studied by Frenkel and Smit ($N = 500$). Also, you'll need to monitor the equilibration of the system to determine at what point the potential energy and pressure have stabilized, with small fluctuations around a average value. Do this by plotting $U(n)$ and $P(n)$ as a function of the number of MC sweeps $n$. The average potential energy per particle $\\langle U / N \\rangle$ and the average pressure $\\langle P \\rangle$ should be calculated as averages over the latter part of the simulation, not including the initial approach to equilibrium."
   ]
  },
  {
   "cell_type": "markdown",
   "metadata": {},
   "source": [
    "### Solution"
   ]
  },
  {
   "cell_type": "markdown",
   "metadata": {},
   "source": [
    "#### Part 1: The total potential energy and pressure as a function of time and the calculation of $\\langle U/N \\rangle$ and $\\langle P \\rangle$"
   ]
  },
  {
   "cell_type": "markdown",
   "metadata": {},
   "source": [
    "First, we import the library for molecular simulations, `Molecular_Simulations`."
   ]
  },
  {
   "cell_type": "code",
   "execution_count": 2,
   "metadata": {},
   "outputs": [],
   "source": [
    "import sys\n",
    "sys.path.insert(1, '../')  # so the system can locate the library folder\n",
    "from CompPhysLib.Molecular_Simulations import *"
   ]
  },
  {
   "cell_type": "markdown",
   "metadata": {},
   "source": [
    "Then, we read the parameters for running the MC simulation from `Exercise_01.yml` and use the instance of the class `Initialization` as the input of `MonteCarlo` as follows. The parameters specified include:\n",
    "```yaml\n",
    "# Simulation parameters\n",
    "simulation: 'MC'\n",
    "N_particles: 50\n",
    "N_steps: 200\n",
    "print_freq: 1\n",
    "\n",
    "dimension: 3\n",
    "box_length: 3\n",
    "temperature: 1\n",
    "coords_method: 'random'\n",
    "PBC: 'yes'\n",
    "max_d: 0.5\n",
    "\n",
    "kb: 1\n",
    "m: 1   # the mass of the particles (all the same)\n",
    "potential: 'LJ'\n",
    "epsilon: 1  # epsilon in LJ potential\n",
    "sigma: 1    # signma in LJ potential\n",
    "energy_truncation: 'no'\n",
    "\n",
    "```"
   ]
  },
  {
   "cell_type": "code",
   "execution_count": 27,
   "metadata": {},
   "outputs": [
    {
     "name": "stdout",
     "output_type": "stream",
     "text": [
      "Elapsed time: 185.83069801330566\n"
     ]
    }
   ],
   "source": [
    "import time\n",
    "t1 = time.time()\n",
    "param = Initialization('Exercise_01.yml')\n",
    "MC = MonteCarlo(param)\n",
    "MC.MC_E_total\n",
    "MC.metropolis_algrtm(MC.coords)\n",
    "t2 = time.time()\n",
    "print('Elapsed time: %s' % (t2-t1))"
   ]
  },
  {
   "cell_type": "markdown",
   "metadata": {},
   "source": [
    "After the simulation is complete, we use `TrajAnalysis` to analyze the trajectory as follows."
   ]
  },
  {
   "cell_type": "code",
   "execution_count": 29,
   "metadata": {},
   "outputs": [
    {
     "data": {
      "image/png": "[encoded data removed]",
      "text/plain": [
       "<Figure size 432x288 with 1 Axes>"
      ]
     },
     "metadata": {},
     "output_type": "display_data"
    }
   ],
   "source": [
    "TA = TrajAnalysis(MC, 'Exercise_01_traj.yml')\n",
    "#TA.plot_2d(TA.E_total, 'Total energy', 2000)\n",
    "TA.plot_2d(TA.pressure, 'Pressure')"
   ]
  },
  {
   "cell_type": "markdown",
   "metadata": {},
   "source": [
    "According the Frenkel and Smit, the tail corrections for the energy and the pressure can be expressed as follows:\n",
    "\n",
    "$$u^{\\text{tail}} = \\frac{8}{3} \\pi \\rho \\left [ \\frac{1}{3} \\left ( \\frac{1}{r_{c}} \\right )^{9} - \\left ( \\frac{1}{r_{c}} \\right )^{3} \\right ], \\; P^{\\text{tail}} = \\frac{16}{3} \\pi \\rho^{2} \\left [ \\frac{2}{3} \\left ( \\frac{1}{r_{c}} \\right )^{9} - \\left ( \\frac{1}{r_{c}} \\right )^{3} \\right ]$$\n",
    "\n",
    "In addition, the pressure can be calculated using virial:\n",
    "$$P = \\frac{\\rho}{\\beta} + \\frac{\\text{vir}}{V}$$\n",
    "where the virial is defined by\n",
    "$$\\text{vir} = \\frac{1}{3} \\sum_{i} \\sum_{j>i} {\\bf f}({\\bf r}_{ij}) \\cdot {\\bf r}_{ij}$$\n",
    "As the virial is just one third the value of the sum of the dot product of the forces and the coordinates of all the pairs, instead of using a double loop, we can use `itertools.combination` to speed up the calculation."
   ]
  },
  {
   "cell_type": "markdown",
   "metadata": {},
   "source": [
    "Note that in a Monte Carlo simulation, only one particle is selected to be moved. Therefore, instead of computing the total energy of the system, we compute the total pairwise potential of the selected particle before and after the move is accepted and use the difference between these two values to compute the acceptance ratio. The computational cost should be significantly lower than computing the total energy of the system (about 50% lower)."
   ]
  },
  {
   "cell_type": "markdown",
   "metadata": {},
   "source": [
    "As a rule of thumb, an acceptance of 40-50% should be a good choice. "
   ]
  },
  {
   "cell_type": "code",
   "execution_count": 41,
   "metadata": {},
   "outputs": [
    {
     "name": "stdout",
     "output_type": "stream",
     "text": [
      "The average pressure is: -0.09288735901472407\n"
     ]
    }
   ],
   "source": [
    "#print('The average energy per particle is: %s' % (np.mean(np.array(TA.E_total[0:]) / TA.N_particles)))\n",
    "print('The average pressure is: %s' % (np.mean(TA.pressure[19000:])))"
   ]
  },
  {
   "cell_type": "markdown",
   "metadata": {},
   "source": [
    "#### Part 2: Pressure as a function of the density"
   ]
  },
  {
   "cell_type": "code",
   "execution_count": 42,
   "metadata": {},
   "outputs": [],
   "source": [
    "def pressure_rho(rho_list):\n",
    "    param = Initialization('Exercise_01.yml')\n",
    "    P_mean = []\n",
    "    for i in rho_list:\n",
    "        param.rho = i\n",
    "        MC = MonteCarlo(param)\n",
    "        MC.MC_E_total\n",
    "        MC.metropolis_algrtm(MC.coords)\n",
    "        TA = TrajAnalysis(MC, 'Exercise_01_traj.yml')\n",
    "        P_mean.append(np.mean(TA.pressure))\n",
    "        \n",
    "    return P_mean"
   ]
  },
  {
   "cell_type": "code",
   "execution_count": 43,
   "metadata": {},
   "outputs": [
    {
     "ename": "KeyboardInterrupt",
     "evalue": "",
     "output_type": "error",
     "traceback": [
      "\u001b[1;31m---------------------------------------------------------------------------\u001b[0m",
      "\u001b[1;31mKeyboardInterrupt\u001b[0m                         Traceback (most recent call last)",
      "\u001b[1;32m<ipython-input-43-5e4461c52786>\u001b[0m in \u001b[0;36m<module>\u001b[1;34m()\u001b[0m\n\u001b[0;32m      1\u001b[0m \u001b[0mrho_list\u001b[0m \u001b[1;33m=\u001b[0m \u001b[0mnp\u001b[0m\u001b[1;33m.\u001b[0m\u001b[0marange\u001b[0m\u001b[1;33m(\u001b[0m\u001b[1;36m0.1\u001b[0m\u001b[1;33m,\u001b[0m \u001b[1;36m1.0\u001b[0m\u001b[1;33m,\u001b[0m \u001b[1;36m0.1\u001b[0m\u001b[1;33m)\u001b[0m\u001b[1;33m\u001b[0m\u001b[0m\n\u001b[1;32m----> 2\u001b[1;33m \u001b[0mP_mean\u001b[0m \u001b[1;33m=\u001b[0m \u001b[0mpressure_rho\u001b[0m\u001b[1;33m(\u001b[0m\u001b[0mrho_list\u001b[0m\u001b[1;33m)\u001b[0m\u001b[1;33m\u001b[0m\u001b[0m\n\u001b[0m",
      "\u001b[1;32m<ipython-input-42-a888164a9d2d>\u001b[0m in \u001b[0;36mpressure_rho\u001b[1;34m(rho_list)\u001b[0m\n\u001b[0;32m      6\u001b[0m         \u001b[0mMC\u001b[0m \u001b[1;33m=\u001b[0m \u001b[0mMonteCarlo\u001b[0m\u001b[1;33m(\u001b[0m\u001b[0mparam\u001b[0m\u001b[1;33m)\u001b[0m\u001b[1;33m\u001b[0m\u001b[0m\n\u001b[0;32m      7\u001b[0m         \u001b[0mMC\u001b[0m\u001b[1;33m.\u001b[0m\u001b[0mMC_E_total\u001b[0m\u001b[1;33m\u001b[0m\u001b[0m\n\u001b[1;32m----> 8\u001b[1;33m         \u001b[0mMC\u001b[0m\u001b[1;33m.\u001b[0m\u001b[0mmetropolis_algrtm\u001b[0m\u001b[1;33m(\u001b[0m\u001b[0mMC\u001b[0m\u001b[1;33m.\u001b[0m\u001b[0mcoords\u001b[0m\u001b[1;33m)\u001b[0m\u001b[1;33m\u001b[0m\u001b[0m\n\u001b[0m\u001b[0;32m      9\u001b[0m         \u001b[0mTA\u001b[0m \u001b[1;33m=\u001b[0m \u001b[0mTrajAnalysis\u001b[0m\u001b[1;33m(\u001b[0m\u001b[0mMC\u001b[0m\u001b[1;33m,\u001b[0m \u001b[1;34m'Exercise_01_traj.yml'\u001b[0m\u001b[1;33m)\u001b[0m\u001b[1;33m\u001b[0m\u001b[0m\n\u001b[0;32m     10\u001b[0m         \u001b[0mP_mean\u001b[0m\u001b[1;33m.\u001b[0m\u001b[0mappend\u001b[0m\u001b[1;33m(\u001b[0m\u001b[0mnp\u001b[0m\u001b[1;33m.\u001b[0m\u001b[0mmean\u001b[0m\u001b[1;33m(\u001b[0m\u001b[0mTA\u001b[0m\u001b[1;33m.\u001b[0m\u001b[0mpressure\u001b[0m\u001b[1;33m)\u001b[0m\u001b[1;33m)\u001b[0m\u001b[1;33m\u001b[0m\u001b[0m\n",
      "\u001b[1;32m~\\Downloads\\Computational_Physics\\CompPhys\\CompPhysLib\\Molecular_Simulations.py\u001b[0m in \u001b[0;36mmetropolis_algrtm\u001b[1;34m(self, coords)\u001b[0m\n\u001b[0;32m    513\u001b[0m             \u001b[1;31m# print the trajectory data\u001b[0m\u001b[1;33m\u001b[0m\u001b[1;33m\u001b[0m\u001b[0m\n\u001b[0;32m    514\u001b[0m             \u001b[0moutput\u001b[0m \u001b[1;33m=\u001b[0m \u001b[0mself\u001b[0m\u001b[1;33m.\u001b[0m\u001b[0moutput_data\u001b[0m\u001b[1;33m(\u001b[0m\u001b[0mi\u001b[0m \u001b[1;33m+\u001b[0m \u001b[1;36m1\u001b[0m\u001b[1;33m,\u001b[0m \u001b[0mcoords\u001b[0m\u001b[1;33m)\u001b[0m\u001b[1;33m\u001b[0m\u001b[0m\n\u001b[1;32m--> 515\u001b[1;33m             \u001b[1;32mwith\u001b[0m \u001b[0mopen\u001b[0m\u001b[1;33m(\u001b[0m\u001b[0mself\u001b[0m\u001b[1;33m.\u001b[0m\u001b[0mtraj_name\u001b[0m\u001b[1;33m,\u001b[0m \u001b[1;34m'a+'\u001b[0m\u001b[1;33m,\u001b[0m \u001b[0mnewline\u001b[0m\u001b[1;33m=\u001b[0m\u001b[1;34m''\u001b[0m\u001b[1;33m)\u001b[0m \u001b[1;32mas\u001b[0m \u001b[0moutfile\u001b[0m\u001b[1;33m:\u001b[0m\u001b[1;33m\u001b[0m\u001b[0m\n\u001b[0m\u001b[0;32m    516\u001b[0m                 \u001b[1;32mif\u001b[0m \u001b[0mi\u001b[0m \u001b[1;33m%\u001b[0m \u001b[0mself\u001b[0m\u001b[1;33m.\u001b[0m\u001b[0mprint_freq\u001b[0m \u001b[1;33m==\u001b[0m \u001b[0mself\u001b[0m\u001b[1;33m.\u001b[0m\u001b[0mprint_freq\u001b[0m \u001b[1;33m-\u001b[0m \u001b[1;36m1\u001b[0m\u001b[1;33m:\u001b[0m\u001b[1;33m\u001b[0m\u001b[0m\n\u001b[0;32m    517\u001b[0m                     \u001b[0moutfile\u001b[0m\u001b[1;33m.\u001b[0m\u001b[0mwrite\u001b[0m\u001b[1;33m(\u001b[0m\u001b[1;34m\"\\n\"\u001b[0m\u001b[1;33m)\u001b[0m\u001b[1;33m\u001b[0m\u001b[0m\n",
      "\u001b[1;32m~\\Anaconda3\\lib\\_bootlocale.py\u001b[0m in \u001b[0;36mgetpreferredencoding\u001b[1;34m(do_setlocale)\u001b[0m\n\u001b[0;32m      9\u001b[0m \u001b[1;33m\u001b[0m\u001b[0m\n\u001b[0;32m     10\u001b[0m \u001b[1;32mif\u001b[0m \u001b[0msys\u001b[0m\u001b[1;33m.\u001b[0m\u001b[0mplatform\u001b[0m\u001b[1;33m.\u001b[0m\u001b[0mstartswith\u001b[0m\u001b[1;33m(\u001b[0m\u001b[1;34m\"win\"\u001b[0m\u001b[1;33m)\u001b[0m\u001b[1;33m:\u001b[0m\u001b[1;33m\u001b[0m\u001b[0m\n\u001b[1;32m---> 11\u001b[1;33m     \u001b[1;32mdef\u001b[0m \u001b[0mgetpreferredencoding\u001b[0m\u001b[1;33m(\u001b[0m\u001b[0mdo_setlocale\u001b[0m\u001b[1;33m=\u001b[0m\u001b[1;32mTrue\u001b[0m\u001b[1;33m)\u001b[0m\u001b[1;33m:\u001b[0m\u001b[1;33m\u001b[0m\u001b[0m\n\u001b[0m\u001b[0;32m     12\u001b[0m         \u001b[1;32mreturn\u001b[0m \u001b[0m_locale\u001b[0m\u001b[1;33m.\u001b[0m\u001b[0m_getdefaultlocale\u001b[0m\u001b[1;33m(\u001b[0m\u001b[1;33m)\u001b[0m\u001b[1;33m[\u001b[0m\u001b[1;36m1\u001b[0m\u001b[1;33m]\u001b[0m\u001b[1;33m\u001b[0m\u001b[0m\n\u001b[0;32m     13\u001b[0m \u001b[1;32melse\u001b[0m\u001b[1;33m:\u001b[0m\u001b[1;33m\u001b[0m\u001b[0m\n",
      "\u001b[1;31mKeyboardInterrupt\u001b[0m: "
     ]
    }
   ],
   "source": [
    "rho_list = np.arange(0.1, 1.0, 0.1)\n",
    "P_mean = pressure_rho(rho_list)"
   ]
  },
  {
   "cell_type": "code",
   "execution_count": null,
   "metadata": {},
   "outputs": [],
   "source": [
    "plt.figure()\n",
    "plt.scatter(rho_list, P_mean)\n",
    "plt.xlabel('Density')\n",
    "plt.ylabel('Pressure')\n",
    "plt.title('Pressure as a function of density')\n",
    "plt.grid()"
   ]
  },
  {
   "cell_type": "code",
   "execution_count": 34,
   "metadata": {},
   "outputs": [
    {
     "data": {
      "text/plain": [
       "array([ 6,  7,  8,  9, 10])"
      ]
     },
     "execution_count": 34,
     "metadata": {},
     "output_type": "execute_result"
    }
   ],
   "source": [
    "np.arange(1, 11)[5:]"
   ]
  },
  {
   "cell_type": "code",
   "execution_count": null,
   "metadata": {},
   "outputs": [],
   "source": []
  }
 ],
 "metadata": {
  "celltoolbar": "Create Assignment",
  "kernelspec": {
   "display_name": "Python 3",
   "language": "python",
   "name": "python3"
  },
  "language_info": {
   "codemirror_mode": {
    "name": "ipython",
    "version": 3
   },
   "file_extension": ".py",
   "mimetype": "text/x-python",
   "name": "python",
   "nbconvert_exporter": "python",
   "pygments_lexer": "ipython3",
   "version": "3.6.5"
  }
 },
 "nbformat": 4,
 "nbformat_minor": 2
}
