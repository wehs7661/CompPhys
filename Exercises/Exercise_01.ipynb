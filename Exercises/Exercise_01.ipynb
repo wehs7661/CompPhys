{
 "cells": [
  {
   "cell_type": "markdown",
   "metadata": {
    "nbgrader": {
     "grade": false,
     "grade_id": "cell-100899e0deea9789",
     "locked": true,
     "schema_version": 1,
     "solution": false
    }
   },
   "source": [
    "# Exercise 1\n",
    "\n",
    "## Physics 7810\n",
    "## Due March 2, 2020"
   ]
  },
  {
   "cell_type": "markdown",
   "metadata": {
    "nbgrader": {
     "grade": false,
     "grade_id": "cell-66620da88b06fd9e",
     "locked": true,
     "schema_version": 1,
     "solution": false
    }
   },
   "source": [
    "## E1.1 - Metropolis Monte Carlo simulation of the Lennard-Jones system\n",
    "\n",
    "Write a Python program to simulate the three-dimensional (3D) Lennard-Jones (LJ) system in the $NVT$ ensemble using the Metropolis Monte Carlo (MC) algorithm. As in Homework 2, use periodic boundary conditions, and assume that the $N$ particles in the simulation are initially placed in a cubic box of sidelength $L$ (so the volume $V = L^3$).\n",
    "\n",
    "You can re-use much of the molecular dynamics (MD) simulation code you wrote to simulate the 3D LJ system. The main difference is that the MD integration step for updating particle positions and velocities is replaced by an MC 'sweep' that updates particle positions through a sequence of $N$ small random displacements of randomly selected particles. There's no need to define the particle velocities in an MC simulation, as only particle configurations are sampled.\n",
    "\n",
    "Note also that only changes in energy (not forces) are needed for calculating the Metropolis acceptance probability,\n",
    "\n",
    "$$\n",
    "P_\\mathrm{acc}(o \\to n) = \\min \\left[1, e^{- \\beta \\Delta U} \\right].\n",
    "$$\n",
    "\n",
    "Thus, you could in principle save time by only computing the pair potential, not the pair forces. However, the pair forces are needed for calculating the pressure (via the virial), so keep the pair force calculation in your pair interaction routine.\n",
    "\n",
    "Generate random trial moves for particles according to the procedure described in Section 3.3 in Frenkel and Smit and Section 4.4 in Allen and Tildesley. This involves generating a trial displacement of a selected particle uniformly within a cube of sidelength $\\Delta$ centered on the particle. The parameter $\\Delta$ is a free parameter that can be adjusted to maximize the sampling efficiency of the MC procedure. We'll discuss how to do this systematically later (see Section 3.3 in Frenkel and Smit, for example), but for now just adjust $\\Delta$ so that the average acceptance probability is between $0.2$ and $0.5$ (note that the value of $\\Delta$ needed to achieve this will depend on density and temperature).\n",
    "\n",
    "Is it obvious that this procedure for generating trial displacements satisfies detailed balance?\n",
    "\n",
    "Use your simulation code to reproduce the equation of state $\\langle P(\\rho) \\rangle$ shown on the right side of Figure 3.5 in Frenkel and Smit, using the procedure described in Section 3.4 of Frenkel and Smit (cutoff $r_c$ equal to half the box length, tail corrections for the potential energy and pressure, etc.). Use Equation 3.4.1 to calculate the pressure from the virial (Equation 3.4.2). This will require accumulating the virial within your pair interaction routine.\n",
    "\n",
    "Because you're using Python and an inefficient neighbor search method, you may need to simulate systems that are significantly smaller than the system studied by Frenkel and Smit ($N = 500$). Also, you'll need to monitor the equilibration of the system to determine at what point the potential energy and pressure have stabilized, with small fluctuations around a average value. Do this by plotting $U(n)$ and $P(n)$ as a function of the number of MC sweeps $n$. The average potential energy per particle $\\langle U / N \\rangle$ and the average pressure $\\langle P \\rangle$ should be calculated as averages over the latter part of the simulation, not including the initial approach to equilibrium."
   ]
  },
  {
   "cell_type": "markdown",
   "metadata": {},
   "source": [
    "### Solution"
   ]
  },
  {
   "cell_type": "markdown",
   "metadata": {},
   "source": [
    "First, we import the library for molecular simulations, `Molecular_Simulations`."
   ]
  },
  {
   "cell_type": "code",
   "execution_count": 6,
   "metadata": {},
   "outputs": [],
   "source": [
    "import sys\n",
    "sys.path.insert(1, '../')  # so the system can locate the library folder\n",
    "from CompPhysLib.Molecular_Simulations import *"
   ]
  },
  {
   "cell_type": "markdown",
   "metadata": {},
   "source": [
    "Then, we read the parameters for running the MC simulation from `Exercise_01.yml` and use the instance of the class `Initialization` as the input of `MonteCarlo` as follows. The parameters specified include:\n",
    "```yaml\n",
    "# Simulation parameters\n",
    "simulation: 'MC'\n",
    "N_particles: 50\n",
    "N_steps: 200\n",
    "print_freq: 1\n",
    "\n",
    "dimension: 3\n",
    "box_length: 3\n",
    "temperature: 1\n",
    "coords_method: 'random'\n",
    "PBC: 'yes'\n",
    "max_d: 0.5\n",
    "\n",
    "kb: 1\n",
    "m: 1   # the mass of the particles (all the same)\n",
    "potential: 'LJ'\n",
    "epsilon: 1  # epsilon in LJ potential\n",
    "sigma: 1    # signma in LJ potential\n",
    "energy_truncation: 'no'\n",
    "\n",
    "```"
   ]
  },
  {
   "cell_type": "code",
   "execution_count": 7,
   "metadata": {},
   "outputs": [
    {
     "name": "stdout",
     "output_type": "stream",
     "text": [
      "13.855146408081055\n"
     ]
    }
   ],
   "source": [
    "import time\n",
    "t1 = time.time()\n",
    "param = Initialization('Exercise_01.yml')\n",
    "MC = MonteCarlo(param)\n",
    "MC.MC_E_total\n",
    "MC.metropolis_algrtm(MC.coords)\n",
    "t2 = time.time()\n",
    "print(t2-t1)"
   ]
  },
  {
   "cell_type": "markdown",
   "metadata": {},
   "source": [
    "After the simulation is complete, we use `TrajAnalysis` to analyze the trajectory as follows."
   ]
  },
  {
   "cell_type": "code",
   "execution_count": 8,
   "metadata": {},
   "outputs": [
    {
     "data": {
      "image/png": "[encoded data removed]",
      "text/plain": [
       "<Figure size 432x288 with 1 Axes>"
      ]
     },
     "metadata": {
      "needs_background": "light"
     },
     "output_type": "display_data"
    },
    {
     "data": {
      "image/png": "[encoded data removed]",
      "text/plain": [
       "<Figure size 432x288 with 1 Axes>"
      ]
     },
     "metadata": {
      "needs_background": "light"
     },
     "output_type": "display_data"
    }
   ],
   "source": [
    "TA = TrajAnalysis(MC, 'Exercise_01_traj.yml')\n",
    "TA.plot_2d(TA.E_total, 'Total energy', 100)\n",
    "TA.plot_2d(TA.pressure, 'Pressure', 100)"
   ]
  },
  {
   "cell_type": "markdown",
   "metadata": {},
   "source": [
    "According the Frenkel and Smit, the tail corrections for the energy and the pressure can be expressed as follows:\n",
    "\n",
    "$$u^{\\text{tail}} = \\frac{8}{3} \\pi \\rho \\left [ \\frac{1}{3} \\left ( \\frac{1}{r_{c}} \\right )^{9} - \\left ( \\frac{1}{r_{c}} \\right )^{3} \\right ], \\; P^{\\text{tail}} = \\frac{16}{3} \\pi \\rho^{2} \\left [ \\frac{2}{3} \\left ( \\frac{1}{r_{c}} \\right )^{9} - \\left ( \\frac{1}{r_{c}} \\right )^{3} \\right ]$$\n",
    "\n",
    "In addition, the pressure can be calculated using virial:\n",
    "$$P = \\frac{\\rho}{\\beta} + \\frac{\\text{vir}}{V}$$\n",
    "where the virial is defined by\n",
    "$$\\text{vir} = \\frac{1}{3} \\sum_{i} \\sum_{j>i} {\\bf f}({\\bf r}_{ij}) \\cdot {\\bf r}_{ij}$$\n",
    "As the virial is just one third the value of the sum of the dot product of the forces and the coordinates of all the pairs, instead of using a double loop, we can use `itertools.combination` to speed up the calculation."
   ]
  },
  {
   "cell_type": "markdown",
   "metadata": {},
   "source": [
    "Note that in a Monte Carlo simulation, only one particle is selected to be moved. Therefore, instead of computing the total energy of the system, we compute the total pairwise potential of the selected particle before and after the move is accepted and use the difference between these two values to compute the acceptance ratio. The computational cost should be significantly lower than computing the total energy of the system (about 50% lower)."
   ]
  },
  {
   "cell_type": "code",
   "execution_count": null,
   "metadata": {},
   "outputs": [],
   "source": [
    "data = np.arange(1, 101)\n",
    "def test(i, j)\n",
    "    return (i-j)**2\n",
    "\n",
    "a, b = 0, 0\n",
    "A = combinations(data, 2)\n",
    "for i in A:\n",
    "    a += test()\n"
   ]
  },
  {
   "cell_type": "markdown",
   "metadata": {},
   "source": [
    "As a rule of thumb, an acceptance of 40-50% should be a good choice. "
   ]
  }
 ],
 "metadata": {
  "celltoolbar": "Create Assignment",
  "kernelspec": {
   "display_name": "Python 3",
   "language": "python",
   "name": "python3"
  },
  "language_info": {
   "codemirror_mode": {
    "name": "ipython",
    "version": 3
   },
   "file_extension": ".py",
   "mimetype": "text/x-python",
   "name": "python",
   "nbconvert_exporter": "python",
   "pygments_lexer": "ipython3",
   "version": "3.7.3"
  }
 },
 "nbformat": 4,
 "nbformat_minor": 2
}
