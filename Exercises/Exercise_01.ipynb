{
 "cells": [
  {
   "cell_type": "markdown",
   "metadata": {
    "nbgrader": {
     "grade": false,
     "grade_id": "cell-100899e0deea9789",
     "locked": true,
     "schema_version": 1,
     "solution": false
    }
   },
   "source": [
    "# Exercise 1\n",
    "\n",
    "## Physics 7810\n",
    "## Due March 2, 2020"
   ]
  },
  {
   "cell_type": "markdown",
   "metadata": {
    "nbgrader": {
     "grade": false,
     "grade_id": "cell-66620da88b06fd9e",
     "locked": true,
     "schema_version": 1,
     "solution": false
    }
   },
   "source": [
    "## E1.1 - Metropolis Monte Carlo simulation of the Lennard-Jones system\n",
    "\n",
    "Write a Python program to simulate the three-dimensional (3D) Lennard-Jones (LJ) system in the $NVT$ ensemble using the Metropolis Monte Carlo (MC) algorithm. As in Homework 2, use periodic boundary conditions, and assume that the $N$ particles in the simulation are initially placed in a cubic box of sidelength $L$ (so the volume $V = L^3$).\n",
    "\n",
    "You can re-use much of the molecular dynamics (MD) simulation code you wrote to simulate the 3D LJ system. The main difference is that the MD integration step for updating particle positions and velocities is replaced by an MC 'sweep' that updates particle positions through a sequence of $N$ small random displacements of randomly selected particles. There's no need to define the particle velocities in an MC simulation, as only particle configurations are sampled.\n",
    "\n",
    "Note also that only changes in energy (not forces) are needed for calculating the Metropolis acceptance probability,\n",
    "\n",
    "$$\n",
    "P_\\mathrm{acc}(o \\to n) = \\min \\left[1, e^{- \\beta \\Delta U} \\right].\n",
    "$$\n",
    "\n",
    "Thus, you could in principle save time by only computing the pair potential, not the pair forces. However, the pair forces are needed for calculating the pressure (via the virial), so keep the pair force calculation in your pair interaction routine.\n",
    "\n",
    "Generate random trial moves for particles according to the procedure described in Section 3.3 in Frenkel and Smit and Section 4.4 in Allen and Tildesley. This involves generating a trial displacement of a selected particle uniformly within a cube of sidelength $\\Delta$ centered on the particle. The parameter $\\Delta$ is a free parameter that can be adjusted to maximize the sampling efficiency of the MC procedure. We'll discuss how to do this systematically later (see Section 3.3 in Frenkel and Smit, for example), but for now just adjust $\\Delta$ so that the average acceptance probability is between $0.2$ and $0.5$ (note that the value of $\\Delta$ needed to achieve this will depend on density and temperature).\n",
    "\n",
    "Is it obvious that this procedure for generating trial displacements satisfies detailed balance?\n",
    "\n",
    "Use your simulation code to reproduce the equation of state $\\langle P(\\rho) \\rangle$ shown on the right side of Figure 3.5 in Frenkel and Smit, using the procedure described in Section 3.4 of Frenkel and Smit (cutoff $r_c$ equal to half the box length, tail corrections for the potential energy and pressure, etc.). Use Equation 3.4.1 to calculate the pressure from the virial (Equation 3.4.2). This will require accumulating the virial within your pair interaction routine.\n",
    "\n",
    "Because you're using Python and an inefficient neighbor search method, you may need to simulate systems that are significantly smaller than the system studied by Frenkel and Smit ($N = 500$). Also, you'll need to monitor the equilibration of the system to determine at what point the potential energy and pressure have stabilized, with small fluctuations around a average value. Do this by plotting $U(n)$ and $P(n)$ as a function of the number of MC sweeps $n$. The average potential energy per particle $\\langle U / N \\rangle$ and the average pressure $\\langle P \\rangle$ should be calculated as averages over the latter part of the simulation, not including the initial approach to equilibrium."
   ]
  },
  {
   "cell_type": "code",
   "execution_count": 1,
   "metadata": {},
   "outputs": [],
   "source": [
    "import sys\n",
    "sys.path.insert(1, '../')  # so the system can locate the library folder\n",
    "from CompPhysLib.MD_NVE import *"
   ]
  },
  {
   "cell_type": "code",
   "execution_count": 5,
   "metadata": {},
   "outputs": [],
   "source": [
    "param = Initialization('Exercise_01.yml')\n",
    "MC = MonteCarlo('Exercise_01.yml')\n",
    "MC.metropolis_algrtm(MC.coords)"
   ]
  },
  {
   "cell_type": "code",
   "execution_count": 7,
   "metadata": {},
   "outputs": [
    {
     "data": {
      "image/png": "[encoded data removed]",
      "text/plain": [
       "<Figure size 432x288 with 1 Axes>"
      ]
     },
     "metadata": {},
     "output_type": "display_data"
    }
   ],
   "source": [
    "TA = TrajAnalysis('Exercise_01.yml', 'Exercise_01_traj.yml')\n",
    "TA.plot_2d(TA.E_total, 'Total energy', 10)"
   ]
  },
  {
   "cell_type": "code",
   "execution_count": 4,
   "metadata": {},
   "outputs": [
    {
     "data": {
      "text/plain": [
       "200"
      ]
     },
     "execution_count": 4,
     "metadata": {},
     "output_type": "execute_result"
    }
   ],
   "source": [
    "TA.N_steps"
   ]
  },
  {
   "cell_type": "code",
   "execution_count": null,
   "metadata": {},
   "outputs": [],
   "source": []
  }
 ],
 "metadata": {
  "celltoolbar": "Create Assignment",
  "kernelspec": {
   "display_name": "Python 3",
   "language": "python",
   "name": "python3"
  },
  "language_info": {
   "codemirror_mode": {
    "name": "ipython",
    "version": 3
   },
   "file_extension": ".py",
   "mimetype": "text/x-python",
   "name": "python",
   "nbconvert_exporter": "python",
   "pygments_lexer": "ipython3",
   "version": "3.6.5"
  }
 },
 "nbformat": 4,
 "nbformat_minor": 2
}
