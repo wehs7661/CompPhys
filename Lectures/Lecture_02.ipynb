{
 "cells": [
  {
   "cell_type": "markdown",
   "metadata": {
    "nbgrader": {
     "grade": false,
     "grade_id": "cell-100899e0deea9789",
     "locked": true,
     "schema_version": 1,
     "solution": false
    },
    "slideshow": {
     "slide_type": "slide"
    }
   },
   "source": [
    "# Lecture 2: The classical time evolution operator and numerical integrators\n",
    "\n",
    "## Physics 7810, Spring 2020"
   ]
  },
  {
   "cell_type": "markdown",
   "metadata": {
    "nbgrader": {
     "grade": false,
     "grade_id": "cell-66620da88b06fd9e",
     "locked": true,
     "schema_version": 1,
     "solution": false
    },
    "slideshow": {
     "slide_type": "slide"
    }
   },
   "source": [
    "## 2.1 - Original derivation of the Verlet algorithm \n",
    "\n",
    "The original derivation of the Verlet algorithm introduced in the previous lecture made use of Taylor expansions to construct an explicitly time-reversible integration scheme. One first writes the 'forward' Taylor expansion to obtain the position of a particle at time $t + \\Delta t$ from the position, velocity, and acceleration at time $t$:\n",
    "\n",
    "$${\\bf r}(t + \\Delta t) = {\\bf r}(t) + \\Delta t {\\bf v}(t) + \\frac{1}{2} \\Delta t^2 {\\bf a}(t) + ...$$\n",
    "\n",
    "Similarly, one can write the 'reverse' Taylor expansion:\n",
    "\n",
    "$${\\bf r}(t - \\Delta t) = {\\bf r}(t) - \\Delta t {\\bf v}(t) + \\frac{1}{2} \\Delta t^2 {\\bf a}(t) - ...$$\n"
   ]
  },
  {
   "cell_type": "markdown",
   "metadata": {
    "nbgrader": {
     "grade": false,
     "grade_id": "cell-66620da88b06fd9e",
     "locked": true,
     "schema_version": 1,
     "solution": false
    },
    "slideshow": {
     "slide_type": "slide"
    }
   },
   "source": [
    "Adding these two expansions and rearranging terms results in the original Verlet algorithm:\n",
    "\n",
    "$${\\bf r}(t + \\Delta t) = 2 {\\bf r}(t) - {\\bf r}(t - \\Delta t) + \\Delta t^2 {\\bf a}(t)\n",
    "= 2 {\\bf r}(t) - {\\bf r}(t - \\Delta t) + \\frac{\\Delta t^2}{m} {\\bf f}[{\\bf r}(t)],$$\n",
    "\n",
    "where we have made use of Newton's second law in the final step. Note that the terms involving the velocity vanish, as do all odd-order terms in the Taylor expansion, so the leading error term is of order $\\Delta t^4$ (the local error). Following the usual convention for ODE solvers, the Verlet position update has order 3 (a method is said to be of order $p$ is the leading error term is of order $\\Delta t^{p+1}$)."
   ]
  },
  {
   "cell_type": "markdown",
   "metadata": {
    "slideshow": {
     "slide_type": "slide"
    }
   },
   "source": [
    "This integrator involves only the particle position, and does not require the velocity. If the velocities are required, however (e.g., to calculate the kinetic energy or temperature) they can be calculated from the positions:\n",
    "\n",
    "$${\\bf v}(t) = \\frac{{\\bf r}(t + \\Delta t) - {\\bf r}(t - \\Delta t)}{2 \\Delta t}.$$\n",
    "\n",
    "The leading error term in this expression for the velocity is $O(\\Delta t^3)$, so the Verlet velocity update has order 2.\n",
    "\n",
    "It's easy to show that the Verlet algorithm is equivalent to the velocity Verlet method introduced previously, and to other Verlet variants (e.g., 'position' Verlet). The Verlet algorithms are time-reversible by construction, are remarkably stable, and lead to good energy conservation over long integration times ('fidelity'). These desirable properties result from the fact that the Verlet methods preserve certain properties of the the exact Hamiltonian dynamics, as we now discuss."
   ]
  },
  {
   "cell_type": "code",
   "execution_count": 3,
   "metadata": {},
   "outputs": [],
   "source": [
    "from IPython.display import Video"
   ]
  },
  {
   "cell_type": "code",
   "execution_count": 7,
   "metadata": {
    "scrolled": true,
    "slideshow": {
     "slide_type": "slide"
    }
   },
   "outputs": [
    {
     "data": {
      "text/html": [
       "<video src=\"movies/vdist_whitebackground.mov\" controls  width=\"1000\" >\n",
       "      Your browser does not support the <code>video</code> element.\n",
       "    </video>"
      ],
      "text/plain": [
       "<IPython.core.display.Video object>"
      ]
     },
     "execution_count": 7,
     "metadata": {},
     "output_type": "execute_result"
    }
   ],
   "source": [
    "Video(\"movies/vdist_whitebackground.mov\",width=1000)"
   ]
  },
  {
   "cell_type": "markdown",
   "metadata": {
    "slideshow": {
     "slide_type": "fragment"
    }
   },
   "source": [
    "The time evolution is completely deterministic, but rapidly leads to a 'random' Maxwellian distribution of velocities.\n",
    "\n",
    "Animation courtesy of Robert Blackwell."
   ]
  },
  {
   "cell_type": "code",
   "execution_count": 8,
   "metadata": {
    "scrolled": true,
    "slideshow": {
     "slide_type": "slide"
    }
   },
   "outputs": [
    {
     "data": {
      "text/html": [
       "<video src=\"movies/vdist_lowdens_whitebackground.mov\" controls  width=\"1000\" >\n",
       "      Your browser does not support the <code>video</code> element.\n",
       "    </video>"
      ],
      "text/plain": [
       "<IPython.core.display.Video object>"
      ]
     },
     "execution_count": 8,
     "metadata": {},
     "output_type": "execute_result"
    }
   ],
   "source": [
    "Video(\"movies/vdist_lowdens_whitebackground.mov\",width=1000)"
   ]
  },
  {
   "cell_type": "markdown",
   "metadata": {
    "slideshow": {
     "slide_type": "fragment"
    }
   },
   "source": [
    "At low densities, long-wavelength density fluctuations (sound waves) persist long after the Maxwellian velocity distribution is established.\n",
    "\n",
    "Animation courtesy of Robert Blackwell."
   ]
  },
  {
   "cell_type": "markdown",
   "metadata": {
    "nbgrader": {
     "grade": false,
     "grade_id": "cell-66620da88b06fd9e",
     "locked": true,
     "schema_version": 1,
     "solution": false
    },
    "slideshow": {
     "slide_type": "slide"
    }
   },
   "source": [
    "## 2.2 - Liouville formulation of time-reversible algorithms \n",
    "\n",
    "Stable numerical integration schemes can be constructed explicitly by preserving formal properties of the underlying continuous-time Hamiltonian dynamics.\n",
    "\n",
    "Consider the time evolution of any function $A(p^{3N},q^{3N})$ of the phase space momenta $p^{3N}$ and coordinates $q^{3N}$. The time derivative of $A$ is\n",
    "\n",
    "$$\n",
    "\\frac{dA}{dt} = \\sum_{\\alpha = 1}^{3N} \\left[ \\frac{\\partial A}{\\partial q_\\alpha} \\frac{d q_\\alpha}{d t} + \\frac{\\partial A}{\\partial p_\\alpha} \\frac{d p_\\alpha}{d t} \\right]\n",
    "$$\n",
    "$$\n",
    "= \\sum_{\\alpha = 1}^{3N} \\left[ \\frac{\\partial A}{\\partial q_\\alpha} \\frac{\\partial H}{\\partial p_\\alpha} - \\frac{\\partial A}{\\partial p_\\alpha} \\frac{\\partial H}{\\partial q_\\alpha} \\right]\n",
    "= [A, H]\n",
    "$$\n",
    "\n",
    "where $H(p^{3N},q^{3N})$ is the Hamiltonian, and Hamilton's equations of motion $d q_\\alpha / d t = \\partial H / \\partial p_\\alpha$ and\n",
    "$d p_\\alpha / d t = - \\partial H / \\partial q_\\alpha$ have been used for the time derivatives in the second step.\n"
   ]
  },
  {
   "cell_type": "markdown",
   "metadata": {
    "slideshow": {
     "slide_type": "slide"
    }
   },
   "source": [
    "Here we have defined the *Poisson bracket*,\n",
    "\n",
    "$$\n",
    "[A, H] = \\sum_{\\alpha = 1}^{3N} \\left[ \\frac{\\partial A}{\\partial q_\\alpha} \\frac{\\partial H}{\\partial p_\\alpha} - \\frac{\\partial A}{\\partial p_\\alpha} \\frac{\\partial H}{\\partial q_\\alpha} \\right]\n",
    "$$\n",
    "\n",
    "which is the classical analog of the quantum mechanical commutator. The Poisson bracket generates the time evolution of $A$, allowing us to introduce a time evolution operator that acts on any phase space function $A$, defined by\n",
    "\n",
    "$$\n",
    "i L A = [A, H]\n",
    "$$\n",
    "\n",
    "where $iL$ is known as the *Liouville operator*."
   ]
  },
  {
   "cell_type": "markdown",
   "metadata": {
    "nbgrader": {
     "grade": true,
     "grade_id": "cell-2a056df050ab9a70",
     "locked": false,
     "points": 2,
     "schema_version": 1,
     "solution": true
    },
    "slideshow": {
     "slide_type": "slide"
    }
   },
   "source": [
    "The Liouville operator can be written as a differential operator,\n",
    "\n",
    "$$\n",
    "iL = \\sum_{\\alpha = 1}^{3N} \\left[ \\frac{\\partial H}{\\partial p_\\alpha} \\frac{\\partial}{\\partial q_\\alpha} - \\frac{\\partial H}{\\partial q_\\alpha} \\frac{\\partial}{\\partial p_\\alpha} \\right],\n",
    "$$\n",
    "\n",
    "and the differential equation $dA/dt = i L A$ can be solved formally to obtain\n",
    "\n",
    "$$\n",
    "A[p^{3N}(t),q^{3N}(t)] = e^{iLt} A[p^{3N}(0),q^{3N}(0)]\n",
    "$$\n",
    "\n",
    "where the derivatives in $iL$ act on the initial phase space variables $p^{3N}(0),q^{3N}(0)$."
   ]
  },
  {
   "cell_type": "markdown",
   "metadata": {
    "nbgrader": {
     "grade": false,
     "grade_id": "cell-b240c608e69ba869",
     "locked": true,
     "schema_version": 1,
     "solution": false
    },
    "slideshow": {
     "slide_type": "slide"
    }
   },
   "source": [
    "The operator $\\exp(iLt)$, known as the *classical propagator*, strongly resembles the quantum propagator $\\exp(-i\\hat{H}t/\\hbar)$, where $\\hat{H}$ is the Hamiltonian operator; this is why the factor of $i$ is included in the definition of the Liouville operator.\n",
    "\n",
    "The operator $L$ can be shown to be Hermitian, so the classical propagator $\\exp(iLt)$ is a unitary operator on the phase space (the Jacobian of the variable transformation generated by the dynamics is equal to one). This *area preserving* property of the dynamics turns out to be the critical property that any good discrete-time integrator of a Hamiltonian system should possess."
   ]
  },
  {
   "cell_type": "markdown",
   "metadata": {
    "slideshow": {
     "slide_type": "slide"
    }
   },
   "source": [
    "The function $A$ can be taken to be the $6N$-dimensional vector of phase space variables $\\Gamma(t) = p^{3N}(t),q^{3N}(t)$. In this case, the formal solution to Hamilton's equations of motion is\n",
    "\n",
    "$$\n",
    "\\Gamma(t) = e^{iLt} \\Gamma(0)\n",
    "$$\n",
    "\n",
    "This formal solution isn't very useful as it stands, because it's usually impossible to calculate the action of the operator $e^{iLt}$ on $\\Gamma(0)$ directly. However, it *is* useful for developing approximate numerical methods for solving the equations of motion."
   ]
  },
  {
   "cell_type": "markdown",
   "metadata": {
    "slideshow": {
     "slide_type": "slide"
    }
   },
   "source": [
    "First, note that the Liouville operator can be written as the sum of two contributions that act on coordinates and momenta separately\n",
    "\n",
    "$$\n",
    "iL = iL_q+iL_p,\n",
    "$$\n",
    "\n",
    "where\n",
    "\n",
    "$$\n",
    "iL_q = \\sum_{\\alpha = 1}^{3N} \\frac{\\partial H}{\\partial p_\\alpha} \\frac{\\partial}{\\partial q_\\alpha}\n",
    "= \\sum_{\\alpha = 1}^{3N} \\dot{q}_\\alpha \\frac{\\partial}{\\partial q_\\alpha}\n",
    "$$\n",
    "\n",
    "and\n",
    "\n",
    "$$\n",
    "iL_p = - \\sum_{\\alpha = 1}^{3N} \\frac{\\partial H}{\\partial q_\\alpha} \\frac{\\partial}{\\partial p_\\alpha}\n",
    "= \\sum_{\\alpha = 1}^{3N} \\dot{p}_\\alpha \\frac{\\partial}{\\partial p_\\alpha}\n",
    "= \\sum_{\\alpha = 1}^{3N} f_\\alpha \\frac{\\partial}{\\partial p_\\alpha},\n",
    "$$\n",
    "\n",
    "and where $f_\\alpha$ is the force acting on degree of freedom $\\alpha$."
   ]
  },
  {
   "cell_type": "markdown",
   "metadata": {
    "slideshow": {
     "slide_type": "slide"
    }
   },
   "source": [
    "The differential operators $iL_q$ and $iL_p$ are *noncommuting*. Given a function $A(\\Gamma)$,\n",
    "\n",
    "$$\n",
    "iL_q iL_p A(\\Gamma) \\neq  iL_p iL_q A(\\Gamma).\n",
    "$$\n",
    " \n",
    "In other words, the order in which the operators are applied is important.\n",
    " \n",
    "Equivalently, we can say that the *commutator* of the two operators, defined as\n",
    "\n",
    "$$\n",
    "[iL_q,iL_p] \\equiv iL_q iL_p - iL_p iL_q\n",
    "$$\n",
    "\n",
    "is nonzero.\n",
    " "
   ]
  },
  {
   "cell_type": "markdown",
   "metadata": {
    "slideshow": {
     "slide_type": "slide"
    }
   },
   "source": [
    "The fact that $iL_q$ and $iL_p$ don't commute can be illustrated by a simple one-dimensional example. Consider the Hamiltonian\n",
    "\n",
    "$$\n",
    "H = \\frac{p^2}{2 m} + U(x).\n",
    "$$\n",
    "\n",
    "In this case,\n",
    "\n",
    "$$\n",
    "iL_x = \\frac{p}{m} \\frac{\\partial}{\\partial x}\n",
    "$$\n",
    "\n",
    "and\n",
    "\n",
    "$$\n",
    "iL_p = f(x) \\frac{\\partial}{\\partial p},\n",
    "$$\n",
    "\n",
    "where $f(x) = - dU(x) / dx$."
   ]
  },
  {
   "cell_type": "markdown",
   "metadata": {
    "slideshow": {
     "slide_type": "slide"
    }
   },
   "source": [
    "The action of $iL_x iL_p$ on an arbitrary function $A(x,p)$ is\n",
    "\n",
    "$$\n",
    "iL_x iL_p = \\frac{p}{m} \\frac{\\partial}{\\partial x} f(x) \\frac{\\partial}{\\partial p} A(x,p)\n",
    "= \\frac{p}{m} f(x) \\frac{\\partial^2 A}{\\partial p \\partial x} + \\frac{p}{m} f^\\prime(x) \\frac{\\partial A}{\\partial p},\n",
    "$$\n",
    "\n",
    "and the action of $iL_p iL_x$ on $A(x,p)$ is\n",
    "$$\n",
    "iL_p iL_x = f(x) \\frac{\\partial}{\\partial p} \\frac{p}{m} \\frac{\\partial}{\\partial x} A(x,p)\n",
    "= f(x) \\frac{p}{m} \\frac{\\partial^2 A}{\\partial p \\partial x} + f(x) \\frac{1}{m} \\frac{\\partial A}{\\partial x},\n",
    "$$"
   ]
  },
  {
   "cell_type": "markdown",
   "metadata": {
    "slideshow": {
     "slide_type": "slide"
    }
   },
   "source": [
    "Thus,\n",
    "\n",
    "$$\n",
    "\\left[ iL_x, iL_p \\right] A(x,p) = \\frac{p}{m} f^\\prime(x) \\frac{\\partial A}{\\partial p} - \\frac{f(x)}{m} \\frac{\\partial A}{\\partial x}.\n",
    "$$\n",
    "\n",
    "Because the function $A(x,p)$ is arbitrary, this implies that the commutator is nonzero, and is given by\n",
    "\n",
    "$$\n",
    "\\left[ iL_x, iL_p \\right] = \\frac{p}{m} f^\\prime(x) \\frac{\\partial}{\\partial p} - \\frac{f(x)}{m} \\frac{\\partial}{\\partial x}.\n",
    "$$\n",
    "\n",
    "The fact that $[ iL_x, iL_p ] \\neq 0$ arises because Hamilton's equations of motion are coupled via the potential $U(x)$ (or force $f(x)$). The commutator would be zero for a noninteracting system (which wouldn't be very interesting)."
   ]
  },
  {
   "cell_type": "markdown",
   "metadata": {
    "slideshow": {
     "slide_type": "slide"
    }
   },
   "source": [
    "Because $iL_q$ and $iL_p$ don't commute, the classical propagator $\\exp(iLt) = \\exp[(iL_q + iL_p)t]$ can't be factored into a simple product $\\exp(iL_qt) \\exp(iL_pt)$.\n",
    " \n",
    "This is unfortunate, because the action of the individual operators $\\exp(iL_qt)$ and $\\exp(iL_pt)$ can be evaluated exactly in many cases.\n",
    " \n",
    "It would be useful if the propagator could be expressed in terms of these two factors. In fact, there is a way to do this based on the *Trotter theorem*, which we explore shortly.\n",
    "\n",
    "First, however, we will explain how exponential differential operators such as $\\exp(iL_qt)$ and $\\exp(iL_pt)$ act on functions of the phase space variables."
   ]
  },
  {
   "cell_type": "markdown",
   "metadata": {
    "slideshow": {
     "slide_type": "slide"
    }
   },
   "source": [
    "The action of an exponential differential operator is *defined* as an expansion of the exponential in a Taylor series\n",
    "\n",
    "$$\n",
    "\\exp \\left( a \\frac{\\partial}{\\partial x} \\right) f(x) \\equiv \\sum_{n = 0}^\\infty \\frac{1}{n!} \\left( a \\frac{\\partial}{\\partial x} \\right)^n f(x)\n",
    "= \\sum_{n = 0}^\\infty \\frac{1}{n!} a^n \\frac{\\partial^n f(x)}{\\partial x^n} = f(x + a),\n",
    "$$\n",
    "\n",
    "which results in a translation of $f(x)$ by $a$.\n",
    " \n",
    "Thus,\n",
    "\n",
    "$$\n",
    "e^{iL_q \\Delta t} \\binom{q(0)}{p(0)} = e^{\\Delta t \\dot{q}(0) \\frac{\\partial}{\\partial q}} \\binom{q(0)}{p(0)}\n",
    "= \\binom{q(0) + \\Delta t \\dot{q}(0)}{p(0)}\n",
    "= \\binom{q(0) + \\frac{\\Delta t}{m} p(0)}{p(0)}\n",
    "$$\n",
    " \n",
    " and\n",
    " \n",
    "$$\n",
    "e^{iL_p \\Delta t} \\binom{q(0)}{p(0)} = e^{\\Delta t \\dot{p}(0) \\frac{\\partial}{\\partial p}} \\binom{q(0)}{p(0)} = e^{\\Delta t f(0) \\frac{\\partial}{\\partial p}} \\binom{q(0)}{p(0)}\n",
    "= \\binom{q(0)}{p(0) + \\Delta t f(0)},\n",
    "$$\n",
    "\n",
    "where $q(0)$, $p(0)$, and $f(0)$ refer to the coordinates, momenta, and forces evaluated at $t = 0$.\n"
   ]
  },
  {
   "cell_type": "markdown",
   "metadata": {
    "slideshow": {
     "slide_type": "slide"
    }
   },
   "source": [
    "We now consider an approximate splitting of the Liouville operator,\n",
    "\n",
    "$$\n",
    "e^{iLt} \\approx e^{iL_p \\Delta t} e^{iL_q \\Delta t}.\n",
    "$$\n",
    "\n",
    "This is low-order approximation that lacks time-reversal symmetry, but it does preserve the area-preserving property of the exact time-evolution operator.\n",
    "\n",
    "This splitting generates the following equations of motion:\n",
    "\n",
    "$$\n",
    "e^{iL \\Delta t} \\binom{q(0)}{p(0)} \\approx e^{iL_p \\Delta t} e^{iL_q \\Delta t} \\binom{q(0)}{p(0)}\n",
    "$$\n",
    "\n",
    "$$\n",
    "= e^{iL_p \\Delta t} \\binom{q(0) + \\frac{\\Delta t}{m} p(0)}{p(0)}\n",
    "= \\binom{q(0) + \\frac{\\Delta t}{m} p(0)}{p(0) + \\Delta t f(\\Delta t)},\n",
    "$$\n",
    "\n",
    "where $f(\\Delta t)$ is the force evaluated at $q(\\Delta t) = q(0) + \\frac{\\Delta t}{m} p(0)$. This is the symplectic Euler algorithm."
   ]
  },
  {
   "cell_type": "markdown",
   "metadata": {
    "slideshow": {
     "slide_type": "slide"
    }
   },
   "source": [
    "To construct a time-reversible integrator, we consider a symmetric splitting of the time-evolution operator,\n",
    "\n",
    "$$ e^{iL \\Delta t} \\binom{q(0)}{p(0)} \\approx e^{iL_p \\Delta t/2} e^{iL_q \\Delta t} e^{iL_p \\Delta t/2} \\binom{q(0)}{p(0)}\n",
    "$$\n",
    "\n",
    "$$\n",
    "= e^{iL_p \\Delta t/2} e^{iL_q \\Delta t} \\binom{q(0)}{p(0) + \\frac{\\Delta t}{2} f(0)}\n",
    "= e^{iL_p \\Delta t/2} \\binom{q(0) + \\frac{\\Delta t}{m} p(0) + \\frac{\\Delta t^2}{2 m} f(0)}{p(0) + \\frac{\\Delta t}{2} f(0)}\n",
    "$$\n",
    "\n",
    "$$\n",
    "= \\binom{q(0) + \\frac{\\Delta t}{m} p(0) + \\frac{\\Delta t^2}{2 m} f(0)}{p(0) + \\frac{\\Delta t}{2} [ f(0) + f(\\Delta t)]},\n",
    "$$\n",
    "\n",
    "Where $f(\\Delta t)$ is the force evaluated at $q(\\Delta t) = q(0) + \\frac{\\Delta t}{m} p(0) + \\frac{\\Delta t^2}{2 m} f(0)$. This is the velocity Verlet algorithm.\n"
   ]
  },
  {
   "cell_type": "markdown",
   "metadata": {
    "nbgrader": {
     "grade": false,
     "grade_id": "cell-66620da88b06fd9e",
     "locked": true,
     "schema_version": 1,
     "solution": false
    },
    "slideshow": {
     "slide_type": "slide"
    }
   },
   "source": [
    "## 2.2 - Trotter theorem\n",
    "\n",
    "The foregoing development of time-reversible integration methods can be put on a more rigorous footing using the symmetric Trotter theorem, which states that for two operators $A$ and $B$ for which $[A,B] \\neq 0$\n",
    "\n",
    "$$\n",
    " e^{A+B} = \\lim_{P \\to \\infty} \\left[ e^{B/2P} e^{A/P} e^{B/2P} \\right]^P\n",
    "$$\n",
    "\n",
    "where $P$ is an integer. The Trotter formula is a corollary of the *Baker-Campbell-Hausdorff* identity.\n",
    "\n",
    "Applying the Trotter theorem to the classical propagator yields\n",
    "\n",
    "$$\n",
    "e^{iLt} = e^{(iL_q+iL_p)t} = \\lim_{P \\to \\infty} \\left[ e^{iL_pt/2P} e^{iL_qt/P} e^{iL_pt/2P} \\right]^P\n",
    "$$\n",
    "\n",
    "$$\n",
    " = \\lim_{\\Delta t \\to 0} \\left[ e^{iL_p \\Delta t/2} e^{iL_q \\Delta t} e^{iL_p \\Delta t/2} \\right]^{t / \\Delta t}\n",
    "$$\n",
    "where $\\Delta t = t / P$"
   ]
  },
  {
   "cell_type": "markdown",
   "metadata": {
    "slideshow": {
     "slide_type": "slide"
    }
   },
   "source": [
    "For finite $P$, the Trotter formula leads to an approximation for $\\exp(iLt)$,\n",
    "\n",
    "$$\n",
    "e^{iLt} \\approx \\left[ e^{iL_p \\Delta t/2} e^{iL_q \\Delta t} e^{iL_p \\Delta t/2} \\right]^{t / \\Delta t} + O(P \\Delta t^3),\n",
    "$$\n",
    "\n",
    "where the leading order error is of order $P \\Delta t^3$.\n",
    " \n",
    "According to this equation, an approximate (discrete time) propagation can be generated by performing $P$ steps of *finite* length $\\Delta t$ using the factorized propagator\n",
    "\n",
    "$$\n",
    "e^{iL \\Delta t} \\approx e^{iL_p \\Delta t/2} e^{iL_q \\Delta t} e^{iL_p \\Delta t/2} + O(\\Delta t^3)\n",
    "$$\n",
    "\n",
    "for each step, which has *local* error of order $\\Delta t^3$, so this method (the velocity Verlet algorithm) has order 2.\n",
    " \n",
    "Because the individual operators are *unitary*, the discrete time dynamics satisfies Liouville's theorem, and phase space volume is conserved. Splitting the operator time evolution operator *symmetrically* ensures that the discrete time dynamics is *time reversible*, like the true continuous time Hamiltonian dynamics."
   ]
  },
  {
   "cell_type": "markdown",
   "metadata": {
    "nbgrader": {
     "grade": false,
     "grade_id": "cell-66620da88b06fd9e",
     "locked": true,
     "schema_version": 1,
     "solution": false
    },
    "slideshow": {
     "slide_type": "slide"
    }
   },
   "source": [
    "## 2.2 - Energy conservation and the shadow Hamiltonian\n",
    "\n",
    "Why is long-term energy drift absent in the Verlet (and other symplectic) algorithms? This can be understood by analyzing the error introduced in the operator-splitting procedure, using the Baker-Campbell-Hausdorff identity, which leads to an exact expression for $\\exp{iL \\Delta t}$ in terms of an infinite series expansion in commutators of $iL_p$ and $iL_q$. If all $n$th-order commutators exist (i.e., if the Hamiltonian is an infinitely differentiable function of $p$ and $q$), then the error involved in the Verlet algorithm can be evaluated:\n",
    "\n",
    "$$\n",
    "e^{iL_p \\Delta t/2} e^{iL_q \\Delta t} e^{iL_p \\Delta t/2} = e^{iL \\Delta t + \\epsilon}\n",
    "$$\n",
    "\n",
    "where $\\epsilon$ is an operator that can be expressed in terms of commutators of $iL_p$ and $iL_q$,\n",
    "\n",
    "$$\n",
    "\\epsilon = \\sum_{n=1}^\\infty (\\Delta t)^{2 n + 1} c_{2n + 1},\n",
    "$$\n",
    "\n",
    "where $c_m$ denotes a combination of $m$th-order commutators."
   ]
  },
  {
   "cell_type": "markdown",
   "metadata": {
    "nbgrader": {
     "grade": false,
     "grade_id": "cell-66620da88b06fd9e",
     "locked": true,
     "schema_version": 1,
     "solution": false
    },
    "slideshow": {
     "slide_type": "slide"
    }
   },
   "source": [
    "For example, the leading term in this series is:\n",
    "\n",
    "$$\n",
    "-(\\Delta t)^3 \\left( \\frac{1}{24} [iL_q,[iL_q,iL_p]] + \\frac{1}{12} [iL_p,[iL_q,iL_p]] \\right)\n",
    "$$\n",
    "\n",
    "Amazingly, *if this series converges*, then we can define a *shadow Liouville operator*\n",
    "\n",
    "$$\n",
    "iL_{\\rm shadow} \\equiv iL + \\frac{1}{\\Delta t} \\epsilon\n",
    "$$\n",
    "\n",
    "that corresponds to a *shadow Hamiltonian* $H_{\\rm shadow}$ that is *exactly conserved* by the symplectic discrete-time dynamics. The difference between the conserved shadow Hamiltonian and the true Hamiltonian is of order $\\Delta t^n$ *for all times*, where $n$ depends on the order of the algorithm."
   ]
  },
  {
   "cell_type": "code",
   "execution_count": null,
   "metadata": {},
   "outputs": [],
   "source": []
  }
 ],
 "metadata": {
  "celltoolbar": "Slideshow",
  "kernelspec": {
   "display_name": "Python 3",
   "language": "python",
   "name": "python3"
  },
  "language_info": {
   "codemirror_mode": {
    "name": "ipython",
    "version": 3
   },
   "file_extension": ".py",
   "mimetype": "text/x-python",
   "name": "python",
   "nbconvert_exporter": "python",
   "pygments_lexer": "ipython3",
   "version": "3.6.5"
  }
 },
 "nbformat": 4,
 "nbformat_minor": 2
}
