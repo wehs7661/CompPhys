{
 "cells": [
  {
   "cell_type": "markdown",
   "metadata": {
    "nbgrader": {
     "grade": false,
     "grade_id": "cell-100899e0deea9789",
     "locked": true,
     "schema_version": 1,
     "solution": false
    },
    "slideshow": {
     "slide_type": "slide"
    }
   },
   "source": [
    "# Lecture 14: Multiple-timestep molecular dynamics\n",
    "\n",
    "## Physics 7810, Spring 2020"
   ]
  },
  {
   "cell_type": "markdown",
   "metadata": {
    "nbgrader": {
     "grade": false,
     "grade_id": "cell-66620da88b06fd9e",
     "locked": true,
     "schema_version": 1,
     "solution": false
    },
    "slideshow": {
     "slide_type": "slide"
    }
   },
   "source": [
    "## 14.1 - Overview\n",
    "\n",
    "Many (most?) physical systems are characterized by dynamics spanning a range of timescales. This may involve dynamics at the single-molecule level, e.g., where the characteristic timescale of bond stretching modes is significantly faster than that of molecular translational and reorientation, or to slow collective degrees of freedom involving many particles or molecules. In systems with long-range interactions (e.g., Coulomb or gravitational interactions), short-range interactions typically vary more rapidly than long-range interactions.\n",
    "\n",
    "Separation of timescales poses a problem for molecular dynamics (MD) simulations, because stable and accurate solution of the equations of motion requires use of a timestep small enough to resolve the *fastest* motions in a system, while achieving adequate statistical sampling requires total simulation times large compared with the *slowest* dynamical modes. One way of addressing this problem is through the use of multiple-timestep MD methods, which we discuss here. Other approaches (e.g., constraint dynamics, enhanced sampling methods) will be discussed later."
   ]
  },
  {
   "cell_type": "markdown",
   "metadata": {
    "nbgrader": {
     "grade": false,
     "grade_id": "cell-66620da88b06fd9e",
     "locked": true,
     "schema_version": 1,
     "solution": false
    },
    "slideshow": {
     "slide_type": "slide"
    }
   },
   "source": [
    "## 14.2 - Multiple-timestep molecular dynamics\n",
    "\n",
    "An elegant method for speeding up MD simulations of systems with multiple characteristic timescales was proposed by Tuckerman and co-workers, based on the same operator-splitting methods that we're now familiar with. This approach employs a splitting of the total forces into 'slow' and 'fast' components, ${\\bf f} = {\\bf f}^\\mathrm{slow} + {\\bf f}^\\mathrm{fast}$, so that the equations of motion for momenta can be written\n",
    "\n",
    "$$\n",
    "\\dot{\\bf p} = {\\bf f}^\\mathrm{slow} + {\\bf f}^\\mathrm{fast}.\n",
    "$$\n",
    "\n",
    "We then split the Liouville operator into separate terms $iL = iL_1 + iL_2 +iL_3$, where\n",
    "\n",
    "$$\n",
    "iL_1 = \\frac{\\bf p}{m} \\cdot \\frac{\\partial}{\\partial {\\bf r}}, \\quad iL_2 = {\\bf f}^\\mathrm{fast} \\cdot \\frac{\\partial}{\\partial {\\bf p}}, \\quad \\quad iL_3 = {\\bf f}^\\mathrm{slow} \\cdot \\frac{\\partial}{\\partial {\\bf p}}.\n",
    "$$"
   ]
  },
  {
   "cell_type": "markdown",
   "metadata": {
    "nbgrader": {
     "grade": false,
     "grade_id": "cell-66620da88b06fd9e",
     "locked": true,
     "schema_version": 1,
     "solution": false
    },
    "slideshow": {
     "slide_type": "slide"
    }
   },
   "source": [
    "The total propagator $\\exp (iL \\Delta t)$ can then be approximated as\n",
    "\n",
    "$$\n",
    "\\exp (iL \\Delta t) \\approx \\exp \\left( iL_3 \\frac{\\Delta t}{2} \\right) \\exp \\left[ (iL_1 + iL_2) \\Delta t \\right] \\exp \\left( iL_3 \\frac{\\Delta t}{2} \\right)\n",
    "$$\n",
    "\n",
    "where $\\Delta t$ represents a long timestep. The inner propagator can then be split again, into $n$ small timesteps of length $\\Delta t / n$:\n",
    "\n",
    "$$\n",
    "\\exp \\left[ (iL_1 + iL_2)\n",
    "\\Delta t \\right]\n",
    "\\approx \\left[ \\exp \\left( iL_2 \\frac{\\Delta t}{2n} \\right) \\exp \\left( iL_1 \\frac{\\Delta t}{n} \\right) \\exp \\left( iL_2 \\frac{\\Delta t}{2n} \\right) \\right]^n.\n",
    "$$\n",
    "\n",
    "Each small timestep is just a velocity Verlet step involving only the fast forces."
   ]
  },
  {
   "cell_type": "code",
   "execution_count": null,
   "metadata": {},
   "outputs": [],
   "source": []
  }
 ],
 "metadata": {
  "celltoolbar": "Slideshow",
  "kernelspec": {
   "display_name": "Python 3",
   "language": "python",
   "name": "python3"
  },
  "language_info": {
   "codemirror_mode": {
    "name": "ipython",
    "version": 3
   },
   "file_extension": ".py",
   "mimetype": "text/x-python",
   "name": "python",
   "nbconvert_exporter": "python",
   "pygments_lexer": "ipython3",
   "version": "3.6.10"
  }
 },
 "nbformat": 4,
 "nbformat_minor": 2
}
