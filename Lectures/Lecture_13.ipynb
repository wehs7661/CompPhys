{
 "cells": [
  {
   "cell_type": "markdown",
   "metadata": {
    "nbgrader": {
     "grade": false,
     "grade_id": "cell-100899e0deea9789",
     "locked": true,
     "schema_version": 1,
     "solution": false
    },
    "slideshow": {
     "slide_type": "slide"
    }
   },
   "source": [
    "# Lecture 13: Monte Carlo simulations in various ensembles\n",
    "\n",
    "## Physics 7810, Spring 2020"
   ]
  },
  {
   "cell_type": "markdown",
   "metadata": {
    "nbgrader": {
     "grade": false,
     "grade_id": "cell-66620da88b06fd9e",
     "locked": true,
     "schema_version": 1,
     "solution": false
    },
    "slideshow": {
     "slide_type": "slide"
    }
   },
   "source": [
    "## 13.1 - Overview\n",
    "\n",
    "Previously, we introduced the Metropolis Monte Carlo (MC) method, which samples the canonical ($NVT$) ensemble. While this is generally the simplest thermodynamic ensemble to implement in MC simulations, it is not always the most convenient for practical calculations, e.g., of phase equilibria or absorption isotherms. \n",
    "\n",
    "Here we discuss methods for carrying out MC simulations in the $NPT$ (isothermal-isobaric) and $\\mu VT$ (grand canonical) ensembles, which are two of the most widely used thermodynamic ensembles in computational statistical physics."
   ]
  },
  {
   "cell_type": "markdown",
   "metadata": {
    "nbgrader": {
     "grade": false,
     "grade_id": "cell-66620da88b06fd9e",
     "locked": true,
     "schema_version": 1,
     "solution": false
    },
    "slideshow": {
     "slide_type": "slide"
    }
   },
   "source": [
    "## 13.2 - Isothermal-isobaric Monte Carlo\n",
    "\n",
    "In the constant-$NPT$ ensemble, the configurational average of any property $A({\\bf r}^N)$ that depends only on particle coordinates ${\\bf r}^N$ is given by\n",
    "\n",
    "$$\n",
    "\\langle A \\rangle_{NPT} = \\frac{\\int_0^\\infty dV \\exp(-\\beta PV)\\ V^N \\int d{\\bf s}^N A({\\bf s}^N; V) \\exp \\left[ -\\beta U({\\bf s}^N; V) \\right]}{Z^\\mathrm{int}(N,P,T)},\n",
    "$$\n",
    "\n",
    "where $Z^\\mathrm{int}(N,P,T)$ is the configurational part of the isothermal-isobaric partition function introduced previously, and where we make use of *scaled coordinates* ${\\bf s}_i = L^{-1} {\\bf r}_i$ for $i=1,N$.\n",
    "\n",
    "Here, the simulation box is assumed to be cubic, with sidelength $L$ and volume $V = L^3$ (note that this treatment is easily generalized to non-cubic boxes). With this scaling, the configurational integral is over the $3N$-dimensional unit cube, and the factor $V^N$ arises from the volume element $d{\\bf r}^N$. Writing $A$ and $U$ in terms of scaled coordinates implies an implicit dependence on $V$ (or $L$), e.g., $U({\\bf s}^N; V)$."
   ]
  },
  {
   "cell_type": "markdown",
   "metadata": {
    "nbgrader": {
     "grade": false,
     "grade_id": "cell-66620da88b06fd9e",
     "locked": true,
     "schema_version": 1,
     "solution": false
    },
    "slideshow": {
     "slide_type": "slide"
    }
   },
   "source": [
    "A Metropolis scheme is implemented in the $NPT$ ensemble by generating a Markov chain of states with a limiting distribution proportional to\n",
    "\n",
    "$$\n",
    "\\exp\\left[ - \\beta \\left( PV + U({\\bf s}^N; V) \\right) + N \\ln V \\right],\n",
    "$$\n",
    "\n",
    "using a procedure analogous to that employed for $NVT$ MC simulations. In the constant-$NPT$ MC method, $V$ is simply treated as an additional coordinate, with trial moves\n",
    "\n",
    "$$\n",
    "V^\\prime = V + \\Delta V_\\mathrm{max} \\left[ 2\\ \\mathrm{unif}(0,1) - 1 \\right]\n",
    "$$\n",
    "\n",
    "where $\\mathrm{unif}(0,1)$ is a continuous random variable distributed uniformly on the interval $(0,1)$. The maximum volume change $\\Delta V_\\mathrm{max}$ is a free parameter that can be adjusted to maximize the sampling efficiency of the algorithm, in the same way that the maximum size of single-particle displacement moves is optimized."
   ]
  },
  {
   "cell_type": "markdown",
   "metadata": {
    "nbgrader": {
     "grade": false,
     "grade_id": "cell-66620da88b06fd9e",
     "locked": true,
     "schema_version": 1,
     "solution": false
    },
    "slideshow": {
     "slide_type": "slide"
    }
   },
   "source": [
    "The acceptance probability for volume changes is then\n",
    "\n",
    "$$\n",
    "P_\\mathrm{acc}(o \\to n)\n",
    "= \\min \\left[1, e^{ - \\beta \\left[ U({\\bf s}^N; V^\\prime) - U({\\bf s}^N; V) + P (V^\\prime - V) - N \\beta^{-1} \\ln (V^\\prime / V) \\right] } \\right].\n",
    "$$\n",
    "\n",
    "This procedure can be shown to sample the correct limiting distribution for the $NPT$ ensemble (see Frenkel & Smit, Section 5.4). The full procedure involves a mixture of single particle displacement trial moves and volume changing moves.\n",
    "\n",
    "A volume-changing trial move generally requires that we recompute all interparticle interactions (except for simple cases such as power-law pair interactions), and so are significantly more expensive than single-particle displacement  moves. For this reason volume-changing moves are attempted much less frequently than particle displacement moves, say one volume-changing move for every cycle/sweep of $N$ positional moves. To preserve detailed balance, volume-changing moves should not be attempted at regular intervals, but should instead be attempted with a fixed probability (say $1/N$) at every MC step."
   ]
  },
  {
   "cell_type": "markdown",
   "metadata": {
    "nbgrader": {
     "grade": false,
     "grade_id": "cell-66620da88b06fd9e",
     "locked": true,
     "schema_version": 1,
     "solution": false
    },
    "slideshow": {
     "slide_type": "slide"
    }
   },
   "source": [
    "## 13.3 - Grand canonical Monte Carlo\n",
    "\n",
    "Recall that the classical probability density in the $\\mu VT$ (*grand canonical*) ensemble is\n",
    "\n",
    "$$\n",
    "\\rho_{\\mu VT}(N,{\\bf p}^N,{\\bf r}^N) = \\frac{1}{Z(\\mu,V,T)} \\left( \\frac{1}{N!} \\frac{1}{h^{3N}} e^{\\beta \\mu N} \\exp \\left[- \\beta H({\\bf p}^N,{\\bf r}^N) \\right] \\right),\n",
    "$$\n",
    "\n",
    "where $Z(\\mu,V,T)$ is the grand partition function,\n",
    "\n",
    "$$\n",
    "Z(\\mu,V,T) = \\sum_{N=0}^\\infty \\frac{1}{N!} \\frac{1}{h^{3N}} e^{\\beta \\mu N} \\int d{\\bf p}^N d{\\bf r}^N \\exp \\left[- \\beta H({\\bf p}^N,{\\bf r}^N) \\right].\n",
    "$$"
   ]
  },
  {
   "cell_type": "markdown",
   "metadata": {
    "nbgrader": {
     "grade": false,
     "grade_id": "cell-66620da88b06fd9e",
     "locked": true,
     "schema_version": 1,
     "solution": false
    },
    "slideshow": {
     "slide_type": "slide"
    }
   },
   "source": [
    "If $H({\\bf p}^N,{\\bf r}^N) = K({\\bf p}^N) + U({\\bf r}^N)$, we can integrate out the particle momenta in the usual way to obtain the *configurational* probability density\n",
    "\n",
    "$$\n",
    "\\rho_{\\mu VT}^\\mathrm{int}(N,{\\bf r}^N) = \\frac{1}{Z(\\mu,V,T)} \\left( \\frac{1}{N!} \\frac{1}{\\Lambda^{3N}} e^{\\beta \\mu N} \\exp \\left[- \\beta U({\\bf r}^N) \\right] \\right),\n",
    "$$\n",
    "\n",
    "where $\\Lambda = [h^2 / (2 \\pi m k_B T) ]^{1/2}$ is the thermal deBroglie wavelength, and the grand partition function can be written\n",
    "\n",
    "$$\n",
    "Z(\\mu,V,T) = \\sum_{N=0}^\\infty \\frac{1}{N!} \\frac{1}{\\Lambda^{3N}} e^{\\beta \\mu N} \\int d{\\bf r}^N \\exp \\left[- \\beta U({\\bf r}^N) \\right].\n",
    "$$"
   ]
  },
  {
   "cell_type": "markdown",
   "metadata": {
    "nbgrader": {
     "grade": false,
     "grade_id": "cell-66620da88b06fd9e",
     "locked": true,
     "schema_version": 1,
     "solution": false
    },
    "slideshow": {
     "slide_type": "slide"
    }
   },
   "source": [
    "The configurational probability density can be expressed in terms of scaled coordinates as\n",
    "\n",
    "$$\n",
    "\\rho_{\\mu VT}^\\mathrm{int}(N,{\\bf s}^N) = \\frac{1}{Z(\\mu,V,T)} \\left( \\frac{1}{N!} \\frac{1}{\\Lambda^{3N}} e^{\\beta \\mu N} V^N \\exp \\left[- \\beta U({\\bf s}^N;V) \\right] \\right),\n",
    "$$\n",
    "\n",
    "with\n",
    "\n",
    "$$\n",
    "Z(\\mu,V,T) = \\sum_{N=0}^\\infty \\frac{1}{N!} \\frac{1}{\\Lambda^{3N}} e^{\\beta \\mu N} V^N \\int d{\\bf s}^N \\exp \\left[- \\beta U({\\bf s}^N;V) \\right],\n",
    "$$\n",
    "\n",
    "where, as before, the notation $U({\\bf s}^N;V)$ indicates and implicit dependence on volume. As for the other ensembles discussed previously, only the configurational (interaction) contributions to thermodynamic properties are calculated during the simulation, and the ideal gas contributions are added afterwards. Because the particle number $N$ fluctuates during the simulation, these contributions will depend on the average number of particles, $\\langle N \\rangle_{\\mu VT}$, which must be calculated during the simulation."
   ]
  },
  {
   "cell_type": "markdown",
   "metadata": {
    "nbgrader": {
     "grade": false,
     "grade_id": "cell-66620da88b06fd9e",
     "locked": true,
     "schema_version": 1,
     "solution": false
    },
    "slideshow": {
     "slide_type": "slide"
    }
   },
   "source": [
    "In grand canonical Monte Carlo, we need to construct a Markov chain that correctly samples the this configurational probability density, which is proportional to\n",
    "\n",
    "$$\n",
    "\\exp \\left[ - \\beta \\left( U({\\bf s}^N;V) - \\mu N \\right) - \\ln N! - 3 N \\ln \\Lambda + N \\ln V \\right].\n",
    "$$\n",
    "\n",
    "There are various ways of doing this, but the standard approach is the one described in Allen & Tildesley and Frenkel & Smit, which involves three types of trial moves:\n",
    "\n",
    "1. A randomly selected particle is displaced\n",
    "2. A particle is inserted at a random position in the system\n",
    "3. A randomly selected particle is removed\n",
    "\n",
    "As usual, the sequence in which the various types of trial move are attempted should be random, to enforce detailed balance. The average number of attempted particle insertions and removals per MC sweep can be varied to optimize statistical sampling."
   ]
  },
  {
   "cell_type": "markdown",
   "metadata": {
    "nbgrader": {
     "grade": false,
     "grade_id": "cell-66620da88b06fd9e",
     "locked": true,
     "schema_version": 1,
     "solution": false
    },
    "slideshow": {
     "slide_type": "slide"
    }
   },
   "source": [
    "The acceptance probability for particle *displacement* moves is the same as for the usual $NVT$ Metropolis method,\n",
    "\n",
    "$$\n",
    "P_\\mathrm{acc}({\\bf s}^N \\rightarrow {{\\bf s}^\\prime}^N) = \\min \\left[1, \\exp \\left( - \\beta [ U({{\\bf s}^\\prime}^N;V) - U({\\bf s}^N;V) ] \\right) \\right].\n",
    "$$\n",
    "\n",
    "The *insertion* of a new particle is accepted with probability\n",
    "\n",
    "$$\n",
    "P_\\mathrm{acc}(N \\rightarrow N+1) = \\min \\left[1, \\frac{V}{\\Lambda^3 (N + 1)} \\exp \\left(\\beta [\\mu - U({\\bf s}^{N+1};V) + U({\\bf s}^N;V) ] \\right) \\right].\n",
    "$$\n",
    "\n",
    "Finally, the *removal* of a particle is accepted with probability\n",
    "\n",
    "$$\n",
    "P_\\mathrm{acc}(N \\rightarrow N-1) = \\min \\left[1, \\frac{\\Lambda^3 N }{V} \\exp \\left(- \\beta [\\mu + U({\\bf s}^{N-1};V) - U({\\bf s}^N;V) ] \\right) \\right].\n",
    "$$\n",
    "\n",
    "These acceptance probabilities can be shown to generate the correct limiting distribution (see, e.g., Appendix G in Frenkel and Smit)."
   ]
  },
  {
   "cell_type": "code",
   "execution_count": null,
   "metadata": {},
   "outputs": [],
   "source": []
  }
 ],
 "metadata": {
  "celltoolbar": "Slideshow",
  "kernelspec": {
   "display_name": "Python 3",
   "language": "python",
   "name": "python3"
  },
  "language_info": {
   "codemirror_mode": {
    "name": "ipython",
    "version": 3
   },
   "file_extension": ".py",
   "mimetype": "text/x-python",
   "name": "python",
   "nbconvert_exporter": "python",
   "pygments_lexer": "ipython3",
   "version": "3.6.10"
  }
 },
 "nbformat": 4,
 "nbformat_minor": 2
}
