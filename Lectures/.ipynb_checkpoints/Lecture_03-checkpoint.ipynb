{
 "cells": [
  {
   "cell_type": "markdown",
   "metadata": {
    "nbgrader": {
     "grade": false,
     "grade_id": "cell-100899e0deea9789",
     "locked": true,
     "schema_version": 1,
     "solution": false
    },
    "slideshow": {
     "slide_type": "slide"
    }
   },
   "source": [
    "# Lecture 3: Introduction to molecular dynamics simulation\n",
    "\n",
    "## Physics 7810, Spring 2020"
   ]
  },
  {
   "cell_type": "markdown",
   "metadata": {
    "nbgrader": {
     "grade": false,
     "grade_id": "cell-66620da88b06fd9e",
     "locked": true,
     "schema_version": 1,
     "solution": false
    },
    "slideshow": {
     "slide_type": "slide"
    }
   },
   "source": [
    "## 3.1 - Overview \n",
    "\n",
    "A typical molecular dynamics (MD) simulation involves the numerical solution of Hamilton's equations of motion for a collection of interacting particles (atoms, ions, molecules, ...), and may include external fields that act on the particles. Having learned how to integrate such equations of motion using Verlet-type algorithms, you're now in a position to write a basic MD simulation program. That will be the focus of this week's tutorial."
   ]
  },
  {
   "cell_type": "markdown",
   "metadata": {
    "nbgrader": {
     "grade": false,
     "grade_id": "cell-66620da88b06fd9e",
     "locked": true,
     "schema_version": 1,
     "solution": false
    },
    "slideshow": {
     "slide_type": "slide"
    }
   },
   "source": [
    "Writing a basic MD simulation program turns out to be relatively straightforward, but writing code that is *verifiably correct*, *efficient*, and *useful* requires considerably more effort.\n",
    "\n",
    "There are a number of 'tricks' that are used to speed up MD simulations (many of which can also be used to accelerate Monte Carlo simulations and other simulation methods), which we'll be learning about over the next few weeks. For example, cell search methods can often be used to reduce the computational cost of evaluating the pairwise interactions between $N$ particles from $O(N^2)$ to $O(N)$, resulting in a significant speedup if $N$ is large. The force computation is almost always the most computationally intensive part of an MD simulation, so this where we typically focus our optimization efforts.\n",
    "\n",
    "However, it's almost always best to write a simple, inefficent, and easily validated version of your simulation code first, before attempting to optimize the code, as this can serve as a benchmark for validating more efficient methods (which typically introduce greater complexity and more opportunities for error)."
   ]
  },
  {
   "cell_type": "markdown",
   "metadata": {
    "slideshow": {
     "slide_type": "slide"
    }
   },
   "source": [
    "In this course, we'll be using MD and other simulation methods primarily as a tool for computing the equilibrium thermodynamic and transport properties of many-body systems, so we will be spending a good deal of time learning how to measure these properties (temperature, pressure, viscosity, diffusivity, free energy, chemical potential, ...) in computer simulations.\n",
    "\n",
    "Although MD is in some sense an exact theoretical method, it is subject to *statistical uncertainty*, because MD simulations are of finite duration, and thus sample a limited number of statistically independent configurations. Estimating uncertainties in measured properties is an essential part of the craft of computer simulation, which we'll be learning about soon.\n",
    "\n",
    "We also need to be aware of sources of *systematic error* such as finite-size effects, as simulated systems are typically small compared to macroscopic systems. While finite-size effects can to some extent be mitigated by using periodic boundary conditions, careful analysis of finite-size effects is often required, particularly in the vicinity of phase transitions."
   ]
  },
  {
   "cell_type": "markdown",
   "metadata": {
    "slideshow": {
     "slide_type": "slide"
    }
   },
   "source": [
    "The most important step in code development is *validation*. A simulation program can produce erroneous results for one of two reasons:\n",
    "\n",
    "1. The methods are implemented incorrectly in code (there are bugs).\n",
    "2. The methods are incorrect (there are conceptual errors).\n",
    "\n",
    "Bugs can usually be tracked down and eliminated quickly, but conceptual errors are typically much harder to identify. Neither class of error can be dealt with if you don't know that there's a problem in the first place, so validation is critical. A piece of code that *appears* to produce reasonable results should nevertheless be assumed to be wrong until proven otherwise (\"guilty until proven innocent\"). "
   ]
  },
  {
   "cell_type": "markdown",
   "metadata": {
    "slideshow": {
     "slide_type": "slide"
    }
   },
   "source": [
    "There are several approaches to validating simulation code, none of them foolproof:\n",
    "\n",
    "* Compare results with exact analytic results or accurate approximations in limiting cases.\n",
    "* For MD codes, check that energy and (if appropriate) linear and angular momentum are conserved.\n",
    "* Do internal consistency checks (e.g., calculate a given property in two different ways).\n",
    "* Compare results with those produced by other simulation codes and/or with 'trusted' simulation results from the literature.\n",
    "\n",
    "Visualization can also be a very effective way of identifying problems 'at a glance'. You should always be on the lookout for 'edge cases' in which a given method fails, and be aware that 'garbage in' invariably leads to 'garbage out'."
   ]
  },
  {
   "cell_type": "markdown",
   "metadata": {
    "slideshow": {
     "slide_type": "slide"
    }
   },
   "source": [
    "Because MD is based on energy-conserving Hamiltonian dynamics with a fixed number $N$ of particles and (typically) a fixed volume $V$, the 'natural' statistical mechanical ensemble for MD is the $NVE$ ensemble. This is rarely the most *convenient* ensemble for calculating thermodynamic properties, however, so a variety of methods have been developed for carrying out simulations at constant temperature and/or constant pressure conditions (e.g., in the $NVT$ and $NPT$ ensembles). We'll be learning about these methods soon.\n",
    "\n",
    "For MD simulation of molecular systems and other more complex mechanical systems, multiple-timestep MD and numerical algorithms for rigid-body dynamics or constraint dynamics (e.g., to constrain bond lengths or bond angles in a polymer) are often useful. These methods will be discussed later in the semester."
   ]
  },
  {
   "cell_type": "markdown",
   "metadata": {
    "nbgrader": {
     "grade": false,
     "grade_id": "cell-66620da88b06fd9e",
     "locked": true,
     "schema_version": 1,
     "solution": false
    },
    "slideshow": {
     "slide_type": "slide"
    }
   },
   "source": [
    "## 3.2 - Structure of a simple molecular dynamics program \n",
    "\n",
    "1. Set simulation parameters (temperature, number of particles, integration timestep, number of timesteps, ...), usually by reading them from an input file.\n",
    "2. Initialize positions and velocities of all particles, and compute initial forces.\n",
    "3. Solve the equations of motion by looping over integration timesteps and executing the following sequence of operations for each iteration of the loop:\n",
    "    * Carry out half-timestep update of velocities\n",
    "    * Carry out full-timestep update of positions\n",
    "    * Compute forces at new positions\n",
    "    * Carry out final half-timestep update of velocities\n",
    "    * Measure instantaneous properties and add them to accumulators \n",
    "4. Calculate average properties and write them to an output file.\n"
   ]
  },
  {
   "cell_type": "markdown",
   "metadata": {
    "nbgrader": {
     "grade": false,
     "grade_id": "cell-66620da88b06fd9e",
     "locked": true,
     "schema_version": 1,
     "solution": false
    },
    "slideshow": {
     "slide_type": "slide"
    }
   },
   "source": [
    "Step 3 is the heart of the simulation. Note that the sequence of operations in step 3 implicitly assumes that we're using the split-operator form of the velocity Verlet algorithm, which is what I generally prefer, for reasons that will become clear when we explore multiple-timestep MD and MD in the $NVT$ and $NPT$ ensembles.\n",
    "\n",
    "The program structure described above assumes that all of the analysis is done on the fly, but it's usually a good idea to write instantaneous properties (kinetic and potential energies, pressure, temperature, ...) and particle positions and velocities to an output file at regular intervals within the MD loop. This keeps the basic MD code relatively 'clean', and enables most of the analysis and visualization to be done in post-processing mode."
   ]
  },
  {
   "cell_type": "code",
   "execution_count": null,
   "metadata": {},
   "outputs": [],
   "source": []
  }
 ],
 "metadata": {
  "celltoolbar": "Slideshow",
  "kernelspec": {
   "display_name": "Python 3",
   "language": "python",
   "name": "python3"
  },
  "language_info": {
   "codemirror_mode": {
    "name": "ipython",
    "version": 3
   },
   "file_extension": ".py",
   "mimetype": "text/x-python",
   "name": "python",
   "nbconvert_exporter": "python",
   "pygments_lexer": "ipython3",
   "version": "3.7.3"
  }
 },
 "nbformat": 4,
 "nbformat_minor": 2
}
