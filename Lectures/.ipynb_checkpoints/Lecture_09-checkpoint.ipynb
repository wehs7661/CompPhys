{
 "cells": [
  {
   "cell_type": "markdown",
   "metadata": {
    "nbgrader": {
     "grade": false,
     "grade_id": "cell-100899e0deea9789",
     "locked": true,
     "schema_version": 1,
     "solution": false
    },
    "slideshow": {
     "slide_type": "slide"
    }
   },
   "source": [
    "# Lecture 9: Fast neighbor search methods\n",
    "\n",
    "## Physics 7810, Spring 2020"
   ]
  },
  {
   "cell_type": "markdown",
   "metadata": {
    "nbgrader": {
     "grade": false,
     "grade_id": "cell-66620da88b06fd9e",
     "locked": true,
     "schema_version": 1,
     "solution": false
    },
    "slideshow": {
     "slide_type": "slide"
    }
   },
   "source": [
    "## 9.1 - Overview\n",
    " \n",
    "The most time-consuming part of most MC and MD simulations is the energy or force calculation. In a system of $N$ particles with pairwise-additive interaction potentials, this would appear to involve computing $O(N^2)$ pair interactions. However, for systems with *short-range* interactions, it's possible to do substantially better than this by using an interaction cutoff and employing *neighbor lists* (sometimes called *Verlet lists*) or *cell lists*.\n",
    "\n",
    "The cost of computing short-range interactions is $O(N)$ using cell lists and $~O(N^{3/2})$ using neighbor lists, so cell lists are always advantageous for large $N$, but neighbor lists may perform better for intermediate values of $N$, and an *all-pairs* neighbor search may be faster for small $N$. It's also possible to combine neighbor lists and cell lists to obtain a method that outperforms either method separately.\n",
    "\n",
    "For periodic systems with *long-range* interactions, the Ewald summation method can be used to reduce the computational complexity to $O(N^{3/2})$, and FFT-based variations of the Ewald method such as particle-mesh Ewald (PME) and particle-particle particle-mesh (P$^3$M) can further reduce to computational cost to $O(N \\ln N)$. There are also $O(N)$ methods such as the fast multipole (FMM) method."
   ]
  },
  {
   "cell_type": "markdown",
   "metadata": {
    "nbgrader": {
     "grade": false,
     "grade_id": "cell-66620da88b06fd9e",
     "locked": true,
     "schema_version": 1,
     "solution": false
    },
    "slideshow": {
     "slide_type": "slide"
    }
   },
   "source": [
    "## 9.2 - Neighbor lists (Verlet lists)\n",
    " \n",
    "In the neighbor list method, we maintain $N$ lists $\\cal{L}_i$ of all particles within a distance $r_l$ of each particle $i$, where $r_l$ is somewhat larger than the interaction cutoff $r_c$, as illustrated below:\n",
    "\n",
    "<img src=\"images/A&T_Fig_5.3.png\" alt=\"Drawing\" style=\"width: 500px;\">\n",
    "\n",
    "The difference between $r_l$ and $r_c$ is referred to as the neighbor list *skin* $\\delta$, i.e., $\\delta = r_l - r_c$. The value of $\\delta$ can (and should) be adjusted to optimize the performance of the neighbor list algorithm, as discussed below.\n",
    "\n",
    "Figure from *Computer Simulation of Liquids*, by Mike Allen and Dominic Tildesley."
   ]
  },
  {
   "cell_type": "markdown",
   "metadata": {
    "nbgrader": {
     "grade": false,
     "grade_id": "cell-66620da88b06fd9e",
     "locked": true,
     "schema_version": 1,
     "solution": false
    },
    "slideshow": {
     "slide_type": "slide"
    }
   },
   "source": [
    "At the beginning of the simulation, the neighbor lists are constructed, which requires $O(N^2)$ computational effort. For the next few MD timesteps, forces and energies are evaluated using these neighbor lists, which requires $O(N)$ computational cost (we consider MD simulations here for ease of discussion, but neighbor list and cell list methods can also be used for MC simulations, with appropriate modifications).\n",
    "\n",
    "The current neighbor list can be used until *any particle* has moved far enough that it could potentially have an interaction with another particle that's not in its neighbor list. If the total displacement of particle $i$ since the last update of the neighbor list is $\\Delta {\\bf r}_i$, then we *update all neighbor lists* as soon as $|\\Delta {\\bf r}_i| > \\delta / 2$ *for any* $i$ (in practice, we use the criterion $|\\Delta {\\bf r}_i|^2 > (\\delta / 2)^2$ to avoid taking square roots).\n",
    "\n",
    "The overall procedure entails force/energy evaluations with $O(N)$ computational cost and periodic updates of the neighbor lists with $O(N^2)$ cost. Using a larger $\\delta$ reduces the frequency of neighbor list updates, but increases the cost of each force/energy evaluation, as there are more pair distances to evaluate at each timestep. The value of $\\delta$ can be adjusted to minimize the average CPU time per MD timestep, and the optimal value depend on $N$ (the optimal $\\delta$ generally increases with increasing $N$)."
   ]
  },
  {
   "cell_type": "markdown",
   "metadata": {
    "nbgrader": {
     "grade": false,
     "grade_id": "cell-66620da88b06fd9e",
     "locked": true,
     "schema_version": 1,
     "solution": false
    },
    "slideshow": {
     "slide_type": "slide"
    }
   },
   "source": [
    "Speedup with Verlet neighbor list. Example results are shown for the Lennard-Jones potential, with cutoff $r_c = 2.5$ and various values of skin thickness $\\delta$ for the indicated system sizes $N$. The state point is $\\rho^\\ast = 0.78$, $T^\\ast = 0.85$, and the timestep is $\\Delta t = 0.005$. The curves show timesteps per CPU second, normalized by the speed for zero skin thickness (when the list is updated every step). The dashed line (also shown in the inset) gives the average number of steps between updates, which is almost independent of system size.  \n",
    "\n",
    "<img src=\"images/A&T_Fig_5.4.png\" alt=\"Drawing\" style=\"width: 500px;\">\n",
    "\n",
    "Figure from *Computer Simulation of Liquids*, by Mike Allen and Dominic Tildesley."
   ]
  },
  {
   "cell_type": "markdown",
   "metadata": {
    "nbgrader": {
     "grade": false,
     "grade_id": "cell-66620da88b06fd9e",
     "locked": true,
     "schema_version": 1,
     "solution": false
    },
    "slideshow": {
     "slide_type": "slide"
    }
   },
   "source": [
    "What sort of data structures should be used for the neighbor list(s)? Allen and Tildesley use a single one-dimensional array of particle labels for this purpose, but maintaining a separate neighbor list for each particle (e.g., a two-dimensional array) may be simpler.\n",
    "\n",
    "If your neighbor lists are simple arrays, then you need to make sure that enough memory is allocated to hold the labels of all pairs. The total number of pairs with separation smaller than $r_l$ is of roughly $(4 \\pi r_l^3 / 3) (N/2)$, so the amount of memory needed to store the neighbor lists is of this order.\n",
    "\n",
    "Looking at my C code, I see that I use linked lists instead of simple arrays to store the neighbor lists, probably to simplify memory management issues, but traversing linked lists generally entails additional computational cost.\n",
    "\n",
    "For large $N$, the $O(N)$ *cell list* algorithm is faster than the neighbor list method. We'll discuss that method next."
   ]
  },
  {
   "cell_type": "markdown",
   "metadata": {
    "nbgrader": {
     "grade": false,
     "grade_id": "cell-66620da88b06fd9e",
     "locked": true,
     "schema_version": 1,
     "solution": false
    },
    "slideshow": {
     "slide_type": "slide"
    }
   },
   "source": [
    "## 9.3 - Cell lists\n",
    " \n",
    "In the cell list method, we maintain $N$ lists $\\cal{L}_i$ of all particles within a distance $r_l$ of each particle $i$, where $r_l$ is somewhat larger than the interaction cutoff $r_c$, as illustrated below:\n",
    "\n",
    "<img src=\"images/A&T_Fig_5.3.png\" alt=\"Drawing\" style=\"width: 500px;\">\n",
    "\n",
    "The difference between $r_l$ and $r_c$ is referred to as the neighbor list *skin* $\\delta$, i.e., $\\delta = r_l - r_c$. The value of $\\delta$ can (and should) be adjusted to optimize the performance of the neighbor list algorithm, as discussed below."
   ]
  },
  {
   "cell_type": "markdown",
   "metadata": {
    "nbgrader": {
     "grade": false,
     "grade_id": "cell-66620da88b06fd9e",
     "locked": true,
     "schema_version": 1,
     "solution": false
    },
    "slideshow": {
     "slide_type": "slide"
    }
   },
   "source": [
    "As described in Frenkel and Smit, a crude but generally effective way of optimizing translational trial moves with respect to $\\Delta$ involves estimating the rate at which statistically independent samples are generated by measuring a quantity related to the mean-squared particle displacement (a measure of the rate at which new configurations are explored).\n",
    "\n",
    "The mean-squared displacement of a particle in a time interval $\\tau$ is defined as\n",
    "\n",
    "$$\n",
    "\\left\\langle \\Delta {\\bf r}_i^2(\\tau)  \\right\\rangle\n",
    "= \\left\\langle \\left[ {\\bf r}_i(t + \\tau) - {\\bf r}_i(t) \\right]^2 \\right\\rangle,\n",
    "$$\n",
    "\n",
    "where the angle brackets denote an average over all particles $i$ and all time origins $t$. In a fluid phase in which particles can diffuse, the mean-squared displacement is related to the diffusion constant $D$ by\n",
    "\n",
    "$$\n",
    "\\left\\langle \\Delta {\\bf r}_i^2(\\tau)  \\right\\rangle = 2 d D \\tau\n",
    "$$\n",
    "\n",
    "for large $\\tau$, where $d$ is the spatial dimensionality. In the absence of diffusion, for example in a crystalline or glassy solid, this isn't a useful measure of sampling efficiency. For this purpose we need to define slightly different quantity, and we need to clarify what we mean by 'time' in an MC simulation."
   ]
  },
  {
   "cell_type": "markdown",
   "metadata": {
    "nbgrader": {
     "grade": false,
     "grade_id": "cell-66620da88b06fd9e",
     "locked": true,
     "schema_version": 1,
     "solution": false
    },
    "slideshow": {
     "slide_type": "slide"
    }
   },
   "source": [
    "To estimate the sampling efficiency of an MC algorithm, we compute an $\\mathrm{msd}$-like quantity, the single-move mean-squared particle displacements averaged over MC moves,  \n",
    "\n",
    "$$\n",
    "\\left\\langle \\Delta {\\bf r}_i^2 \\right\\rangle,\n",
    "$$\n",
    "\n",
    "where the angle brackets now denote an average over all particles and over all trial MC moves. Note that only *accepted* moves make a nonzero contribution to this average, but the average is over *all* trial moves (accepted or not). Thus, $\\left\\langle \\Delta {\\bf r}_i^2 \\right\\rangle$ will be small for small $\\Delta$ (where most trial moves are accepted, but only generate small displacements) and for large $\\Delta$ (where most trial moves are rejected).\n",
    "\n",
    "We can now define a diffusion-constant-like measure of efficiency based on $\\left\\langle \\Delta {\\bf r}_i^2 \\right\\rangle$, namely\n",
    "\n",
    "$$\n",
    "\\mathrm{efficiency} = \\frac{\\left\\langle \\Delta {\\bf r}_i^2 \\right\\rangle}{\\mathrm{CPU\\ time}}.\n",
    "$$\n",
    "\n",
    "This measure of efficiency can be used for 'on-the-fly' optimization of MC simulations, although such optimizations shouldn't be carried out during *production* runs, as they typically (weakly) violate detailed balance."
   ]
  },
  {
   "cell_type": "markdown",
   "metadata": {
    "nbgrader": {
     "grade": false,
     "grade_id": "cell-66620da88b06fd9e",
     "locked": true,
     "schema_version": 1,
     "solution": false
    },
    "slideshow": {
     "slide_type": "slide"
    }
   },
   "source": [
    "Qualitative dependence of the single-move mean-squared displacement on the average size $\\Delta$ of trial moves (left), and dependence of the computational cost per move on $\\Delta$ for continuous and hard-core potentials (right). For hard-core systems, an 'early exit' strategy leads to a decrease in computational cost with increasing $\\Delta$.\n",
    " \n",
    "<img src=\"images/Frenkel_Fig_3.4.png\" alt=\"Drawing\" style=\"width: 1000px;\">\n",
    "\n",
    "Figure from *Understanding Molecular Simulation: from Algorithms to Applications*, by Daan Frenkel and Berend Smit."
   ]
  },
  {
   "cell_type": "markdown",
   "metadata": {
    "nbgrader": {
     "grade": false,
     "grade_id": "cell-66620da88b06fd9e",
     "locked": true,
     "schema_version": 1,
     "solution": false
    },
    "slideshow": {
     "slide_type": "slide"
    }
   },
   "source": [
    "## 8.3 - Pair distribution function\n",
    " \n",
    "The structure of condensed phases can be characterized by a set of average $n$-particle distribution functions that measure the probability of finding $n$ particles with specific positions ${\\bf r}^n$, and hence probe $n$-particle *correlations*. The simplest such distribution function is the *pair distribution function* $g_2({\\bf r}_1, {\\bf r}_2) \\equiv g({\\bf r}_1, {\\bf r}_2)$, which is the probability of finding a distance $r = |{\\bf r}_2 - {\\bf r}_1|$ apart relative to the probability for a random distribution of particles at the same density.\n",
    "\n",
    "In the canonical ensemble, the pair distribution function can be written as\n",
    "\n",
    "$$\n",
    "g({\\bf r}_1, {\\bf r}_2) = \\frac{N(N-1)}{\\rho^2 Z^\\mathrm{int}} \\int d{\\bf r}_3 d{\\bf r}_4 ... d{\\bf r}_N\n",
    "\\exp \\left[ - \\beta U({\\bf r}^N) \\right].\n",
    "$$\n",
    "\n",
    "See, e.g., *Theory of Simple Liquids*, by J. P. Hansen and I. R. McDonald."
   ]
  },
  {
   "cell_type": "markdown",
   "metadata": {
    "nbgrader": {
     "grade": false,
     "grade_id": "cell-66620da88b06fd9e",
     "locked": true,
     "schema_version": 1,
     "solution": false
    },
    "slideshow": {
     "slide_type": "slide"
    }
   },
   "source": [
    "Equivalently, we can define the pair distribution function starting with the pair density for particles separated by a distance ${\\bf r}$,\n",
    "\n",
    "$$\n",
    "\\rho^{(2)}({\\bf r}^\\prime + {\\bf r}, {\\bf r}^\\prime) = \\left\\langle \\sum_i \\sum_{j \\neq i}\n",
    "\\delta({\\bf r}^\\prime + {\\bf r} - {\\bf r}_i) \\delta({\\bf r}^\\prime - {\\bf r}_j) \\right\\rangle.\n",
    "$$\n",
    "\n",
    "In a homogeneous system, this is independent of ${\\bf r}^\\prime$. In this case, $g({\\bf r})$ is given by\n",
    "\n",
    "$$\n",
    "g({\\bf r}) = \\frac{\\rho^{(2)}({\\bf r}^\\prime + {\\bf r}, {\\bf r}^\\prime)}{\\rho^2}\n",
    "= \\frac{V^2}{N^2} \\frac{1}{V} \\int d{\\bf r}^\\prime \\rho^{(2)}({\\bf r}^\\prime + {\\bf r}, {\\bf r}^\\prime).\n",
    "$$\n",
    "\n",
    "Here $\\rho = N/V$ is the particle density, and we've averaged over ${\\bf r}^\\prime$ in the last step."
   ]
  },
  {
   "cell_type": "markdown",
   "metadata": {
    "nbgrader": {
     "grade": false,
     "grade_id": "cell-66620da88b06fd9e",
     "locked": true,
     "schema_version": 1,
     "solution": false
    },
    "slideshow": {
     "slide_type": "slide"
    }
   },
   "source": [
    "Integrating over ${\\bf r}^\\prime$ eliminates one of the delta functions, giving\n",
    "\n",
    "$$\n",
    "g({\\bf r}) = \\frac{V}{N^2} \\left\\langle \\sum_i \\sum_{j \\neq i}\n",
    "\\delta({\\bf r} - {\\bf r}_{ij}) \\right\\rangle,\n",
    "$$\n",
    "\n",
    "where ${\\bf r}_{ij} = {\\bf r}_i - {\\bf r}_j$.\n",
    "\n",
    "In an isotropic fluid, $g({\\bf r})$ only depends on $r = |{\\bf r}|$, i.e.,\n",
    "\n",
    "$$\n",
    "g(r) = \\frac{V}{N^2} \\left\\langle \\sum_i \\sum_{j \\neq i}\n",
    "\\delta({\\bf r} - {\\bf r}_{ij}) \\right\\rangle.\n",
    "$$"
   ]
  },
  {
   "cell_type": "markdown",
   "metadata": {
    "nbgrader": {
     "grade": false,
     "grade_id": "cell-66620da88b06fd9e",
     "locked": true,
     "schema_version": 1,
     "solution": false
    },
    "slideshow": {
     "slide_type": "slide"
    }
   },
   "source": [
    "Pair distribution function for the Lennard-Jones fluid close to its triple point ($T^\\ast = 0.8$, $\\rho^\\ast = 0.8$). Note that $\\lim_{r \\to \\infty} g(r) = 1$.\n",
    " \n",
    "<img src=\"images/A&T_Fig_2.2.png\" alt=\"Drawing\" style=\"width: 800px;\">\n",
    "\n",
    "Figure from *Computer Simulation of Liquids*, by Mike Allen and Dominic Tildesley."
   ]
  },
  {
   "cell_type": "markdown",
   "metadata": {
    "nbgrader": {
     "grade": false,
     "grade_id": "cell-66620da88b06fd9e",
     "locked": true,
     "schema_version": 1,
     "solution": false
    },
    "slideshow": {
     "slide_type": "slide"
    }
   },
   "source": [
    "Pair distribution function of argon near its triple point, obtained from neutron scattering experiments. The ripples at small $r$ are an artifact of the data analysis.\n",
    " \n",
    "<img src=\"images/H&M_Fig_2.3.png\" alt=\"Drawing\" style=\"width: 700px;\">\n",
    "\n",
    "Figure from *Theory of Simple Liquids*, by J. P. Hansen and I. R. McDonald."
   ]
  },
  {
   "cell_type": "markdown",
   "metadata": {
    "nbgrader": {
     "grade": false,
     "grade_id": "cell-66620da88b06fd9e",
     "locked": true,
     "schema_version": 1,
     "solution": false
    },
    "slideshow": {
     "slide_type": "slide"
    }
   },
   "source": [
    "Because the pair distribution function is a measure of pair correlations, the ensemble average of any pair function $a({\\bf r}_i, {\\bf r}_j)$ can be written in terms of $g({\\bf r}_i, {\\bf r}_j)$,\n",
    "\n",
    "$$\n",
    "\\left\\langle a({\\bf r}_i, {\\bf r}_j) \\right\\rangle = \\frac{1}{V^2} \\int d{\\bf r}_i d{\\bf r}_j a({\\bf r}_i, {\\bf r}_j) g({\\bf r}_i, {\\bf r}_j).\n",
    "$$\n",
    "\n",
    "For an isotropic fluid, we have\n",
    "\n",
    "$$\n",
    "\\left\\langle \\sum_i \\sum_{j>i} a(r_{ij}) \\right\\rangle = \\frac{1}{2} N \\rho \\int_0^\\infty dr 4 \\pi r^2 a(r) g(r).\n",
    "$$\n",
    "\n",
    "Thus, for example, the average potential energy per particle can be written\n",
    "\n",
    "$$\n",
    "\\left\\langle \\frac{U}{N} \\right\\rangle\n",
    "= \\left\\langle \\frac{1}{N} \\sum_i \\sum_{j>i} u(r_{ij}) \\right\\rangle = 2 \\pi \\rho \\int_0^\\infty dr r^2 u(r) g(r).\n",
    "$$"
   ]
  },
  {
   "cell_type": "markdown",
   "metadata": {
    "nbgrader": {
     "grade": false,
     "grade_id": "cell-66620da88b06fd9e",
     "locked": true,
     "schema_version": 1,
     "solution": false
    },
    "slideshow": {
     "slide_type": "slide"
    }
   },
   "source": [
    "Similarly, the average pressure can be written\n",
    "\n",
    "$$\n",
    "\\left\\langle PV \\right\\rangle\n",
    "= N k_B T - \\frac{2}{3} \\pi N \\rho \\int_0^\\infty dr r^2 w(r) g(r).\n",
    "$$\n",
    "\n",
    "Here, $w(r) = r\\ du(r)/dr$ is the *pair virial*, in terms of which the total virial defined earlier can be expressed as\n",
    "\n",
    "$$\n",
    "W = \\frac{1}{3} \\sum_i \\sum_{j>i} {\\bf r}_{ij} \\cdot {\\bf r}_{ij}\n",
    "= - \\frac{1}{3} \\sum_i \\sum_{j>i} {\\bf r}_{ij} \\cdot \\nabla_{{\\bf r}_{ij}} u(r_{ij})\n",
    "= - \\frac{1}{3} \\sum_i \\sum_{j>i} {\\bf r}_{ij} \\cdot \\left[ \\frac{du(r_{ij})}{dr_{ij}} \\nabla_{{\\bf r}_{ij}} r_{ij} \\right]\n",
    "$$\n",
    "$$\n",
    "= - \\frac{1}{3} \\sum_i \\sum_{j>i} {\\bf r}_{ij} \\cdot \\left[ \\frac{du(r_{ij})}{dr_{ij}} \\frac{{\\bf r}_{ij}}{r_{ij}} \\right]\n",
    "= - \\frac{1}{3} \\sum_i \\sum_{j>i} w(r_{ij}).\n",
    "$$\n",
    "\n",
    "It's generally more accurate to compute these quantities directly, but these expressions are useful for obtaining long-range corrections in simulations with an interaction cutoff."
   ]
  },
  {
   "cell_type": "markdown",
   "metadata": {
    "nbgrader": {
     "grade": false,
     "grade_id": "cell-66620da88b06fd9e",
     "locked": true,
     "schema_version": 1,
     "solution": false
    },
    "slideshow": {
     "slide_type": "slide"
    }
   },
   "source": [
    "## 8.4 - Long-range corrections\n",
    " \n",
    "Truncation of pair interactions using cutoffs introduces a dependence of the simulation results on the interaction cutoff $r_c$. It's desirable to remove this artifical dependence on $r_c$ if at all possible. To a first approximation, we can do this by computing long-range corrections to average thermodynamic quantities such as the potential energy and pressure, assuming that the density of interacting pairs is uniform beyond the interaction cutoff $r_c$, i.e., $g(r) \\cong 1$ for $r > r_c$.\n",
    "\n",
    "In this case, the long-range ('tail') correction to the potential energy per particle is\n",
    "\n",
    "$$\n",
    "u^\\mathrm{tail} = \\frac{U^\\mathrm{tail}}{N} = 2 \\pi \\rho \\int_{r_c}^\\infty dr r^2 u(r),\n",
    "$$\n",
    "\n",
    "and the long-range correction to the pressure is\n",
    "\n",
    "$$\n",
    "P^\\mathrm{tail} = - \\frac{2}{3} \\pi \\rho^2 \\int_{r_c}^\\infty dr r^2 w(r).\n",
    "$$"
   ]
  },
  {
   "cell_type": "markdown",
   "metadata": {
    "nbgrader": {
     "grade": false,
     "grade_id": "cell-66620da88b06fd9e",
     "locked": true,
     "schema_version": 1,
     "solution": false
    },
    "slideshow": {
     "slide_type": "slide"
    }
   },
   "source": [
    "For the Lennard-Jones potential,\n",
    "\n",
    "$$\n",
    "u_\\mathrm{LJ}(r) = 4 \\epsilon \\left[ \\left( \\frac{\\sigma}{r} \\right)^{12} - \\left( \\frac{\\sigma}{r} \\right)^6 \\right],\n",
    "$$\n",
    "\n",
    "we obtain\n",
    "\n",
    "$$\n",
    "u^\\mathrm{tail} = \\frac{8 \\pi}{3} \\epsilon \\rho \\sigma^3 \\left[ \\frac{1}{3} \\left( \\frac{\\sigma}{r_c} \\right)^9 - \\left( \\frac{\\sigma}{r_c} \\right)^3 \\right]\n",
    "$$\n",
    "\n",
    "and\n",
    "\n",
    "$$\n",
    "P^\\mathrm{tail} = \\frac{16 \\pi}{3} \\epsilon \\rho^2 \\sigma^3 \\left[ \\frac{2}{3} \\left( \\frac{\\sigma}{r_c} \\right)^9 - \\left( \\frac{\\sigma}{r_c} \\right)^3 \\right]$$"
   ]
  },
  {
   "cell_type": "markdown",
   "metadata": {
    "nbgrader": {
     "grade": false,
     "grade_id": "cell-66620da88b06fd9e",
     "locked": true,
     "schema_version": 1,
     "solution": false
    },
    "slideshow": {
     "slide_type": "slide"
    }
   },
   "source": [
    "For molecular dynamics simulations with a truncated and *shifted* potential, an additional term should be added to the average potential energy per particle to correct for the shift in the potential,\n",
    "\n",
    "$$\n",
    "u^\\mathrm{shift} = \\frac{1}{2} \\langle n(r < r_c) \\rangle\\ u(r_c),\n",
    "$$\n",
    "\n",
    "where $\\langle n(r < r_c) \\rangle$ is the average number of particles within a distance $r_c$ from a given particle, $u(r_c)$ is the value of the (untruncated, unshifted) pair potential at the cutoff, and the factor of $1/2$ is included to avoid overcounting pair interactions.\n",
    "\n",
    "Because the forces aren't changed by a shift in the potential, there's no corresponding correction to the pressure.\n",
    "\n",
    "Note that many MD simulation packages use more complicated switching functions instead of sharp cutoffs, so the long-range corrections are correspondingly more complicated."
   ]
  },
  {
   "cell_type": "markdown",
   "metadata": {
    "nbgrader": {
     "grade": false,
     "grade_id": "cell-66620da88b06fd9e",
     "locked": true,
     "schema_version": 1,
     "solution": false
    },
    "slideshow": {
     "slide_type": "slide"
    }
   },
   "source": [
    "## 8.5 - Orientational moves\n",
    " \n",
    "For non-spherical particles (e.g., molecules), or for particles with anisotropic interaction potentials (e.g. *dipolar* spheres), we must include trial moves that change the particle orientation in our Monte Carlo procedure.\n",
    "\n",
    "While generating trial *translational* moves that satisfy detailed balance is relatively simple, devising appropriate trial *orientational* moves is more subtle, and there are a variety of different approaches.\n",
    "\n",
    "\n",
    "\n",
    "\n",
    "\n"
   ]
  },
  {
   "cell_type": "markdown",
   "metadata": {
    "nbgrader": {
     "grade": false,
     "grade_id": "cell-66620da88b06fd9e",
     "locked": true,
     "schema_version": 1,
     "solution": false
    },
    "slideshow": {
     "slide_type": "slide"
    }
   },
   "source": [
    "**Rigid, linear molecules**\n",
    "\n",
    "The orientation of linear molecules (or particles).\n",
    "\n",
    "\n",
    "\n",
    "\n",
    "\n"
   ]
  },
  {
   "cell_type": "code",
   "execution_count": null,
   "metadata": {},
   "outputs": [],
   "source": []
  }
 ],
 "metadata": {
  "celltoolbar": "Slideshow",
  "kernelspec": {
   "display_name": "Python 3",
   "language": "python",
   "name": "python3"
  },
  "language_info": {
   "codemirror_mode": {
    "name": "ipython",
    "version": 3
   },
   "file_extension": ".py",
   "mimetype": "text/x-python",
   "name": "python",
   "nbconvert_exporter": "python",
   "pygments_lexer": "ipython3",
   "version": "3.6.5"
  }
 },
 "nbformat": 4,
 "nbformat_minor": 2
}
