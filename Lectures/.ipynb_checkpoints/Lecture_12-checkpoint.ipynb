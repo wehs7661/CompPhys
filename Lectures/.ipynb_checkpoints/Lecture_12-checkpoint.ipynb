{
 "cells": [
  {
   "cell_type": "markdown",
   "metadata": {
    "nbgrader": {
     "grade": false,
     "grade_id": "cell-100899e0deea9789",
     "locked": true,
     "schema_version": 1,
     "solution": false
    },
    "slideshow": {
     "slide_type": "slide"
    }
   },
   "source": [
    "# Lecture 12: Isothermal-isobaric and grand canonical ensembles\n",
    "\n",
    "## Physics 7810, Spring 2020"
   ]
  },
  {
   "cell_type": "markdown",
   "metadata": {
    "nbgrader": {
     "grade": false,
     "grade_id": "cell-66620da88b06fd9e",
     "locked": true,
     "schema_version": 1,
     "solution": false
    },
    "slideshow": {
     "slide_type": "slide"
    }
   },
   "source": [
    "## 12.1 - Overview\n",
    "\n",
    "In the previous lecture, we described an extended system method for carrying out molecular dynamics (MD) simulations in the isothermal-isobaric $NPT$ ensemble. However, we haven't yet properly defined the $NPT$ ensemble, nor have we discussed how to calculate thermodynamic observables in this ensemble. This foundation will be useful for formulating $NPT$ *Monte Carlo* methods, to be discussed shortly.\n",
    "\n",
    "For completeness, we will also introduce the *grand canonical* ($\\mu V T$) ensemble, where $\\mu$ is the chemical potential. This ensemble is useful for describing systems in which the number of particles can vary through exchange of particles with a reservoir at constant chemical potential."
   ]
  },
  {
   "cell_type": "markdown",
   "metadata": {
    "nbgrader": {
     "grade": false,
     "grade_id": "cell-66620da88b06fd9e",
     "locked": true,
     "schema_version": 1,
     "solution": false
    },
    "slideshow": {
     "slide_type": "slide"
    }
   },
   "source": [
    "## 12.2 - Isothermal-isobaric ensemble\n",
    "\n",
    "The probability density for the isothermal-isobaric ensemble is proportional to\n",
    "\n",
    "$$\n",
    "\\exp \\left[- \\beta (H + PV) \\right],\n",
    "$$\n",
    "\n",
    "where $\\beta = (k_B T)^{-1}$, $T$ is the absolute temperature, and $H$ is the Hamiltonian. The quantity in the exponent, when averaged, is the thermodynamic *enthalpy* ${\\cal H} = \\langle H \\rangle + P \\langle V \\rangle$. In this ensemble, the pressure is held fixed but the volume can vary, so the phase space includes $V$ in addition to the particle positions and momenta. In the classical limit, the $NPT$ partition function $Z(N,P,T)$ is\n",
    "\n",
    "$$\n",
    "Z(N,P,T) = \\frac{1}{N!} \\frac{1}{h^{3N}} \\frac{1}{V_0} \\int_0^\\infty dV \\int d{\\bf p}^N d{\\bf r}^N \\exp \\left[- \\beta \\left( H({\\bf p}^N,{\\bf r}^N) + PV \\right) \\right].\n",
    "$$\n",
    "\n",
    "As in the canonical ensemble, the factors of $1/N!$ and $1/h^{3N}$ are due to quantum effects."
   ]
  },
  {
   "cell_type": "markdown",
   "metadata": {
    "nbgrader": {
     "grade": false,
     "grade_id": "cell-66620da88b06fd9e",
     "locked": true,
     "schema_version": 1,
     "solution": false
    },
    "slideshow": {
     "slide_type": "slide"
    }
   },
   "source": [
    "In this expression for the partition function, a reference volume has been introduced to make $Z(N,P,T)$ dimensionless. Note that $Z(N,P,T)$ can be written as the *Laplace transform* of the *canonical* partition function $Z(N,V,T)$,\n",
    "\n",
    "$$\n",
    "Z(N,P,T) = \\frac{1}{V_0} \\int_0^\\infty dV \\exp (- \\beta PV )\\ Z(N,V,T).\n",
    "$$\n",
    "\n",
    "This implies that computing an $NPT$ ensemble average involves first calculating the canonical ensemble average at a volume $V$, then averaging over $V$ with a weight factor $\\exp(-\\beta PV)$.\n",
    "\n",
    "The thermodynamic potential for the isothermal-isobaric ensemble is the Gibbs free energy $G$,\n",
    "\n",
    "$$\n",
    "G = - k_B T \\ln Z(N,P,T),\n",
    "$$\n",
    "\n",
    "from which all of the thermodynamic properties can be derived. Recall that, in thermodynamics, $G = E-TS+PV$."
   ]
  },
  {
   "cell_type": "markdown",
   "metadata": {
    "nbgrader": {
     "grade": false,
     "grade_id": "cell-66620da88b06fd9e",
     "locked": true,
     "schema_version": 1,
     "solution": false
    },
    "slideshow": {
     "slide_type": "slide"
    }
   },
   "source": [
    "As for the $NVT$ ensemble, one can separate configurational properties from kinetic ones, which makes it possible to formulate Monte Carlo schemes to sample just the (expanded) configuration space $({\\bf r}^N, V)$. The configurational partition function in this ensemble is (to within normalizing factors)\n",
    "\n",
    "$$\n",
    "Z^\\mathrm{int}(N,P,T) = \\int_0^\\infty dV \\exp (- \\beta PV ) \\int d{\\bf r}^N \\exp \\left[- \\beta U({\\bf r}^N) \\right].\n",
    "$$\n",
    "\n",
    "This is just the Laplace transform of the configurational (interaction) part of the canonical partition function,\n",
    "\n",
    "$$\n",
    "Z^\\mathrm{int}(N,V,T) \\propto \\int d{\\bf r}^N \\exp \\left[- \\beta U({\\bf r}^N) \\right].\n",
    "$$"
   ]
  },
  {
   "cell_type": "markdown",
   "metadata": {
    "nbgrader": {
     "grade": false,
     "grade_id": "cell-66620da88b06fd9e",
     "locked": true,
     "schema_version": 1,
     "solution": false
    },
    "slideshow": {
     "slide_type": "slide"
    }
   },
   "source": [
    "## 12.3 - Grand canonical ensemble\n",
    "\n",
    "The probability density for the $\\mu VT$ (*grand canonical*) ensemble is proportional to\n",
    "\n",
    "$$\n",
    "\\exp \\left[- \\beta \\left( H - \\mu N \\right) \\right],\n",
    "$$\n",
    "\n",
    "where $H$ is the Hamiltonian and $\\mu$ is the chemical potential, which acts as a thermodynamic 'force' conjugate to the thermodynamic 'displacement' $N$, which is now a variable.\n",
    "\n",
    "The grand canonical partition function is\n",
    "\n",
    "$$\n",
    "Z(\\mu,V,T) = \\sum_{N=0}^\\infty \\exp \\left( \\beta \\mu N \\right)\\ Z(N,V,T)\n",
    "= \\sum_{N=0}^\\infty z^N\\ Z(N,V,T),\n",
    "$$\n",
    "\n",
    "where $Z(N,V,T)$ is the canonical partition function for a system of $N$ particles, and the *fugacity* $z$ is defined as $z = e^{\\beta \\mu}$."
   ]
  },
  {
   "cell_type": "markdown",
   "metadata": {
    "nbgrader": {
     "grade": false,
     "grade_id": "cell-66620da88b06fd9e",
     "locked": true,
     "schema_version": 1,
     "solution": false
    },
    "slideshow": {
     "slide_type": "slide"
    }
   },
   "source": [
    "In the classical limit, this becomes\n",
    "\n",
    "$$\n",
    "Z(\\mu,V,T) = \\sum_{N=0}^\\infty \\frac{1}{N!} \\frac{1}{h^{3N}} \\exp \\left( \\beta \\mu N \\right) \\int d{\\bf p}^N d{\\bf r}^N \\exp \\left[- \\beta H({\\bf p}^N,{\\bf r}^N) \\right].\n",
    "$$\n",
    "\n",
    "The corresponding thermodynamic potential is the *grand free energy*\n",
    "\n",
    "$$\n",
    "\\Phi = - k_B T \\ln Z(\\mu,V,T) = E - TS - \\mu N = - PV,\n",
    "$$\n",
    "\n",
    "where the final equality follows from the *Euler relation*, $E = TS - PV + \\mu N$."
   ]
  },
  {
   "cell_type": "markdown",
   "metadata": {
    "nbgrader": {
     "grade": false,
     "grade_id": "cell-66620da88b06fd9e",
     "locked": true,
     "schema_version": 1,
     "solution": false
    },
    "slideshow": {
     "slide_type": "slide"
    }
   },
   "source": [
    "Thermodynamic identities can be derived from the differential identity (which follows from the first law of thermodynamics),\n",
    "\n",
    "$$\n",
    "d\\Phi = - S dT - P dV - N d\\mu,\n",
    "$$\n",
    "\n",
    "which immediately yields\n",
    "\n",
    "$$\n",
    "S = - \\left( \\frac{\\partial \\Phi}{\\partial T} \\right)_{\\mu,V}, \\quad \n",
    "P = - \\left( \\frac{\\partial \\Phi}{\\partial V} \\right)_{\\mu,T}, \\quad\n",
    "N = - \\left( \\frac{\\partial \\Phi}{\\partial \\mu} \\right)_{V,T}.\n",
    "$$"
   ]
  },
  {
   "cell_type": "markdown",
   "metadata": {
    "nbgrader": {
     "grade": false,
     "grade_id": "cell-66620da88b06fd9e",
     "locked": true,
     "schema_version": 1,
     "solution": false
    },
    "slideshow": {
     "slide_type": "slide"
    }
   },
   "source": [
    "Alternatively, the average number of particles in the grand canonical ensemble can be calculated directly from statistical mechanics, as\n",
    "\n",
    "$$\n",
    "\\langle N \\rangle = \\frac{\\sum_{N = 0}^\\infty N e^{\\beta \\mu N} Z(N,V,T)}{\\sum_{N = 0}^\\infty e^{\\beta \\mu N} Z(N,V,T)} \n",
    "= k_B T \\frac{1}{Z(\\mu,V,T)} \\frac{\\partial Z(\\mu,V,T)}{\\partial \\mu}\n",
    "$$\n",
    "\n",
    "$$\n",
    "= k_B T \\frac{\\partial \\ln Z(\\mu,V,T)}{\\partial \\mu}\n",
    "= - \\frac{\\partial \\Phi}{\\partial \\mu},\n",
    "$$\n",
    "\n",
    "which is identical to the thermodynamic identity derived above."
   ]
  },
  {
   "cell_type": "markdown",
   "metadata": {
    "nbgrader": {
     "grade": false,
     "grade_id": "cell-66620da88b06fd9e",
     "locked": true,
     "schema_version": 1,
     "solution": false
    },
    "slideshow": {
     "slide_type": "slide"
    }
   },
   "source": [
    "Moreover, the *chemical susceptibility* $\\partial \\langle N \\rangle / \\partial \\mu$, which measures the rate of change of particle number with chemical potential, is related to number fluctuations:\n",
    "\n",
    "$$\n",
    "\\frac{\\partial \\langle N \\rangle}{\\partial \\mu} = \\frac{\\partial}{\\partial \\mu} \\frac{\\sum_{N = 0}^\\infty N e^{\\beta \\mu N} Z(N,V,T)}{\\sum_{N = 0}^\\infty e^{\\beta \\mu N} Z(N,V,T)}\n",
    "$$\n",
    "$$\n",
    "= - \\frac{\\beta}{Z(\\mu,V,T)^2} \\left( \\sum_{N = 0}^\\infty N e^{\\beta \\mu N} Z(N,V,T) \\right)^2\n",
    "$$\n",
    "$$\n",
    "+ \\frac{\\beta}{Z(\\mu,V,T)} \\sum_{N = 0}^\\infty N^2 e^{\\beta \\mu N} Z(N,V,T)\n",
    "$$\n",
    "$$\n",
    "= \\frac{\\langle N^2 \\rangle - \\langle N \\rangle^2}{k_B T} = \\frac{\\langle (N - \\langle N \\rangle)^2 \\rangle}{k_B T}\n",
    "= \\frac{\\sigma_N^2}{k_B T},\n",
    "$$\n",
    "\n",
    "where $\\sigma_N^2 = \\langle (N - \\langle N \\rangle)^2 \\rangle$ is the mean square fluctuation in particle number. This is an example of a fluctuation-response relation."
   ]
  },
  {
   "cell_type": "code",
   "execution_count": null,
   "metadata": {},
   "outputs": [],
   "source": []
  }
 ],
 "metadata": {
  "celltoolbar": "Slideshow",
  "kernelspec": {
   "display_name": "Python 3",
   "language": "python",
   "name": "python3"
  },
  "language_info": {
   "codemirror_mode": {
    "name": "ipython",
    "version": 3
   },
   "file_extension": ".py",
   "mimetype": "text/x-python",
   "name": "python",
   "nbconvert_exporter": "python",
   "pygments_lexer": "ipython3",
   "version": "3.6.5"
  }
 },
 "nbformat": 4,
 "nbformat_minor": 2
}
