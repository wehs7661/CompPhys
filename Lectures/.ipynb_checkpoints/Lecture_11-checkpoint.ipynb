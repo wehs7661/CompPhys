{
 "cells": [
  {
   "cell_type": "markdown",
   "metadata": {
    "nbgrader": {
     "grade": false,
     "grade_id": "cell-100899e0deea9789",
     "locked": true,
     "schema_version": 1,
     "solution": false
    },
    "slideshow": {
     "slide_type": "slide"
    }
   },
   "source": [
    "# Lecture 11: Constant-pressure molecular dynamics\n",
    "\n",
    "## Physics 7810, Spring 2020"
   ]
  },
  {
   "cell_type": "markdown",
   "metadata": {
    "nbgrader": {
     "grade": false,
     "grade_id": "cell-66620da88b06fd9e",
     "locked": true,
     "schema_version": 1,
     "solution": false
    },
    "slideshow": {
     "slide_type": "slide"
    }
   },
   "source": [
    "## 11.1 - Overview\n",
    " \n",
    "As mentioned previously, it is often convenient to carry out MD simulations in ensembles other than the 'natural' $NVE$ ensemble. Perhaps the most useful ensemble is the *isothermal-isobaric* ($NPT$) ensemble, because this corresponds most closely to typical experimental conditions, and because working in this ensemble often simplifies calculations of free energies and phase equilibria.\n",
    "\n",
    "Sadly, but predictably, constant-pressure MD methods tend to be even more complicated than the isothermal MD algorithms described above. *Stochastic* $NPT$ MD schemes can be constructed by combining $NVT$ MD simulations (e.g., using the Andersen algorithm) with volume-changing Monte Carlo moves to control the pressure (such constant-pressure MC methods will be discussed later). Here we focus on *deterministic* $NPT$ algorithms, specifically *extended systems* methods similar in spirit to (and combined with) the Nose-Hoover thermostat described previously.\n",
    "\n",
    "The situation becomes even more complicated in situations where the simulation box can vary in *shape* as well as *size*, as is required in $NPT$ simulations of crystalline solids or partially-ordered fluids such as smectic liquid crystals."
   ]
  },
  {
   "cell_type": "markdown",
   "metadata": {
    "nbgrader": {
     "grade": false,
     "grade_id": "cell-66620da88b06fd9e",
     "locked": true,
     "schema_version": 1,
     "solution": false
    },
    "slideshow": {
     "slide_type": "slide"
    }
   },
   "source": [
    "## 11.2 - Extended system constant-pressure MD\n",
    " \n",
    "In extended system $NPT$ MD schemes, the system volume $V$ is treated as a dynamical variable, with dynamics designed to correctly sample the $NPT$ ensemble. Such a method was proposed by Martyna et al. (*J. Chem. Phys.* **101**, 4177 (1994)), described by the following equations of motion in $d$ dimensions:\n",
    "\n",
    "$$\n",
    "\\dot{\\bf r} = \\frac{{\\bf p}}{m} + \\left( \\frac{p_\\epsilon}{W} \\right) {\\bf r},\n",
    "$$\n",
    "\n",
    "$$\n",
    "\\dot{\\bf p} = {\\bf f} - \\alpha \\left( \\frac{p_\\epsilon}{W} \\right) {\\bf p} - \\left( \\frac{p_\\eta}{Q} \\right) {\\bf p}.\n",
    "$$\n",
    "\n",
    "Here, as before, we have suppressed the particle index $i$, and $\\alpha = 1 + d / g$, where $g$ is the number of degrees of freedom. For systems without constraints, $g = dN$ and $\\alpha = 1 + 1 / N$. Here a thermostat is introduced via the variables $\\eta$ and $p_\\eta$ and the mass parameter $Q$, similar to the Nose-Hoover $NVT$ algorithm."
   ]
  },
  {
   "cell_type": "markdown",
   "metadata": {
    "nbgrader": {
     "grade": false,
     "grade_id": "cell-66620da88b06fd9e",
     "locked": true,
     "schema_version": 1,
     "solution": false
    },
    "slideshow": {
     "slide_type": "slide"
    }
   },
   "source": [
    "A *barostat* for controlling the pressure is introduced through the variables $\\epsilon$, $p_\\epsilon$, and $W$. Here $\\epsilon$ (the 'strain') is defined in terms of the logarithm of the volume,\n",
    "\n",
    "$$\n",
    "\\epsilon = \\frac{1}{d} \\ln \\left( \\frac{V}{V(0)} \\right) = \\ln \\left( \\frac{L}{L(0)} \\right),\n",
    "$$\n",
    "\n",
    "where $V(0)$ is the volume at time $t=0$, and the second equality holds for a cubic box of volume $V = L^d$. $p_\\epsilon$ is the momentum conjugate to $\\epsilon$, and $W$ is the mass parameter associated with $\\epsilon$. The equations of motion for the volume are\n",
    "\n",
    "$$\n",
    "\\dot{V} = d \\left( \\frac{p_\\epsilon}{W} \\right) V \\ \\ \\ \\mathrm{or} \\ \\ \\ \\dot{\\epsilon} = \\frac{p_\\epsilon}{W},\n",
    "$$\n",
    "\n",
    "$$\n",
    "\\dot{p_\\epsilon} = d V (P_\\mathrm{int} - P) - \\left( \\frac{p_{\\eta^\\prime}}{Q^\\prime} \\right) p_\\epsilon.\n",
    "$$"
   ]
  },
  {
   "cell_type": "markdown",
   "metadata": {
    "nbgrader": {
     "grade": false,
     "grade_id": "cell-66620da88b06fd9e",
     "locked": true,
     "schema_version": 1,
     "solution": false
    },
    "slideshow": {
     "slide_type": "slide"
    }
   },
   "source": [
    "The driving force for $p_\\epsilon$ is the difference between the target pressure $P$ and the *internal pressure* $P_\\mathrm{int}$, defined as\n",
    "\n",
    "$$\n",
    "P_\\mathrm{int} = \\frac{1}{dV} \\left( \\alpha \\frac{{\\bf p} \\cdot {\\bf p}}{m} - {\\bf r} \\cdot {\\bf f} \\right)\n",
    "- \\frac{\\partial U(V)}{\\partial V}.\n",
    "$$\n",
    "\n",
    "Compared with the usual internal pressure, $P_\\mathrm{int}$ includes a small additional kinetic energy term,\n",
    "\n",
    "$$\n",
    "(\\alpha - 1) \\frac{{\\bf p} \\cdot {\\bf p}}{m} = \\frac{1}{N} \\frac{{\\bf p} \\cdot {\\bf p}}{m},\n",
    "$$\n",
    "\n",
    "and an additional term arising from any explicit dependence of the potential energy $U$ on volume. For systems with periodic boundary conditions, the ${\\bf r} \\cdot {\\bf f}$ term should be written in a translationally invariant form (e.g., in terms of pair separations and pair forces)."
   ]
  },
  {
   "cell_type": "markdown",
   "metadata": {
    "nbgrader": {
     "grade": false,
     "grade_id": "cell-66620da88b06fd9e",
     "locked": true,
     "schema_version": 1,
     "solution": false
    },
    "slideshow": {
     "slide_type": "slide"
    }
   },
   "source": [
    "Two different Nose-Hoover thermostats act on the particle momenta and the barostat, respectively. In practice these could be Nose-Hoover *chains* of thermostats, to avoid non-ergodicity, but for simplicity we'll only consider the minimal case of two thermostats here. The equations of motion for the *particle* thermostat are\n",
    "\n",
    "$$\n",
    "\\dot{\\eta} = \\frac{p_\\eta}{Q},\n",
    "$$\n",
    "\n",
    "$$\n",
    "\\dot{p}_\\eta = \\frac{{\\bf p} \\cdot {\\bf p}}{m} - g k_B T,\n",
    "$$\n",
    "\n",
    "which are identical to the equations of motion in the $NVT$ Nose-Hoover algorithm. Recall that the quantity on the right-hand-side of the second equation plays the role of a 'thermostat force' that pushes the kinetic temperature of the system towards the target temperature $T$."
   ]
  },
  {
   "cell_type": "markdown",
   "metadata": {
    "nbgrader": {
     "grade": false,
     "grade_id": "cell-66620da88b06fd9e",
     "locked": true,
     "schema_version": 1,
     "solution": false
    },
    "slideshow": {
     "slide_type": "slide"
    }
   },
   "source": [
    "The equations of motion for the *barostat* coordinate $\\eta^\\prime$ and its conjugate momentum $p_{\\eta^\\prime}$ are\n",
    "\n",
    "$$\n",
    "\\dot{\\eta}^\\prime = \\frac{p_{\\eta^\\prime}}{Q^\\prime},\n",
    "$$\n",
    "\n",
    "$$\n",
    "\\dot{p}_\\eta^\\prime = \\frac{p_\\epsilon^2}{W} - k_B T.\n",
    "$$\n",
    "\n",
    "The quantity on the right-hand-side of the second equation plays the role of a force that pushes the kinetic temperature of the barostat towards the target temperature.\n",
    "\n",
    "Having different thermostat masses $Q$ and $Q^\\prime$ is useful if the characteristic timescales associated with kinetic energy fluctuations and pressure fluctuations are significantly different."
   ]
  },
  {
   "cell_type": "markdown",
   "metadata": {
    "nbgrader": {
     "grade": false,
     "grade_id": "cell-66620da88b06fd9e",
     "locked": true,
     "schema_version": 1,
     "solution": false
    },
    "slideshow": {
     "slide_type": "slide"
    }
   },
   "source": [
    "The full system of equations of motion conserve the energy-like quantity\n",
    "\n",
    "$$\n",
    "H_{NPT} = K({\\bf p}^N) + U({\\bf r}^N) + PV + \\frac{p_\\epsilon^2}{2 W} + \\frac{p_\\eta^2}{2 Q} + \\frac{p_{\\eta^\\prime}^2}{2 Q^\\prime} + g k_B T \\eta + k_B T \\eta^\\prime.\n",
    "$$\n",
    "\n",
    "As for the Nose-Hoover thermostat, verifying that this quantity is conserved is a useful check on the dynamics, to ensure sure that the algorithm has been correctly implemented, and that the integration timestep isn't too large.\n",
    "\n",
    "Note that the $PV$ term and the terms involving $\\eta$ and $\\eta^\\prime$ have the form of a thermodynamic force times a displacement, and so represent work done against the external pressure and the target temperature, respectively. The first three terms constitute the instantaneous *enthalpy* of the system.\n",
    "\n",
    "Discrete-time equations of motion can be derived, as for the Nose-Hoover algorithm, using operator-splitting methods."
   ]
  },
  {
   "cell_type": "markdown",
   "metadata": {
    "nbgrader": {
     "grade": false,
     "grade_id": "cell-66620da88b06fd9e",
     "locked": true,
     "schema_version": 1,
     "solution": false
    },
    "slideshow": {
     "slide_type": "slide"
    }
   },
   "source": [
    "The state of the extended system is characterized by the expanded set of phase space variables $\\Gamma(t) = ({\\bf p}^N(t), {\\bf q}^N(t),\\epsilon(t),p_\\epsilon(t),\\eta(t),p_\\eta(t),\\eta^\\prime(t),p_{\\eta^\\prime}(t)$). The time derivative of any function $A(\\Gamma)$ of the phase space variables (including $\\Gamma$ itself) is generated by the Liouville operator, defined as\n",
    "\n",
    "$$\n",
    "iL = \\dot{\\Gamma} \\frac{\\partial}{\\partial \\Gamma},\n",
    "$$\n",
    "\n",
    "which can be formally integrated to obtain the finite-time time evolution operator\n",
    "\n",
    "$$\n",
    "\\Gamma(t) = e^{iLt} \\Gamma(0).\n",
    "$$\n",
    "\n",
    "Practical and stable discrete-time integration schemes can be derived by an approximate splitting of the total time evolution operator into a product of easily-evaluated operators that operate on specific phase space variables."
   ]
  },
  {
   "cell_type": "markdown",
   "metadata": {
    "nbgrader": {
     "grade": false,
     "grade_id": "cell-66620da88b06fd9e",
     "locked": true,
     "schema_version": 1,
     "solution": false
    },
    "slideshow": {
     "slide_type": "slide"
    }
   },
   "source": [
    "We consider the operator splitting proposed by Tuckerman et al. (*J. Phys. A Math. Gen.* **39**, 5629 (2006)),\n",
    "\n",
    "$$\n",
    "iL = iL_1 + iL_1^\\prime + iL_2 + iL_2^\\prime + iL_3 + iL_3^\\prime + iL_4 + iL_4^\\prime,\n",
    "$$\n",
    "\n",
    "where the first four operators act on the particle coordinates and momenta and the strain $\\epsilon$ and its conjugate momentum $p_\\epsilon$,\n",
    "\n",
    "$$\n",
    "iL_1 = \\left( \\frac{\\bf p}{m} + \\xi_\\epsilon {\\bf r} \\right) \\cdot \\frac{\\partial}{\\partial {\\bf r}}, \\qquad\n",
    "iL_1^\\prime = \\xi_\\epsilon \\frac{\\partial}{\\partial \\epsilon},\n",
    "$$\n",
    "\n",
    "$$\n",
    "iL_2 = \\left( {\\bf f} - \\alpha \\xi_\\epsilon {\\bf p} \\right) \\cdot \\frac{\\partial}{\\partial {\\bf p}}, \\qquad\n",
    "iL_2^\\prime = ( P_\\mathrm{int} - P ) d V \\frac{\\partial}{\\partial p_\\epsilon}.\n",
    "$$\n",
    "\n",
    "Here we've defined the barostat 'friction' $\\xi_\\epsilon = p_\\epsilon / W$."
   ]
  },
  {
   "cell_type": "markdown",
   "metadata": {
    "nbgrader": {
     "grade": false,
     "grade_id": "cell-66620da88b06fd9e",
     "locked": true,
     "schema_version": 1,
     "solution": false
    },
    "slideshow": {
     "slide_type": "slide"
    }
   },
   "source": [
    "The remaining operators act on the thermostat variables. $iL_3$ and $iL_4$ are defined as in the $NVT$ Nose-Hoover algorithm,\n",
    "\n",
    "$$\n",
    "iL_3 = \\xi \\frac{\\partial}{\\partial \\eta} - \\xi {\\bf p} \\cdot \\frac{\\partial}{\\partial {\\bf p}},\n",
    "$$\n",
    "\n",
    "$$\n",
    "iL_4 = \\left( \\frac{{\\bf p} \\cdot {\\bf p}}{m} - g k_B T \\right) \\frac{\\partial}{\\partial p_\\eta},\n",
    "$$\n",
    "\n",
    "where $\\xi = p_\\eta / Q$. Note that the two differential operators in $iL_3$ commute."
   ]
  },
  {
   "cell_type": "markdown",
   "metadata": {
    "nbgrader": {
     "grade": false,
     "grade_id": "cell-66620da88b06fd9e",
     "locked": true,
     "schema_version": 1,
     "solution": false
    },
    "slideshow": {
     "slide_type": "slide"
    }
   },
   "source": [
    "$iL_3^\\prime$ and $iL_4^\\prime$ are defined in a similar way, in terms of the primed variables $\\eta^\\prime$ and $p_{\\eta^\\prime}$,\n",
    "\n",
    "$$\n",
    "iL_3^\\prime = \\xi^\\prime \\frac{\\partial}{\\partial \\eta^\\prime} - \\xi^\\prime p_\\epsilon \\frac{\\partial}{\\partial p_\\epsilon},\n",
    "$$\n",
    "\n",
    "$$\n",
    "iL_4^\\prime = \\left( \\frac{p_\\epsilon^2}{W} - k_B T \\right) \\frac{\\partial}{\\partial p_{\\eta^\\prime}},\n",
    "$$\n",
    "\n",
    "where $\\xi^\\prime = p_{\\eta^\\prime} / Q^\\prime$. Note that the two differential operators in $iL_3^\\prime$ commute."
   ]
  },
  {
   "cell_type": "markdown",
   "metadata": {
    "nbgrader": {
     "grade": false,
     "grade_id": "cell-66620da88b06fd9e",
     "locked": true,
     "schema_version": 1,
     "solution": false
    },
    "slideshow": {
     "slide_type": "slide"
    }
   },
   "source": [
    "The propagators are nested in a manner similar to that used for the Nose-Hoover algorithm, with the thermostat parts on the outside and the particle and barostat parts on the inside. This is similar (but more complicated) than the nesting used in the $NVT$ Nose-Hoover algorithm, and is described in some detail in Allen & Tildesley (Section 3.9) and Frenkel & Smit (Appendix E.2.2).\n",
    "\n",
    "The next step is to work out the action of each propagator separately. Armed with these results, we can then proceed to construct a time-reversible integration scheme."
   ]
  },
  {
   "cell_type": "markdown",
   "metadata": {
    "nbgrader": {
     "grade": false,
     "grade_id": "cell-66620da88b06fd9e",
     "locked": true,
     "schema_version": 1,
     "solution": false
    },
    "slideshow": {
     "slide_type": "slide"
    }
   },
   "source": [
    "We start with the 'inner' propagators that act on the particle positions and momenta,\n",
    "\n",
    "$$\n",
    "e^{iL_1 t} {\\bf r} = \\exp \\left[ t \\left( \\frac{\\bf p}{m} + \\xi_\\epsilon {\\bf r} \\right) \\cdot \\frac{\\partial}{\\partial {\\bf r}} \\right] {\\bf r}\n",
    "= {\\bf r} \\exp(\\xi_\\epsilon t) + \\frac{{\\bf p}}{m} t \\frac{\\exp(\\xi_\\epsilon t) - 1}{\\xi_\\epsilon t}\n",
    "$$\n",
    "\n",
    "$$\n",
    "\\approx {\\bf r} \\exp(\\xi_\\epsilon t) + \\frac{{\\bf p}}{m} t \\exp(\\xi_\\epsilon t / 2),\n",
    "$$\n",
    "\n",
    "$$\n",
    "e^{iL_2 t} {\\bf p} = \\exp \\left[ t \\left( {\\bf f} - \\alpha \\xi_\\epsilon {\\bf p} \\right) \\cdot \\frac{\\partial}{\\partial {\\bf p}} \\right] {\\bf p}\n",
    "= {\\bf p} \\exp(- \\alpha \\xi_\\epsilon t) + {\\bf f} t \\frac{1 - \\exp(- \\alpha \\xi_\\epsilon t)}{\\alpha \\xi_\\epsilon t}\n",
    "$$\n",
    "\n",
    "$$\n",
    "\\approx {\\bf p} \\exp(- \\alpha \\xi_\\epsilon t) + {\\bf f} t \\exp( - \\alpha \\xi_\\epsilon t / 2).\n",
    "$$\n",
    "\n",
    "The final approximate expressions, obtained by Taylor expanding the second term on the right-hand-side of each equation, should be used for small $\\xi_\\epsilon t$."
   ]
  },
  {
   "cell_type": "markdown",
   "metadata": {
    "nbgrader": {
     "grade": false,
     "grade_id": "cell-66620da88b06fd9e",
     "locked": true,
     "schema_version": 1,
     "solution": false
    },
    "slideshow": {
     "slide_type": "slide"
    }
   },
   "source": [
    "Here we have made use of the general result derived previously,\n",
    "\n",
    "$$\n",
    "\\exp \\left( a \\frac{\\partial}{\\partial g(x)} \\right) f(x)\n",
    "= \\exp \\left( a \\frac{\\partial}{\\partial g(x)} \\right) f \\left( g^{-1} \\left[ g(x) \\right] \\right)\n",
    "$$\n",
    "\n",
    "$$\n",
    "= \\exp \\left( a \\frac{\\partial}{\\partial y} \\right) f \\left( g^{-1} \\left[ y \\right] \\right)\n",
    "= f \\left( g^{-1} \\left[ y + a \\right] \\right)\n",
    "= f \\left( g^{-1} \\left[ g(x) + a \\right] \\right).\n",
    "$$\n",
    "\n",
    "Setting $g(x) = \\ln (b + x)$ and $g^{-1}(x) = \\exp (x) - b$ then yields\n",
    "\n",
    "$$\n",
    "\\exp \\left[ a (b + x) \\frac{\\partial}{\\partial x} \\right] f(x)\n",
    "= \\exp \\left[ a \\frac{\\partial}{\\partial \\ln (b + x)} \\right] f(x)\n",
    "$$\n",
    "\n",
    "$$\n",
    "= f \\left[ e^{ \\ln (b + x) + a} - b \\right]\n",
    "= f \\left[ x e^a + b ( e^a - 1 ) \\right],\n",
    "$$\n",
    "\n",
    "from which the results on the previous slide can be obtained."
   ]
  },
  {
   "cell_type": "markdown",
   "metadata": {
    "nbgrader": {
     "grade": false,
     "grade_id": "cell-66620da88b06fd9e",
     "locked": true,
     "schema_version": 1,
     "solution": false
    },
    "slideshow": {
     "slide_type": "slide"
    }
   },
   "source": [
    "We next consider the inner propagators that act on the barostat degrees of freedom,\n",
    "\n",
    "$$\n",
    "e^{iL_1^\\prime t} \\epsilon = \\exp \\left[ t \\xi_\\epsilon \\frac{\\partial}{\\partial \\epsilon} \\right] \\epsilon\n",
    "= \\epsilon + \\xi_\\epsilon t,\n",
    "$$\n",
    "\n",
    "$$\n",
    "e^{iL_2^\\prime t} p_\\epsilon\n",
    "= \\exp \\left[ t ( P_\\mathrm{int} - P ) d V \\frac{\\partial}{\\partial p_\\epsilon} \\right] p_\\epsilon\n",
    "= p_\\epsilon + ( P_\\mathrm{int} - P ) d V t. \n",
    "$$\n",
    "\n",
    "We now have all the results we need to construct the 'inner' (non-thermostat) part of the overall propagator."
   ]
  },
  {
   "cell_type": "markdown",
   "metadata": {
    "nbgrader": {
     "grade": false,
     "grade_id": "cell-66620da88b06fd9e",
     "locked": true,
     "schema_version": 1,
     "solution": false
    },
    "slideshow": {
     "slide_type": "slide"
    }
   },
   "source": [
    "The two operators $iL_1$ and $iL_1^\\prime$ commute, so the order in which we advance the coordinates ${\\bf r}$ and $\\epsilon$ is irrelevant. However, $iL_2$ and $iL_2^\\prime$ *do not* commute, because the differential operator $\\partial / \\partial p_\\epsilon$ in $iL_2^\\prime$ acts on the factor $\\xi_\\epsilon = p_\\epsilon / W$ in $iL_2$, and the differential operator $\\partial / \\partial {\\bf p}$ in $iL_2$ acts on the the factor $P_\\mathrm{int}$ in $iL_2^\\prime$, which depends implicitly on the particle momenta ${\\bf p}$. The terms involving $iL_2$ and $iL_2^\\prime$ in the propagator should therefore be factored symmetrically to obtain a time-reversible integrator.\n",
    "\n",
    "With these considerations in mind, the inner (non-thermostat) part of the propagator can be written\n",
    "\n",
    "$$\n",
    "e^{iL_2^\\prime \\frac{\\Delta t}{2}} e^{iL_2 \\frac{\\Delta t}{2}}\n",
    "e^{iL_1 \\Delta t} e^{iL_1^\\prime \\Delta t}\n",
    "e^{iL_2 \\frac{\\Delta t}{2}} e^{iL_2^\\prime \\frac{\\Delta t}{2}}.\n",
    "$$\n",
    "\n",
    "This is what plays the role of the velocity Verlet integrator in the $NPT$ MD scheme."
   ]
  },
  {
   "cell_type": "markdown",
   "metadata": {
    "nbgrader": {
     "grade": false,
     "grade_id": "cell-66620da88b06fd9e",
     "locked": true,
     "schema_version": 1,
     "solution": false
    },
    "slideshow": {
     "slide_type": "slide"
    }
   },
   "source": [
    "The two thermostats are independent of each other because the corresponding Liouville operators commute, so each can be updated separately, and the order is irrelevant. The action of $iL_3$ and $iL_4$ on the particle thermostat variables is the same as for the Nose-Hoover algorithm,\n",
    "\n",
    "$$\n",
    "e^{iL_3 t} \\left( \\begin{array}{c} \\eta \\\\ {\\bf p} \\end{array} \\right)\n",
    "= \\exp \\left(t \\xi \\frac{\\partial}{\\partial \\eta} - t \\xi {\\bf p} \\cdot \\frac{\\partial}{\\partial {\\bf p}} \\right)\n",
    "\\left( \\begin{array}{c} \\eta \\\\ {\\bf p} \\end{array} \\right)\n",
    "= \\left( \\begin{array}{c} \\eta + \\xi t \\\\ {\\bf p} e^{-\\xi t} \\end{array} \\right),\n",
    "$$\n",
    "\n",
    "$$\n",
    "e^{iL_4 t} p_\\eta\n",
    "= \\exp \\left[t \\left( \\frac{{\\bf p} \\cdot {\\bf p}}{m} - g k_B T \\right) \\frac{\\partial}{\\partial p_\\eta} \\right] p_\\eta\n",
    "= p_\\eta + \\left( \\frac{{\\bf p} \\cdot {\\bf p}}{m} - g k_B T \\right) t,\n",
    "$$\n",
    "\n",
    "and the operator splitting schemes employed for that algorithm can be carried over without modification. Note that $iL_3$ and $iL_4$ don't commute with one another (and recall that $\\xi = p_\\eta / Q$)."
   ]
  },
  {
   "cell_type": "markdown",
   "metadata": {
    "nbgrader": {
     "grade": false,
     "grade_id": "cell-66620da88b06fd9e",
     "locked": true,
     "schema_version": 1,
     "solution": false
    },
    "slideshow": {
     "slide_type": "slide"
    }
   },
   "source": [
    "The action of $iL_3^\\prime$ and $iL_4^\\prime$ on the barostat thermostat variables is similar,\n",
    "\n",
    "$$\n",
    "e^{iL_3^\\prime t} \\left( \\begin{array}{c} \\eta^\\prime \\\\ p_\\epsilon \\end{array} \\right)\n",
    "= \\exp \\left(t \\xi^\\prime \\frac{\\partial}{\\partial \\eta^\\prime} - \\xi^\\prime p_\\epsilon \\frac{\\partial}{\\partial p_\\epsilon} \\right)\n",
    "\\left( \\begin{array}{c} \\eta^\\prime \\\\ p_\\epsilon \\end{array} \\right)\n",
    "= \\left( \\begin{array}{c} \\eta^\\prime + \\xi^\\prime t \\\\ p_\\epsilon e^{-\\xi^\\prime t} \\end{array} \\right),\n",
    "$$\n",
    "\n",
    "$$\n",
    "e^{iL_4^\\prime t} p_{\\eta^\\prime}\n",
    "= \\exp \\left[t \\left( \\frac{p_\\epsilon^2}{W} - k_B T \\right) \\frac{\\partial}{\\partial p_{\\eta^\\prime}} \\right] p_{\\eta^\\prime}\n",
    "= p_{\\eta^\\prime} + \\left( \\frac{p_\\epsilon^2}{W} - k_B T \\right) t.\n",
    "$$\n",
    "\n",
    "Note that $iL_3^\\prime$ and $iL_4^\\prime$ don't commute with one another, and recall that $\\xi^\\prime = p_{\\eta^\\prime} / Q$."
   ]
  },
  {
   "cell_type": "markdown",
   "metadata": {
    "nbgrader": {
     "grade": false,
     "grade_id": "cell-66620da88b06fd9e",
     "locked": true,
     "schema_version": 1,
     "solution": false
    },
    "slideshow": {
     "slide_type": "slide"
    }
   },
   "source": [
    "A variety of time-reversible operator splitting schemes for the overall propagator are possible, for example\n",
    "\n",
    "$$\n",
    "\\left[ e^{iL_4^\\prime \\frac{\\Delta t}{2}} e^{iL_3^\\prime \\frac{\\Delta t}{2}} \\right] \\left[ e^{iL_4 \\frac{\\Delta t}{2}} e^{iL_3 \\frac{\\Delta t}{2}} \\right]\n",
    "$$\n",
    "$$\n",
    "\\times \\left[ e^{iL_2^\\prime \\frac{\\Delta t}{2}} e^{iL_2 \\frac{\\Delta t}{2}}\n",
    "e^{iL_1 \\Delta t} e^{iL_1^\\prime \\Delta t}\n",
    "e^{iL_2 \\frac{\\Delta t}{2}} e^{iL_2^\\prime \\frac{\\Delta t}{2}} \\right]\n",
    "$$\n",
    "$$\n",
    "\\times \\left[ e^{iL_3 \\frac{\\Delta t}{2}} e^{iL_4 \\frac{\\Delta t}{2}} \\right] \\left[ e^{iL_3^\\prime \\frac{\\Delta t}{2}} e^{iL_4^\\prime \\frac{\\Delta t}{2}} \\right].\n",
    "$$\n",
    "\n",
    "Other schemes are described in Allen & Tildesley and Frenkel & Smit, including more general methods that incorporate Nose-Hoover *chains* of thermostats to help ensure ergodicity."
   ]
  },
  {
   "cell_type": "markdown",
   "metadata": {
    "nbgrader": {
     "grade": false,
     "grade_id": "cell-66620da88b06fd9e",
     "locked": true,
     "schema_version": 1,
     "solution": false
    },
    "slideshow": {
     "slide_type": "slide"
    }
   },
   "source": [
    "## 11.3 - The Berendsen barostat\n",
    " \n",
    "A useful *ad hoc* ('weak coupling') barostat was proposed by Berendsen et al. (*J. Chem. Phys.* **81**, 3684 (1984)), that is similar in spirit to the Berendsen thermostat. This involves scaling the volume and particle coordinates ${\\bf r}$ to control the pressure, \n",
    "\n",
    "$$\n",
    "{\\bf r}^\\prime = \\mu {\\bf r}, \\qquad V^\\prime = \\mu^d V,\n",
    "$$\n",
    "\n",
    "where the scaling factor $\\mu$ is given by\n",
    "\n",
    "$$\n",
    "\\mu = \\left[ 1 - \\frac{\\Delta t}{\\tau_P} (P - P_\\mathrm{inst}) \\right]^{1/3},\n",
    "$$\n",
    "\n",
    "$\\tau_P$ is a judiciously chosen time constant, and $P_\\mathrm{inst}$ is the instantaneous pressure. A version of this method suitable for simulating systems with a variable box shape is easily formulated. Unfortunately, this method doesn't properly sample the $NPT$ ensemble."
   ]
  },
  {
   "cell_type": "code",
   "execution_count": null,
   "metadata": {},
   "outputs": [],
   "source": []
  }
 ],
 "metadata": {
  "celltoolbar": "Slideshow",
  "kernelspec": {
   "display_name": "Python 3",
   "language": "python",
   "name": "python3"
  },
  "language_info": {
   "codemirror_mode": {
    "name": "ipython",
    "version": 3
   },
   "file_extension": ".py",
   "mimetype": "text/x-python",
   "name": "python",
   "nbconvert_exporter": "python",
   "pygments_lexer": "ipython3",
   "version": "3.6.5"
  }
 },
 "nbformat": 4,
 "nbformat_minor": 2
}
