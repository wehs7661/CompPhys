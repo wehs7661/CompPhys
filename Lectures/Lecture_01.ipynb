{
 "cells": [
  {
   "cell_type": "markdown",
   "metadata": {
    "nbgrader": {
     "grade": false,
     "grade_id": "cell-100899e0deea9789",
     "locked": true,
     "schema_version": 1,
     "solution": false
    },
    "slideshow": {
     "slide_type": "slide"
    }
   },
   "source": [
    "# Lecture 1: Hamiltonian dynamics\n",
    "\n",
    "## Physics 7810, Spring 2020"
   ]
  },
  {
   "cell_type": "markdown",
   "metadata": {
    "nbgrader": {
     "grade": false,
     "grade_id": "cell-66620da88b06fd9e",
     "locked": true,
     "schema_version": 1,
     "solution": false
    },
    "slideshow": {
     "slide_type": "slide"
    }
   },
   "source": [
    "## 1.1 - Classical equations of motion \n",
    "\n",
    "The Lagrangian and Hamiltonian formulations of classical mechanics are perhaps the most general and elegant approaches to formulating classical dynamics. Hamiltonian dynamics is the basis for much of classical statistical mechanics in general, and for the molecular dynamics (MD) simulation method in particular."
   ]
  },
  {
   "cell_type": "markdown",
   "metadata": {
    "slideshow": {
     "slide_type": "slide"
    }
   },
   "source": [
    "Hamiltonian dynamics is built starting with the Lagrangian function $L({\\bf q},\\dot{\\bf q})$, where ${\\bf q}$ and $\\dot{\\bf q}$ are a set of *generalized* coordinates and velocities (e.g., they could represent angles or normal mode amplitudes and their corresponding time derivatives). The Lagrangian is defined as the difference between the kinetic energy $K$ and the potential energy $U$, $$L({\\bf q},\\dot{\\bf q}) = K({\\bf q},\\dot{\\bf q}) - U({\\bf q},\\dot{\\bf q}).$$ In general, $K$ and $U$ are functions of both generalized coordinates and velocities, but in most cases of interest to us we will have $L({\\bf q},\\dot{\\bf q}) = K(\\dot{\\bf q}) - U({\\bf q})$, a fact that greatly simplifies the formulation of classical statistical mechanics."
   ]
  },
  {
   "cell_type": "markdown",
   "metadata": {
    "slideshow": {
     "slide_type": "slide"
    }
   },
   "source": [
    "Given the Lagrangian function, the classical equations of motion are\n",
    "$$\\frac{d}{dt} \\left( \\frac{\\partial L}{\\partial \\dot{q}_k} \\right) - \\left( \\frac{\\partial L}{\\partial q_k} \\right) = 0,$$\n",
    "where there is one equation for each of the $k$ degrees of freedom.\n",
    "For a system of $N$ particles (e.g., atoms) with Cartesian coordinates ${\\bf r}_i, i = 1, N$, we have the usual definition of the kinetic energy, $K({\\dot{\\bf r}}^N) = \\sum_{i=1}^N \\frac{1}{2} m_i {\\dot{\\bf r}}_i^2$, and if we assume that the potential energy depends only on particle positions, $U = U({\\bf r}^N)$, then the Lagrange equations of motion become $$m_i \\ddot{\\bf r}_i = {\\bf f}_i,$$ where $m_i$ is the mass of particle $i$, and the force ${\\bf f}_i$ on particle $i$ is given by\n",
    "$${\\bf f}_i = \\nabla_{{\\bf r}_i} L = - \\nabla_{{\\bf r}_i} U.$$ In this case, we just recover the familiar Newton's equations of motion."
   ]
  },
  {
   "cell_type": "markdown",
   "metadata": {
    "nbgrader": {
     "grade": true,
     "grade_id": "cell-2a056df050ab9a70",
     "locked": false,
     "points": 2,
     "schema_version": 1,
     "solution": true
    },
    "slideshow": {
     "slide_type": "slide"
    }
   },
   "source": [
    "The Hamiltonian formulation of mechanics starts with the definition of a *generalized momentum* $p_k$ conjugate to the generalized coordinate $q_k$, $$p_k = \\frac{\\partial L}{\\partial \\dot{q}_k}.$$\n",
    "The Hamiltonian function $H$ is then *defined* as $$H({\\bf p},{\\bf q}) = \\sum_k \\dot{q}_k p_k - L({\\bf q},\\dot{\\bf q}).$$ As this expression implies, $\\dot{q}_k$ is eliminated in favor of $p_k$ after $H$ is constructed from $L$. The Hamiltonian is often equal to the total energy of the mechanical system, but there are a number of cases where this is not true (for example, when the Hamiltonian is time-dependent)."
   ]
  },
  {
   "cell_type": "markdown",
   "metadata": {
    "nbgrader": {
     "grade": false,
     "grade_id": "cell-b240c608e69ba869",
     "locked": true,
     "schema_version": 1,
     "solution": false
    },
    "slideshow": {
     "slide_type": "slide"
    }
   },
   "source": [
    "Given the Hamiltonian function, we can obtain *Hamilton's equations of motion*\n",
    "$$\\dot{q}_k = \\frac{\\partial H}{\\partial p_k}$$\n",
    "$$\\dot{p}_k = - \\frac{\\partial H}{\\partial q_k},$$\n",
    "which are the foundation for much of the subsequent development of classical statistical mechanics and molecular dynamics."
   ]
  },
  {
   "cell_type": "markdown",
   "metadata": {
    "slideshow": {
     "slide_type": "slide"
    }
   },
   "source": [
    "For a collection of particles described by Cartesian coordinates, Hamilton's equations become\n",
    "$$\\dot{\\bf r}_i = \\frac{{\\bf p}_i}{m_i}$$\n",
    "$$\\dot{\\bf p}_i = - \\nabla_{{\\bf r}_i} U = {\\bf f}_i.$$ Solving Hamilton's equations for a collection of $N$ particles thus involves the solution of a set of $6N$ first-order differential equations (note that the solution of Newton's equations of motion involves the solution of $3N$ second-order differential equations). These equations are in general *nonlinear*, and their 'exact' solution requires numerical methods in most cases."
   ]
  },
  {
   "cell_type": "markdown",
   "metadata": {
    "slideshow": {
     "slide_type": "slide"
    }
   },
   "source": [
    "## 1.1 - Discrete-time solution of Hamilton's equations \n",
    "\n",
    "Finite-difference methods are one of the standard approaches to solving ordinary differential equations such as Hamilton's equations of motion, and are the methods most commonly used in molecular dynamics. This approach involves approximating the exact *continuous-time* time evolution of a dynamical system by a *discrete-time* dynamics, in which we estimate the particle positions and velocities (or momenta) at time $t + \\Delta t$ from their values at time $t$ using a finite-difference approximation. Here $\\Delta t$ is a finite time interval that is typically small compared to the fastest characteristic timescale for the system of interest (e.g., the period of oscillation of a harmonic oscillator)."
   ]
  },
  {
   "cell_type": "markdown",
   "metadata": {
    "slideshow": {
     "slide_type": "slide"
    }
   },
   "source": [
    "For a collection of particles described by Cartesian coordinates, the simplest discrete-time form of Hamilton's equations is the *Euler* discretization,\n",
    "$${\\bf r}_i(t + \\Delta t) = {\\bf r}_i(t) + \\frac{{\\bf p}_i(t)}{m_i} \\Delta t  = {\\bf r}_i(t) + {\\bf v}_i(t) \\Delta t$$\n",
    "$${\\bf v}_i(t + \\Delta t) = {\\bf v}_i(t) + \\frac{\\Delta t}{m_i} {\\bf f}_i(t).$$\n",
    "This turns out to be a particular poor algorithm, as we'll see shortly. A much better method (I'll explain what I mean by 'better' shortly) is the *symplectic Euler* integrator, which consists of the sequence of operations\n",
    "$${\\bf r}_i(t + \\Delta t) = {\\bf r}_i(t) + {\\bf v}_i(t) \\Delta t$$\n",
    "$${\\bf v}_i(t + \\Delta t) = {\\bf v}_i(t) + \\frac{\\Delta t}{m_i} {\\bf f}_i(t + \\Delta t).$$\n",
    "Can you tell the difference? It turns out that the symplectic Euler integrator is superior for deep reasons having to do with unitary time evolution (more on this later)."
   ]
  },
  {
   "cell_type": "markdown",
   "metadata": {
    "slideshow": {
     "slide_type": "slide"
    }
   },
   "source": [
    "An even better integrator, that's widely used in MD simulations, is the velocity Verlet or leapfrog algorithm, that consists of the following three steps:\n",
    "$${\\bf v}_i \\left(t + \\frac{\\Delta t}{2} \\right) = {\\bf v}_i(t) + \\frac{\\Delta t}{2 m_i} {\\bf f}_i(t)$$\n",
    "$${\\bf r}_i(t + \\Delta t) = {\\bf r}_i(t) + {\\bf v}_i \\left(t + \\frac{\\Delta t}{2} \\right) \\Delta t$$\n",
    "$${\\bf v}_i(t + \\Delta t) = {\\bf v}_i \\left(t + \\frac{\\Delta t}{2} \\right) + \\frac{\\Delta t}{2 m_i} {\\bf f}_i(t + \\Delta t)$$\n",
    "We'll explain how this is derived and why it's a good algorithm later."
   ]
  },
  {
   "cell_type": "code",
   "execution_count": null,
   "metadata": {},
   "outputs": [],
   "source": []
  }
 ],
 "metadata": {
  "celltoolbar": "Slideshow",
  "kernelspec": {
   "display_name": "Python 3",
   "language": "python",
   "name": "python3"
  },
  "language_info": {
   "codemirror_mode": {
    "name": "ipython",
    "version": 3
   },
   "file_extension": ".py",
   "mimetype": "text/x-python",
   "name": "python",
   "nbconvert_exporter": "python",
   "pygments_lexer": "ipython3",
   "version": "3.6.5"
  }
 },
 "nbformat": 4,
 "nbformat_minor": 2
}
