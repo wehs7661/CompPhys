{
 "cells": [
  {
   "cell_type": "markdown",
   "metadata": {
    "nbgrader": {
     "grade": false,
     "grade_id": "cell-100899e0deea9789",
     "locked": true,
     "schema_version": 1,
     "solution": false
    },
    "slideshow": {
     "slide_type": "slide"
    }
   },
   "source": [
    "# Lecture 5: Periodic boundary conditions, interaction cutoffs, and all that\n",
    "\n",
    "## Physics 7810, Spring 2020"
   ]
  },
  {
   "cell_type": "markdown",
   "metadata": {
    "nbgrader": {
     "grade": false,
     "grade_id": "cell-66620da88b06fd9e",
     "locked": true,
     "schema_version": 1,
     "solution": false
    },
    "slideshow": {
     "slide_type": "slide"
    }
   },
   "source": [
    "## 5.1 - Periodic boundary conditions \n",
    "\n",
    "Computer simulations usually involve small numbers of particles (typically $N \\sim 10^2 - 10^6$). In a small, finite system, a large fraction of the particles are near the surface (either a bounding surface or a free surface), so surface effects will play a significant role, and may dominate.\n",
    "\n",
    "The standard way to mitigate such finite-size effects is to use *periodic boundary conditions* to eliminate surfaces. We instead introducing imaginary periodic boundaries, which makes the system *homogeneous*, but not necessarily *isotropic*.\n",
    "\n",
    "This imposes an artificial periodicity on the system, which is another type of finite-size effect, but one that is generally less severe and more easily controlled."
   ]
  },
  {
   "cell_type": "markdown",
   "metadata": {
    "nbgrader": {
     "grade": false,
     "grade_id": "cell-66620da88b06fd9e",
     "locked": true,
     "schema_version": 1,
     "solution": false
    },
    "slideshow": {
     "slide_type": "slide"
    }
   },
   "source": [
    "A system with periodic boundary conditions consists of a *computational unit cell* ('simulation box') containing $N$ particles, infinitely replicated in all directions. It is an *infinite periodic system*: the 'home' cell and an infinite lattice of 'image' cells. \n",
    "\n",
    "<img src=\"images/A&T_Fig_1.13.png\" alt=\"Drawing\" style=\"width: 600px;\">\n",
    "\n",
    "Figure from *Computer Simulation of Liquids*, by Mike Allen & Dominic Tildesley"
   ]
  },
  {
   "cell_type": "markdown",
   "metadata": {
    "nbgrader": {
     "grade": false,
     "grade_id": "cell-66620da88b06fd9e",
     "locked": true,
     "schema_version": 1,
     "solution": false
    },
    "slideshow": {
     "slide_type": "slide"
    }
   },
   "source": [
    "Mixed boundary conditions (e.g., periodic in two dimensions and finite in the third dimension) are often useful. The computational unit cell can have any symmetry (square, rectangular, rhombic in 2D, cubic, orthorhombic, monoclinic, triclinic in 3D). The only constraint is that the lattice must fill space without gaps (it must be a Bravais lattice). \n",
    "\n",
    "<img src=\"images/A&T_Fig_1.15.png\" alt=\"Drawing\" style=\"width: 600px;\">\n",
    "\n",
    "Figure from *Computer Simulation of Liquids*, by Mike Allen & Dominic Tildesley"
   ]
  },
  {
   "cell_type": "markdown",
   "metadata": {
    "nbgrader": {
     "grade": false,
     "grade_id": "cell-66620da88b06fd9e",
     "locked": true,
     "schema_version": 1,
     "solution": false
    },
    "slideshow": {
     "slide_type": "slide"
    }
   },
   "source": [
    "It's usually most convenient to keep the positions of the $N$ particles within the central ('home') unit cell, which is centered on the (arbitrarily chosen) origin.\n",
    "\n",
    "We do this by applying periodic boundary conditions: any particle that moves out of the central cell is moved back into the central cell by translating the particle through an integer multiple of the relevant unit cell vector (or vectors). Alternatively, we can say that an 'image' of the particle moves in from a neighboring cell to replace it.\n",
    "\n",
    "For example, if a particle moves out of a 2D $L \\times L$ unit cell in the $+x$ direction, we simple subtract $L$ from its $x$ coordinate: $x \\rightarrow x - L$."
   ]
  },
  {
   "cell_type": "markdown",
   "metadata": {
    "nbgrader": {
     "grade": false,
     "grade_id": "cell-66620da88b06fd9e",
     "locked": true,
     "schema_version": 1,
     "solution": false
    },
    "slideshow": {
     "slide_type": "slide"
    }
   },
   "source": [
    "If we assume that the $x$ and $y$ coordinate in the home cell range from $-L/2$ to $+L/2$ (e.g., $-L/2 < x \\leq L/2$) then we could code this in Python as\n",
    "\n",
    "`if x > L / 2:\n",
    "    x = x - L\n",
    "elif x <= - L /2:\n",
    "    x = x + L`,\n",
    "\n",
    "and similarly for $y$.\n",
    "\n",
    "This is a bit clumsy, and not very general. I'll show you a more general procedure later."
   ]
  },
  {
   "cell_type": "markdown",
   "metadata": {
    "nbgrader": {
     "grade": false,
     "grade_id": "cell-66620da88b06fd9e",
     "locked": true,
     "schema_version": 1,
     "solution": false
    },
    "slideshow": {
     "slide_type": "slide"
    }
   },
   "source": [
    "The use of periodic boundary conditions suppresses fluctuations with wavelength greater than $L$. More precisely, imposing periodic boundary conditions means that any function of position $A({\\bf r})$ (e.g., the particle density $\\rho({\\bf r}) = \\sum_{i = 1}^N \\delta({\\bf r} - {\\bf r}_i)$, where $\\delta$ is the Dirac delta function) can be expressed as a discrete Fourier series:\n",
    "\n",
    "$$\n",
    "A({\\bf r}) = \\sum_{\\bf k} A_{\\bf k} e^{i {\\bf k} \\cdot {\\bf r}},\n",
    "$$\n",
    "\n",
    "where the sum is over discrete wavevectors ${\\bf k} = (n_x, n_y, n_z) (2 \\pi / L)$ (for a cubic unit cell), where $n_x$, $n_y$, and $n_z$ range over all positive and negative integers. \n",
    "\n",
    "This can lead to significant finite-size effects in situations where one encounters long-wavelength fluctuations, e.g., near a second-order phase transition, where the correlation length associated with order parameter fluctuations ('critical fluctuations') diverges. In cases where the relevant correlation length(s) are small compared with $L$, such finite-size effects are generally small."
   ]
  },
  {
   "cell_type": "markdown",
   "metadata": {
    "nbgrader": {
     "grade": false,
     "grade_id": "cell-66620da88b06fd9e",
     "locked": true,
     "schema_version": 1,
     "solution": false
    },
    "slideshow": {
     "slide_type": "slide"
    }
   },
   "source": [
    "## 5.2 - Interaction cutoffs \n",
    "\n",
    "For systems with short-range pair interaction potentials, it's possible to greatly accelerate MD simulations (and other types of simulation) by truncating the pair interactions, i.e., by 'neglecting' interactions between pairs of particles whose separation exceeds some interaction cutoff $r_c$.\n",
    "\n",
    "This can reduce the computational complexity of calculating energies and forces from $O(N^2)$ to $O(N)$, which makes a big difference if $N$ is large. We'll explore ways of accomplishing this (cell search methods, Verlet neighbor lists) later on."
   ]
  },
  {
   "cell_type": "markdown",
   "metadata": {
    "nbgrader": {
     "grade": false,
     "grade_id": "cell-66620da88b06fd9e",
     "locked": true,
     "schema_version": 1,
     "solution": false
    },
    "slideshow": {
     "slide_type": "slide"
    }
   },
   "source": [
    "For systems with periodic boundary conditions, the simplest and crudest way of doing this is the *minimum image convention* or *nearest image convention*, in which particle $i$ only interacts with the nearest image of particle $j$. This is equivalent to imposing periodic boundary conditions on the pair separation ${\\bf r}_{ij}$.\n",
    "\n",
    "<img src=\"images/A&T_Fig_1.16.png\" alt=\"Drawing\" style=\"width: 600px;\">\n",
    "\n",
    "Figure from *Computer Simulation of Liquids*, by Mike Allen & Dominic Tildesley\n"
   ]
  },
  {
   "cell_type": "markdown",
   "metadata": {
    "nbgrader": {
     "grade": false,
     "grade_id": "cell-66620da88b06fd9e",
     "locked": true,
     "schema_version": 1,
     "solution": false
    },
    "slideshow": {
     "slide_type": "slide"
    }
   },
   "source": [
    "The nearest image convention, which corresponds to an effective interaction cutoff of $L/2$, doesn't lead to any  reduction in computational complexity, which is still $O(N^2)$.\n",
    "\n",
    "To do better, we can make use of a spherical interaction cutoff $r_c$ that's smaller than $L/2$, neglecting interactions between pairs with separation greater than $r_c$. This amounts to defining a truncated pair potential,\n",
    "\n",
    "$$\n",
    "u_{\\rm trunc}({\\bf r}_{ij}) = \\left\\{\n",
    "\\begin{array}{ll}\n",
    "u({\\bf r}_{ij}), & r_{ij} < r_c \\\\\n",
    "0, & r_{ij} \\geq r_c\n",
    "\\end{array}\n",
    "\\right.,\n",
    "$$\n",
    "\n",
    "where $r_{ij} = |{\\bf r}_{ij}|$. This means that *we're now studying a different model*, whose properties will depend (possibly weakly) on the interaction cutoff $r_c$. Ideally, we'd like to eliminate the dependence on $r_c$, and we'll discuss approximate ways of doing this (e.g., long-range corrections) later.\n",
    "\n",
    "Another problem for MD simulations is the fact that the potential $u_{\\rm trunc}$ is discontinuous at $r_c$, so the force is undefined there. This can lead to poor energy conservation, as we'll see in the next tutorial."
   ]
  },
  {
   "cell_type": "code",
   "execution_count": null,
   "metadata": {},
   "outputs": [],
   "source": []
  }
 ],
 "metadata": {
  "celltoolbar": "Slideshow",
  "kernelspec": {
   "display_name": "Python 3",
   "language": "python",
   "name": "python3"
  },
  "language_info": {
   "codemirror_mode": {
    "name": "ipython",
    "version": 3
   },
   "file_extension": ".py",
   "mimetype": "text/x-python",
   "name": "python",
   "nbconvert_exporter": "python",
   "pygments_lexer": "ipython3",
   "version": "3.6.5"
  }
 },
 "nbformat": 4,
 "nbformat_minor": 2
}
