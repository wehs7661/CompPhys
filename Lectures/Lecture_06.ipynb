{
 "cells": [
  {
   "cell_type": "markdown",
   "metadata": {
    "nbgrader": {
     "grade": false,
     "grade_id": "cell-100899e0deea9789",
     "locked": true,
     "schema_version": 1,
     "solution": false
    },
    "slideshow": {
     "slide_type": "slide"
    }
   },
   "source": [
    "# Lecture 6: Review of classical statistical mechanics\n",
    "\n",
    "## Physics 7810, Spring 2020"
   ]
  },
  {
   "cell_type": "markdown",
   "metadata": {
    "nbgrader": {
     "grade": false,
     "grade_id": "cell-66620da88b06fd9e",
     "locked": true,
     "schema_version": 1,
     "solution": false
    },
    "slideshow": {
     "slide_type": "slide"
    }
   },
   "source": [
    "## 6.1 - Phase space and ensembles\n",
    "\n",
    "In classical statistical mechanics, the state of an $N$-particle system is specified (in 3 dimensions) by the set of $3N$ coordinates ${\\bf r}^{N}$ and $3N$ momenta ${\\bf p}^{N}$, which together define a point $\\Gamma = ({\\bf p}^{N},{\\bf r}^{N})$ in the $6N$-dimensional *phase space*.\n",
    "\n",
    "We will consider several thermodynamic ensembles that are commonly used in statistical physics and computer simulations:\n",
    "* constant-$NVE$, or *microcanonical* ensemble\n",
    "* constant-$NVT$, or *canonical* ensemble\n",
    "* constant-$NPT$, or *isothermal-isobaric* ensemble\n",
    "* constant-$\\mu VT$, or *grand canonical* ensemble\n",
    "\n",
    "Note that the thermodynamic variables held constant in the microcanonical ensemble are all extensive variables, while a combination of extensive and intensive variables are constrained in other ensembles."
   ]
  },
  {
   "cell_type": "markdown",
   "metadata": {
    "nbgrader": {
     "grade": false,
     "grade_id": "cell-66620da88b06fd9e",
     "locked": true,
     "schema_version": 1,
     "solution": false
    },
    "slideshow": {
     "slide_type": "slide"
    }
   },
   "source": [
    "## 6.2 - Microcanonical ensemble\n",
    "\n",
    "The natural statistical mechanical ensemble for molecular dynamics (MD) simulation is the one we have already encountered in the context of Hamiltonian dynamics, namely the $NVE$ (*microcanonical*) ensemble.\n",
    "\n",
    "The probability density for the microcanonical ensemble is proportional to\n",
    "\n",
    "$$\n",
    "\\delta\\left[H( \\Gamma) - E \\right],\n",
    "$$\n",
    "\n",
    "where $\\delta$ is the Dirac delta function, $H(\\Gamma)$ is the Hamiltonian, and $E$ is the energy. This probability density selects those points in phase space having energy $E$, and gives all such states equal weight ('phase space democracy').\n",
    "\n",
    "The multiplicity $\\Omega(N,V,E)$ is the sum of this probability density over all states. In the classical limit ($h \\rightarrow 0$, where $h$ is Planck's constant) this becomes\n",
    "\n",
    "$$\n",
    "\\Omega(N,V,E) = \\frac{1}{N!} \\frac{1}{h^{3N}} \\int d{\\bf p}^N d{\\bf r}^N \\delta\\left[H({\\bf p}^N,{\\bf r}^N) - E \\right],\n",
    "$$\n",
    "\n",
    "where the factor of $1/N!$ accounts for indistinguishability of particles, and the factor $h^{3N}$ is a measure of the the phase space volume per quantum state."
   ]
  },
  {
   "cell_type": "markdown",
   "metadata": {
    "nbgrader": {
     "grade": false,
     "grade_id": "cell-66620da88b06fd9e",
     "locked": true,
     "schema_version": 1,
     "solution": false
    },
    "slideshow": {
     "slide_type": "slide"
    }
   },
   "source": [
    "The entropy $S(N,V,E)$ is proportional to the logarithm of the multiplicity,\n",
    "\n",
    "$$\n",
    "S(N,V,E) = k_B \\ln \\Omega(N,V,E).\n",
    "$$\n",
    "\n",
    "The entropy plays the role of a *thermodynamic potential* for the microcanonical ensemble, which is *maximized* in thermal equilibrium (second law of thermodynamics), and $\\Omega(N,V,E)$ is the *partition function* for this ensemble.\n",
    "\n",
    "A partition function is a *normalization factor* that transforms relative probability densities into absolute probability densities.\n",
    "\n",
    "In a system of particles with no external forces, Hamilton's equations of motion also conserve the total linear momentum ${\\bf P}$, so MD simulations typically sample a subset of the microcanonical ensemble, the $NVE{\\bf P}$ ensemble.\n",
    "\n",
    "The total angular momentum ${\\bf L}$ is not conserved in most MD simulations, e.g., MD simulations of systems of particles with periodic boundary conditions."
   ]
  },
  {
   "cell_type": "markdown",
   "metadata": {
    "nbgrader": {
     "grade": false,
     "grade_id": "cell-66620da88b06fd9e",
     "locked": true,
     "schema_version": 1,
     "solution": false
    },
    "slideshow": {
     "slide_type": "slide"
    }
   },
   "source": [
    "## 6.3 - Canonical ensemble\n",
    "\n",
    "The probability density for the $NVT$ (*canonical*) ensemble is proportional to\n",
    "\n",
    "$$\n",
    "\\exp \\left[- \\beta H( \\Gamma) \\right],\n",
    "$$\n",
    "\n",
    "where $\\beta = (k_B T)^{-1}$, and $T$ is the absolute temperature. Note that all energies are now allowed, but aren't weighted in a 'democratic' way (lower energy states are more probable).\n",
    "\n",
    "In the classical limit, the canonical partition function $Z(N,V,T)$ is\n",
    "\n",
    "$$\n",
    "Z(N,V,T) = \\frac{1}{N!} \\frac{1}{h^{3N}} \\int d{\\bf p}^N d{\\bf r}^N \\exp \\left[- \\beta H({\\bf p}^N,{\\bf r}^N) \\right].\n",
    "$$\n",
    "\n",
    "where the factor of $1/N!$ accounts for indistinguishability of particles, and the factor $h^{3N}$ is a measure of the the phase space volume per quantum state."
   ]
  },
  {
   "cell_type": "markdown",
   "metadata": {
    "nbgrader": {
     "grade": false,
     "grade_id": "cell-66620da88b06fd9e",
     "locked": true,
     "schema_version": 1,
     "solution": false
    },
    "slideshow": {
     "slide_type": "slide"
    }
   },
   "source": [
    "The thermodynamic potential for the canonical ensemble is the *Helmholtz free energy* $A(N,V,T)$, defined as\n",
    "\n",
    "$$\n",
    "A(N,V,T) = - k_B T \\ln Z(N,V,T),\n",
    "$$\n",
    "\n",
    "which is *minimized* in thermal equilibrium.\n",
    "\n",
    "MD simulations don't naturally sample the $NVT$ ensemble, but there are variants of the MD method that do, which we'll discuss later. *Monte Carlo methods* can also be used to sample states in a way consistent with the canonical ensemble, as we'll see shortly."
   ]
  },
  {
   "cell_type": "markdown",
   "metadata": {
    "nbgrader": {
     "grade": false,
     "grade_id": "cell-66620da88b06fd9e",
     "locked": true,
     "schema_version": 1,
     "solution": false
    },
    "slideshow": {
     "slide_type": "slide"
    }
   },
   "source": [
    "For most classical systems of interest, the Hamiltonian can be written in the form $H({\\bf p}^N,{\\bf r}^N) = K({\\bf p}^N) + U({\\bf r}^N)$, where the kinetic energy $K$ depends only on the momenta ${\\bf p}^N$ and the potential energy $U$ depends only on the coordinates ${\\bf r}^N$.\n",
    "\n",
    "In this case, the total canonical partition function factors into *ideal gas* and *interaction* contributions,\n",
    "\n",
    "$$\n",
    "Z(N,V,T) = \\frac{1}{N!} \\frac{1}{h^{3N}} \\int d{\\bf p}^N \\exp \\left[- \\beta K({\\bf p}^N) \\right]\n",
    "\\int d{\\bf r}^N \\exp \\left[- \\beta U({\\bf r}^N) \\right]\n",
    "$$\n",
    "\n",
    "$$\n",
    "= Z^\\mathrm{id}(N,V,T)\\ Z^\\mathrm{int}(N,V,T).\n",
    "$$"
   ]
  },
  {
   "cell_type": "markdown",
   "metadata": {
    "nbgrader": {
     "grade": false,
     "grade_id": "cell-66620da88b06fd9e",
     "locked": true,
     "schema_version": 1,
     "solution": false
    },
    "slideshow": {
     "slide_type": "slide"
    }
   },
   "source": [
    "Here, the (monatomic) *ideal gas* partition function is (after some algebra involving Gaussian integrals)\n",
    "\n",
    "$$\n",
    "Z^\\mathrm{id}(N,V,T) = \\frac{(V / \\Lambda^3)^N}{N!},\n",
    "$$\n",
    "\n",
    "and the *interaction* or *configurational* partition function is\n",
    "\n",
    "$$\n",
    "Z^\\mathrm{int}(N,V,T) = \\frac{1}{V^N} \\int d{\\bf r}^N e^{- \\beta U({\\bf r}^N)},\n",
    "$$\n",
    "\n",
    "where $V$ is the volume and $\\Lambda$ is the *thermal de Broglie wavelength*,\n",
    "\n",
    "$$\n",
    "\\Lambda = \\left( \\frac{h^2}{2 \\pi m k_B T} \\right)^{1/2}.\n",
    "$$\n",
    "\n",
    "Here, $m$ is the particle mass. Quantum effects can be neglected for $\\Lambda << a$, where $a = (V/N)^{1/3}$ is the characteristic interparticle spacing."
   ]
  },
  {
   "cell_type": "markdown",
   "metadata": {
    "nbgrader": {
     "grade": false,
     "grade_id": "cell-66620da88b06fd9e",
     "locked": true,
     "schema_version": 1,
     "solution": false
    },
    "slideshow": {
     "slide_type": "slide"
    }
   },
   "source": [
    "For interacting classical systems, the calculation of thermodynamic properties reduces to computation of the configurational partition function $Z^\\mathrm{int}$, which is a $3N$-dimensional integral.\n",
    "\n",
    "This is generally impossible to do directly, but it's possible to compute thermodynamic properties in the canonical ensemble using *Markov chain Monte Carlo* methods (*importance sampling*) or appropriately designed MD algorithms.\n",
    "\n",
    "We'll learn how to do this soon."
   ]
  },
  {
   "cell_type": "markdown",
   "metadata": {
    "nbgrader": {
     "grade": false,
     "grade_id": "cell-66620da88b06fd9e",
     "locked": true,
     "schema_version": 1,
     "solution": false
    },
    "slideshow": {
     "slide_type": "slide"
    }
   },
   "source": [
    "## 6.4 - Digression on Gaussian integrals\n",
    "\n",
    "Consider the integral\n",
    " \n",
    "$$\n",
    "I = \\int_{- \\infty}^\\infty dx\\ e^{- \\alpha x^2}.\n",
    "$$ \n",
    " \n",
    "We can write\n",
    " \n",
    "$$\n",
    "I^2 = \\left( \\int_{- \\infty}^\\infty dx\\ e^{- \\alpha x^2} \\right) \\left( \\int_{- \\infty}^\\infty dy\\ e^{- \\alpha y^2} \\right) \n",
    "= \\int_{- \\infty}^\\infty dx \\int_{- \\infty}^\\infty dy\\ e^{- \\alpha (x^2 + y^2)}\n",
    "$$\n",
    "\n",
    "$$\n",
    "= \\int_0^\\infty dr\\ r \\int_0^{2 \\pi} d\\phi \\ e^{- \\alpha r^2} = 2 \\pi \\int_0^\\infty dr\\ r \\ e^{- \\alpha r^2}\n",
    "$$\n",
    "\n",
    "$$\n",
    "= \\frac{\\pi}{\\alpha} \\int_0^\\infty dz\\ e^{-z} =  \\frac{\\pi}{\\alpha} \\left. \\left( - e^{-z} \\right) \\right\\rvert_0^\\infty = \\frac{\\pi}{\\alpha},\n",
    "$$"
   ]
  },
  {
   "cell_type": "markdown",
   "metadata": {
    "nbgrader": {
     "grade": false,
     "grade_id": "cell-66620da88b06fd9e",
     "locked": true,
     "schema_version": 1,
     "solution": false
    },
    "slideshow": {
     "slide_type": "slide"
    }
   },
   "source": [
    "so\n",
    "$$\n",
    "I = \\int_{- \\infty}^\\infty dx\\ e^{- \\alpha x^2} = \\sqrt{ \\frac{\\pi}{\\alpha} }\n",
    "$$\n",
    " \n",
    "From this we can immediately obtain\n",
    "$$\n",
    "\\int_{- \\infty}^\\infty dx\\ x^2 e^{- \\alpha x^2} = - \\frac{\\partial}{\\partial \\alpha} \\int_{- \\infty}^\\infty dx\\ e^{- \\alpha x^2}\n",
    "= - \\frac{\\partial}{\\partial \\alpha} \\sqrt{ \\frac{\\pi}{\\alpha} } = \\frac{1}{2} \\sqrt{ \\frac{\\pi}{\\alpha^3} }\n",
    "$$\n",
    " \n",
    "$\\int_{- \\infty}^{\\infty} x^n e^{- \\alpha x^2}$ for any even $n$ can be obtained by iterating this procedure. Odd powers of $n$ are even easier.\n"
   ]
  },
  {
   "cell_type": "markdown",
   "metadata": {
    "nbgrader": {
     "grade": false,
     "grade_id": "cell-66620da88b06fd9e",
     "locked": true,
     "schema_version": 1,
     "solution": false
    },
    "slideshow": {
     "slide_type": "slide"
    }
   },
   "source": [
    "## 6.5 - Classical equipartition theorem\n",
    "\n",
    "Let $x_\\alpha$ be a coordinate or a momentum component $p_\\alpha$ or $q_\\alpha$, and assume that the  Hamiltonian has a quadratic dependence on $x_\\alpha$:\n",
    "\n",
    "$$\n",
    "H(x^{6N}) = a x_\\alpha^2 + H^\\prime(x_{\\beta \\neq \\alpha}^{6N-1})\n",
    "$$\n",
    " \n",
    "The contribution of $x_\\alpha$ to the average energy is thus\n",
    "\n",
    "$$\n",
    "\\langle E_\\alpha \\rangle = \\langle a x_\\alpha^2 \\rangle\n",
    "= \\frac{\\int dx^{6N} a x_\\alpha^2\\ e^{- \\beta H(x^{6N})}}{\\int dx^{6N} e^{- \\beta H(x^{6N})}}\n",
    "= \\frac{a \\int_{-\\infty}^{\\infty} dx_\\alpha x_\\alpha^2\\ e^{- \\beta a x_\\alpha^2}}{\\int_{-\\infty}^{\\infty} dx_\\alpha e^{- \\beta a x_\\alpha^2}}\n",
    "$$\n",
    "$$\n",
    "= a \\frac{1}{2} \\sqrt{ \\frac{\\pi}{(\\beta a)^3} } \\sqrt{ \\frac{(\\beta a)}{\\pi} } = \\frac{1}{2 \\beta} = \\frac{1}{2} k_B T\n",
    "$$\n",
    "\n",
    "which is the classical equipartition theorem.\n",
    "\n",
    "Note that we've assumed *nothing* about the dependence of $H^\\prime$ on the remaining $6N - 1$ degrees of freedom; it need not be quadratic."
   ]
  },
  {
   "cell_type": "markdown",
   "metadata": {
    "nbgrader": {
     "grade": false,
     "grade_id": "cell-66620da88b06fd9e",
     "locked": true,
     "schema_version": 1,
     "solution": false
    },
    "slideshow": {
     "slide_type": "slide"
    }
   },
   "source": [
    "## 6.6 - Generalized equipartition theorem\n",
    "\n",
    "For classical systems, we can prove a more general result, the *generalized equipartition theorem*:\n",
    "\n",
    "$$\n",
    "\\left\\langle x_\\alpha \\frac{\\partial H}{\\partial x_\\alpha} \\right\\rangle = k_B T.\n",
    "$$\n",
    " \n",
    "Consider the integral\n",
    "\n",
    "$$\n",
    "I_\\alpha = \\int dx_\\alpha e^{-\\beta H(x^{6N})}.\n",
    "$$\n",
    "\n",
    "This can be integrated by parts to obtain:\n",
    "\n",
    "$$\n",
    "I_\\alpha = {\\left. x_\\alpha e^{-\\beta H(x^{6N})} \\right\\rvert_{x_\\alpha^-}^{x_\\alpha^+} }\n",
    "+ \\beta \\int dx_\\alpha\\ x_\\alpha \\frac{\\partial H}{\\partial x_\\alpha} e^{-\\beta H(x^{6N})}\n",
    "= \\beta \\int dx_\\alpha\\ x_\\alpha \\frac{\\partial H}{\\partial x_\\alpha} e^{-\\beta H(x^{6N})}.\n",
    "$$\n",
    "\n",
    "Note that the integrated term is assumed to vanish at the limits of integration."
   ]
  },
  {
   "cell_type": "markdown",
   "metadata": {
    "nbgrader": {
     "grade": false,
     "grade_id": "cell-66620da88b06fd9e",
     "locked": true,
     "schema_version": 1,
     "solution": false
    },
    "slideshow": {
     "slide_type": "slide"
    }
   },
   "source": [
    "Thus,\n",
    "\n",
    "$$\n",
    "\\frac{I_\\alpha}{I_\\alpha} = 1 = \\frac{\\beta \\int dx_\\alpha\\ x_\\alpha \\frac{\\partial H}{\\partial x_\\alpha} e^{-\\beta H(x^{6N})}}{\\int dx_\\alpha e^{-\\beta H(x^{6N})}}\n",
    "$$\n",
    "\n",
    "$$\n",
    "= \\frac{\\beta \\int dx^{6N}\\ x_\\alpha \\frac{\\partial H}{\\partial x_\\alpha} e^{-\\beta H(x^{6N})}}{\\int dx^{6N} e^{-\\beta H(x^{6N})}}\n",
    "= \\beta \\left\\langle x_\\alpha \\frac{\\partial H}{\\partial x_\\alpha} \\right\\rangle\n",
    "$$\n",
    "\n",
    "or\n",
    "\n",
    "$$\n",
    "\\left\\langle x_\\alpha \\frac{\\partial H}{\\partial x_\\alpha} \\right\\rangle = \\frac{1}{\\beta} = k_B T.\n",
    "$$\n",
    "\n",
    "This can be used to derive many useful results (e.g., the virial theorem).\n"
   ]
  },
  {
   "cell_type": "markdown",
   "metadata": {
    "nbgrader": {
     "grade": false,
     "grade_id": "cell-66620da88b06fd9e",
     "locked": true,
     "schema_version": 1,
     "solution": false
    },
    "slideshow": {
     "slide_type": "slide"
    }
   },
   "source": [
    "## 6.7 - Virial theorem\n",
    "\n",
    "We now choose Cartesian coordinates and make use of Hamilton's equations of motion and the generalized equipartition theorem to obtain:\n",
    "\n",
    "$$\n",
    "\\sum_{i=1}^N \\sum_{\\alpha=1}^3 \\left\\langle r_{i \\alpha} \\frac{\\partial H}{\\partial r_{i \\alpha}} \\right\\rangle\n",
    "= 3 N k_B T\n",
    "= \\sum_{i=1}^N \\sum_{\\alpha=1}^3 \\left\\langle r_{i \\alpha} \\frac{\\partial U}{\\partial r_{i \\alpha}} \\right\\rangle\n",
    "$$\n",
    "$$\n",
    "= - \\sum_{i=1}^N \\sum_{\\alpha=1}^3 \\left\\langle r_{i \\alpha} f_{i \\alpha}^{\\rm tot} \\right\\rangle\n",
    "= - \\left\\langle \\sum_{i=1}^N {\\bf r}_{i} \\cdot {\\bf f}_{i}^{\\rm tot} \\right\\rangle,\n",
    "$$\n",
    "\n",
    "where the total force ${\\bf f}_i^{\\rm tot}$ is the sum of intermolecular forces ${\\bf f}_i^{\\rm int}$ and external forces ${\\bf f}_i^{\\rm ext}$. This can be rearranged to obtain\n",
    "\n",
    "$$\n",
    "\\frac{1}{3} \\left\\langle \\sum_{i=1}^N {\\bf r}_{i} \\cdot {\\bf f}_{i}^{\\rm tot} \\right\\rangle\n",
    "= \\frac{1}{3} \\left\\langle \\sum_{i=1}^N {\\bf r}_{i} \\cdot {\\bf f}_{i}^{\\rm ext} \\right\\rangle\n",
    "+ \\frac{1}{3} \\left\\langle \\sum_{i=1}^N {\\bf r}_{i} \\cdot {\\bf f}_{i}^{\\rm int} \\right\\rangle\n",
    "= - N k_B T.\n",
    "$$\n"
   ]
  },
  {
   "cell_type": "markdown",
   "metadata": {
    "nbgrader": {
     "grade": false,
     "grade_id": "cell-66620da88b06fd9e",
     "locked": true,
     "schema_version": 1,
     "solution": false
    },
    "slideshow": {
     "slide_type": "slide"
    }
   },
   "source": [
    "If the external forces are exerted by the container walls, then the force exerted on the system by a surface element $dS$ located at ${\\bf r}$ is $- P {\\bf n} dS$, where ${\\bf n}$ is a unit vector normal to the surface and directed outwards, and its contribution to the average $\\langle \\sum_{i=1}^N {\\bf r}_{i} \\cdot {\\bf f}_{i}^{\\rm ext} \\rangle$ is $-P {\\bf r} \\cdot {\\bf n} dS$. Integrating over the surface and applying the divergence theorem then gives\n",
    "\n",
    "$$\n",
    "\\left\\langle \\sum_{i=1}^N {\\bf r}_{i} \\cdot {\\bf f}_{i}^{\\rm ext} \\right\\rangle = - P \\int {\\bf r} \\cdot {\\bf n} dS\n",
    "= - P \\int \\nabla \\cdot {\\bf r} dV = - 3 P V,\n",
    "$$\n",
    "\n",
    "so\n",
    "\n",
    "$$\n",
    "\\frac{1}{3} \\left\\langle \\sum_{i=1}^N {\\bf r}_i \\cdot {\\bf f}_i^{\\rm ext} \\right\\rangle\n",
    "= - PV.\n",
    "$$\n"
   ]
  },
  {
   "cell_type": "markdown",
   "metadata": {
    "nbgrader": {
     "grade": false,
     "grade_id": "cell-66620da88b06fd9e",
     "locked": true,
     "schema_version": 1,
     "solution": false
    },
    "slideshow": {
     "slide_type": "slide"
    }
   },
   "source": [
    "We now define the *internal virial* $W$ in terms of the intermolecular potential energy and forces:\n",
    "\n",
    "$$\n",
    "- \\frac{1}{3} \\sum_{i=1}^N {\\bf r}_i \\cdot \\nabla_{{\\bf r}_i} U^{\\rm int}\n",
    "= \\frac{1}{3} \\sum_{i=1}^N {\\bf r}_i \\cdot {\\bf f}_i^{\\rm int}\n",
    "= W.\n",
    "$$\n",
    "\n",
    "This leads to the following virial expression for the pressure,\n",
    "\n",
    "$$\n",
    "PV = N k_B T + \\langle W \\rangle.\n",
    "$$\n",
    "\n",
    "or\n",
    "\n",
    "$$\n",
    "P = \\frac{N k_B T}{V} + \\frac{1}{V} \\langle W \\rangle = P^\\mathrm{id} + P^\\mathrm{int}.\n",
    "$$\n",
    "\n"
   ]
  },
  {
   "cell_type": "markdown",
   "metadata": {
    "nbgrader": {
     "grade": false,
     "grade_id": "cell-66620da88b06fd9e",
     "locked": true,
     "schema_version": 1,
     "solution": false
    },
    "slideshow": {
     "slide_type": "slide"
    }
   },
   "source": [
    "## 6.8 - Virial theorem another way\n",
    "\n",
    "We can derive the same result in another way, via the thermodynamic identity\n",
    "\n",
    "$$\n",
    "P = - \\left( \\frac{\\partial A}{\\partial V} \\right)_{N,T},\n",
    "$$\n",
    "\n",
    "where $A(N,V,T)$ is the Helmholtz free energy (the thermodynamic potential for the canonical ensemble). This derivation will introduce the concept of *scaled coordinates*, which we'll make extensive use of later. Now recall that $A$ is defined in statistical mechanics by\n",
    "\n",
    "$$\n",
    "A(N,V,T) = - \\frac{1}{\\beta} \\ln Z(N,V,T),\n",
    "$$\n",
    "\n",
    "where $\\beta = (k_B T)^{-1}$ and $Z$ is the canonical partition function. Thus,\n",
    "\n",
    "$$\n",
    "P = \\frac{1}{\\beta} \\frac{\\partial \\ln Z}{\\partial V} = \\frac{1}{\\beta} \\frac{1}{Z} \\frac{\\partial Z}{\\partial V}\n",
    "$$"
   ]
  },
  {
   "cell_type": "markdown",
   "metadata": {
    "nbgrader": {
     "grade": false,
     "grade_id": "cell-66620da88b06fd9e",
     "locked": true,
     "schema_version": 1,
     "solution": false
    },
    "slideshow": {
     "slide_type": "slide"
    }
   },
   "source": [
    "Now recall that\n",
    "$$\n",
    "Z(N,V,T) = Z^\\mathrm{id}(N,V,T)\\ Z^\\mathrm{int}(N,V,T),\n",
    "$$\n",
    "\n",
    "where\n",
    "$$\n",
    "Z^\\mathrm{id}(N,V,T) = \\frac{(V / \\Lambda^3)^N}{N!} = V^N \\left( \\frac{\\Lambda^{3N}}{N!} \\right),\n",
    "$$\n",
    "\n",
    "and\n",
    "$$\n",
    "Z^\\mathrm{int}(N,V,T) = \\frac{1}{V^N} \\int d{\\bf r}^N e^{- \\beta U({\\bf r}^N)},\n",
    "$$\n",
    "\n",
    "so\n",
    "$$\n",
    "P = \\frac{1}{\\beta} \\frac{\\partial \\ln Z}{\\partial V}\n",
    "= \\frac{1}{\\beta} \\frac{1}{Z^\\mathrm{id}} \\frac{\\partial Z^\\mathrm{id}}{\\partial V}\n",
    "+ \\frac{1}{\\beta} \\frac{1}{Z^\\mathrm{int}} \\frac{\\partial Z^\\mathrm{int}}{\\partial V}\n",
    "\\equiv P^\\mathrm{id} + P^\\mathrm{int} \n",
    "$$"
   ]
  },
  {
   "cell_type": "markdown",
   "metadata": {
    "nbgrader": {
     "grade": false,
     "grade_id": "cell-66620da88b06fd9e",
     "locked": true,
     "schema_version": 1,
     "solution": false
    },
    "slideshow": {
     "slide_type": "slide"
    }
   },
   "source": [
    "Here\n",
    "\n",
    "$$\n",
    "P^\\mathrm{id} = \\frac{1}{\\beta} \\frac{1}{Z^\\mathrm{id}} \\frac{\\partial Z^\\mathrm{id}}{\\partial V}\n",
    "= \\frac{1}{\\beta} \\frac{1}{V^N} \\frac{\\partial V^N}{\\partial V} = \\frac{N}{\\beta V} = \\frac{N k_B T}{V},\n",
    "$$\n",
    "\n",
    "which is just the ideal gas equation of state. The interaction contribution to the pressure is\n",
    "\n",
    "$$\n",
    "P^\\mathrm{int} = \\frac{1}{\\beta} \\frac{1}{Z^\\mathrm{int}} \\frac{\\partial Z^\\mathrm{int}}{\\partial V},\n",
    "$$\n",
    "\n",
    "which can be evaluated by introducing *scaled coordinates* defined (for a cubic box) via $r_{i \\alpha} = L s_{i \\alpha}$, where $r_{i \\alpha}$ is the $\\alpha$th cartesian component of the position of particle $i$. If $-L/2 < r_{i \\alpha} \\leq L/2$, then the scaled coordinates lie within a unit cube: $-1/2 < s_{i \\alpha} \\leq 1/2$.\n",
    "\n",
    "A similar scaling transformation can be employed for a unit cell of arbitrary shape, not just a cubic cell. This will come in handy later, for applying periodic boundary conditions or in the implementation of fast cell search algorithms."
   ]
  },
  {
   "cell_type": "markdown",
   "metadata": {
    "nbgrader": {
     "grade": false,
     "grade_id": "cell-66620da88b06fd9e",
     "locked": true,
     "schema_version": 1,
     "solution": false
    },
    "slideshow": {
     "slide_type": "slide"
    }
   },
   "source": [
    "In scaled coordinates, the interaction partition function can be written\n",
    "\n",
    "$$\n",
    "Z^\\mathrm{int}(N,V,T) = \\frac{1}{V^N} \\int d{\\bf r}^N e^{- \\beta U({\\bf r}^N)}\n",
    "= \\int d{\\bf s}^N e^{- \\beta U({\\bf s}^N;L)} = \\int d{\\bf s}^N e^{- \\beta U({\\bf s}^N;V^{1/3})}\n",
    "$$\n",
    "\n",
    "where the dependence on $V$ in the Boltzmann factor comes in *implicitly* through $r_{i \\alpha} = L s_{i \\alpha} = V^{1/3} s_{i \\alpha}$. Thus,\n",
    "\n",
    "$$\n",
    "\\frac{\\partial Z^\\mathrm{int}}{\\partial V} = \\int d{\\bf s}^N \\left[ - \\beta \\frac{\\partial U}{\\partial V} \\right] e^{- \\beta U}\n",
    "= \\beta \\int d{\\bf s}^N \\left[ - \\sum_{i = 1}^N \\sum_{\\alpha = 1}^3\n",
    "\\frac{\\partial U}{\\partial r_{i \\alpha}} \\frac{\\partial r_{i \\alpha}}{\\partial V} \\right] e^{- \\beta U}\n",
    "$$\n",
    "$$\n",
    "= \\beta \\int d{\\bf s}^N \\left[ \\sum_{i = 1}^N \\sum_{\\alpha = 1}^3\n",
    "f_{i \\alpha} \\frac{1}{3} V^{-2/3} s_{i \\alpha} \\right] e^{- \\beta U}\n",
    "= \\beta \\int d{\\bf s}^N \\left[ \\frac{1}{3 V} \\sum_{i = 1}^N \\sum_{\\alpha = 1}^3\n",
    "f_{i \\alpha} r_{i \\alpha} \\right] e^{- \\beta U}\n",
    "$$\n",
    "$$\n",
    "= \\frac{\\beta}{V} \\frac{1}{V^N} \\int d{\\bf r}^N \\left[\\frac{1}{3} \\sum_{i = 1}^N\n",
    "{\\bf f}_i \\cdot {\\bf r}_i \\right] e^{- \\beta U}\n",
    "= \\frac{\\beta}{V} \\frac{1}{V^N} \\int d{\\bf r}^N W e^{- \\beta U},\n",
    "$$\n",
    "\n",
    "where $W = (1/3) \\sum_{i = 1}^N {\\bf r}_i \\cdot {\\bf f}_i$ is the virial defined above."
   ]
  },
  {
   "cell_type": "markdown",
   "metadata": {
    "nbgrader": {
     "grade": false,
     "grade_id": "cell-66620da88b06fd9e",
     "locked": true,
     "schema_version": 1,
     "solution": false
    },
    "slideshow": {
     "slide_type": "slide"
    }
   },
   "source": [
    "Thus,\n",
    "\n",
    "$$\n",
    "P^\\mathrm{int} = \\frac{1}{\\beta} \\frac{1}{Z^\\mathrm{int}} \\frac{\\partial Z^\\mathrm{int}}{\\partial V}\n",
    "= \\frac{1}{V} \\frac{1}{Z^\\mathrm{int}} \\frac{1}{V^N} \\int d{\\bf r}^N W e^{- \\beta U}\n",
    "= \\frac{1}{V} \\int d{\\bf r}^N W \\rho({\\bf r}^N) = \\frac{1}{V} \\langle W \\rangle\n",
    "$$\n",
    "\n",
    "where $\\rho({\\bf r}^N) = e^{- \\beta U({\\bf r}^N)} / Z^\\mathrm{int}$ is the configuration-space probability density in the canonical ensemble.\n",
    "\n",
    "Thus the total pressure is\n",
    "\n",
    "$$\n",
    "P = P^\\mathrm{id} + P^\\mathrm{int} = \\frac{N k_B T}{V} + \\frac{1}{V} \\langle W \\rangle,\n",
    "$$\n",
    "\n",
    "as shown earlier."
   ]
  },
  {
   "cell_type": "markdown",
   "metadata": {
    "nbgrader": {
     "grade": false,
     "grade_id": "cell-66620da88b06fd9e",
     "locked": true,
     "schema_version": 1,
     "solution": false
    },
    "slideshow": {
     "slide_type": "slide"
    }
   },
   "source": [
    "## 6.9 - Virial for pairwise interactions\n",
    "\n",
    "The virial $W$ defined above depends on the origin of the coordinate system. For systems of particles interacting through pair potentials, $W$ can be expressed in a form independent of the choice of origin, by writing ${\\bf f}_i$ as the sum of forces ${\\bf f}_{ij}$ on particle $i$ due to particle $j$,\n",
    "\n",
    "$$\n",
    "\\sum_{i = 1}^N {\\bf r}_i \\cdot {\\bf f}_i = \\sum_{i = 1}^N \\sum_{j \\neq i} {\\bf r}_i \\cdot {\\bf f}_{ij}\n",
    "= \\frac{1}{2} \\sum_{i = 1}^N \\sum_{j \\neq i} \\left( {\\bf r}_i \\cdot {\\bf f}_{ij} + {\\bf r}_j \\cdot {\\bf f}_{ji} \\right).\n",
    "$$\n",
    "\n",
    "But ${\\bf f}_{ij} = - {\\bf f}_{ij}$ (Newton's third law), so\n",
    "$$\n",
    "\\sum_{i = 1}^N {\\bf r}_i \\cdot {\\bf f}_i\n",
    "= \\frac{1}{2} \\sum_{i = 1}^N \\sum_{j \\neq i} {\\bf r}_{ij} \\cdot {\\bf f}_{ij}\n",
    "= \\sum_{i = 1}^N \\sum_{j > i} {\\bf r}_{ij} \\cdot {\\bf f}_{ij},\n",
    "$$\n",
    "where ${\\bf r}_{ij} = {\\bf r}_i - {\\bf r}_j$. The virial is therefore\n",
    "$$\n",
    "W = \\frac{1}{3} \\sum_{i = 1}^N \\sum_{j > i} {\\bf r}_{ij} \\cdot {\\bf f}_{ij}.\n",
    "$$\n",
    "It's essential to use this form for systems with periodic boundary conditions."
   ]
  },
  {
   "cell_type": "code",
   "execution_count": null,
   "metadata": {},
   "outputs": [],
   "source": []
  }
 ],
 "metadata": {
  "celltoolbar": "Slideshow",
  "kernelspec": {
   "display_name": "Python 3",
   "language": "python",
   "name": "python3"
  },
  "language_info": {
   "codemirror_mode": {
    "name": "ipython",
    "version": 3
   },
   "file_extension": ".py",
   "mimetype": "text/x-python",
   "name": "python",
   "nbconvert_exporter": "python",
   "pygments_lexer": "ipython3",
   "version": "3.6.5"
  }
 },
 "nbformat": 4,
 "nbformat_minor": 2
}
